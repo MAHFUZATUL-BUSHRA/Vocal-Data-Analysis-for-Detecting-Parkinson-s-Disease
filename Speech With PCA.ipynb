{
  "nbformat": 4,
  "nbformat_minor": 0,
  "metadata": {
    "colab": {
      "provenance": []
    },
    "kernelspec": {
      "name": "python3",
      "display_name": "Python 3"
    },
    "language_info": {
      "name": "python"
    }
  },
  "cells": [
    {
      "cell_type": "code",
      "source": [
        "from google.colab import drive\n",
        "drive.mount('/content/drive')"
      ],
      "metadata": {
        "colab": {
          "base_uri": "https://localhost:8080/"
        },
        "id": "hIwD2MN5eV8V",
        "outputId": "c2b96806-a48e-4886-a338-435fc2be0516"
      },
      "execution_count": null,
      "outputs": [
        {
          "output_type": "stream",
          "name": "stdout",
          "text": [
            "Drive already mounted at /content/drive; to attempt to forcibly remount, call drive.mount(\"/content/drive\", force_remount=True).\n"
          ]
        }
      ]
    },
    {
      "cell_type": "code",
      "source": [
        "import numpy as np\n",
        "import pandas as pd\n",
        "path=\"/content/drive/MyDrive/Colab Notebooks/pd_speech_features.csv\"\n",
        "PD=pd.read_csv(path)\n"
      ],
      "metadata": {
        "id": "Up0qUk_Goj13"
      },
      "execution_count": null,
      "outputs": []
    },
    {
      "cell_type": "code",
      "source": [
        "PD.head()"
      ],
      "metadata": {
        "colab": {
          "base_uri": "https://localhost:8080/",
          "height": 300
        },
        "id": "XqAlrDTE4x2c",
        "outputId": "26659dbc-4e5b-4cda-89e4-59d0caee9cad"
      },
      "execution_count": null,
      "outputs": [
        {
          "output_type": "execute_result",
          "data": {
            "text/plain": [
              "   id  gender      PPE      DFA     RPDE  numPulses  numPeriodsPulses  \\\n",
              "0   0       1  0.85247  0.71826  0.57227        240               239   \n",
              "1   0       1  0.76686  0.69481  0.53966        234               233   \n",
              "2   0       1  0.85083  0.67604  0.58982        232               231   \n",
              "3   1       0  0.41121  0.79672  0.59257        178               177   \n",
              "4   1       0  0.32790  0.79782  0.53028        236               235   \n",
              "\n",
              "   meanPeriodPulses  stdDevPeriodPulses  locPctJitter  ...  \\\n",
              "0          0.008064            0.000087       0.00218  ...   \n",
              "1          0.008258            0.000073       0.00195  ...   \n",
              "2          0.008340            0.000060       0.00176  ...   \n",
              "3          0.010858            0.000183       0.00419  ...   \n",
              "4          0.008162            0.002669       0.00535  ...   \n",
              "\n",
              "   tqwt_kurtosisValue_dec_28  tqwt_kurtosisValue_dec_29  \\\n",
              "0                     1.5620                     2.6445   \n",
              "1                     1.5589                     3.6107   \n",
              "2                     1.5643                     2.3308   \n",
              "3                     3.7805                     3.5664   \n",
              "4                     6.1727                     5.8416   \n",
              "\n",
              "   tqwt_kurtosisValue_dec_30  tqwt_kurtosisValue_dec_31  \\\n",
              "0                     3.8686                     4.2105   \n",
              "1                    23.5155                    14.1962   \n",
              "2                     9.4959                    10.7458   \n",
              "3                     5.2558                    14.0403   \n",
              "4                     6.0805                     5.7621   \n",
              "\n",
              "   tqwt_kurtosisValue_dec_32  tqwt_kurtosisValue_dec_33  \\\n",
              "0                     5.1221                     4.4625   \n",
              "1                    11.0261                     9.5082   \n",
              "2                    11.0177                     4.8066   \n",
              "3                     4.2235                     4.6857   \n",
              "4                     7.7817                    11.6891   \n",
              "\n",
              "   tqwt_kurtosisValue_dec_34  tqwt_kurtosisValue_dec_35  \\\n",
              "0                     2.6202                     3.0004   \n",
              "1                     6.5245                     6.3431   \n",
              "2                     2.9199                     3.1495   \n",
              "3                     4.8460                     6.2650   \n",
              "4                     8.2103                     5.0559   \n",
              "\n",
              "   tqwt_kurtosisValue_dec_36  Class  \n",
              "0                    18.9405      1  \n",
              "1                    45.1780      1  \n",
              "2                     4.7666      1  \n",
              "3                     4.0603      1  \n",
              "4                     6.1164      1  \n",
              "\n",
              "[5 rows x 755 columns]"
            ],
            "text/html": [
              "\n",
              "  <div id=\"df-111abafd-9990-46ec-b6e5-501d5cd16725\">\n",
              "    <div class=\"colab-df-container\">\n",
              "      <div>\n",
              "<style scoped>\n",
              "    .dataframe tbody tr th:only-of-type {\n",
              "        vertical-align: middle;\n",
              "    }\n",
              "\n",
              "    .dataframe tbody tr th {\n",
              "        vertical-align: top;\n",
              "    }\n",
              "\n",
              "    .dataframe thead th {\n",
              "        text-align: right;\n",
              "    }\n",
              "</style>\n",
              "<table border=\"1\" class=\"dataframe\">\n",
              "  <thead>\n",
              "    <tr style=\"text-align: right;\">\n",
              "      <th></th>\n",
              "      <th>id</th>\n",
              "      <th>gender</th>\n",
              "      <th>PPE</th>\n",
              "      <th>DFA</th>\n",
              "      <th>RPDE</th>\n",
              "      <th>numPulses</th>\n",
              "      <th>numPeriodsPulses</th>\n",
              "      <th>meanPeriodPulses</th>\n",
              "      <th>stdDevPeriodPulses</th>\n",
              "      <th>locPctJitter</th>\n",
              "      <th>...</th>\n",
              "      <th>tqwt_kurtosisValue_dec_28</th>\n",
              "      <th>tqwt_kurtosisValue_dec_29</th>\n",
              "      <th>tqwt_kurtosisValue_dec_30</th>\n",
              "      <th>tqwt_kurtosisValue_dec_31</th>\n",
              "      <th>tqwt_kurtosisValue_dec_32</th>\n",
              "      <th>tqwt_kurtosisValue_dec_33</th>\n",
              "      <th>tqwt_kurtosisValue_dec_34</th>\n",
              "      <th>tqwt_kurtosisValue_dec_35</th>\n",
              "      <th>tqwt_kurtosisValue_dec_36</th>\n",
              "      <th>Class</th>\n",
              "    </tr>\n",
              "  </thead>\n",
              "  <tbody>\n",
              "    <tr>\n",
              "      <th>0</th>\n",
              "      <td>0</td>\n",
              "      <td>1</td>\n",
              "      <td>0.85247</td>\n",
              "      <td>0.71826</td>\n",
              "      <td>0.57227</td>\n",
              "      <td>240</td>\n",
              "      <td>239</td>\n",
              "      <td>0.008064</td>\n",
              "      <td>0.000087</td>\n",
              "      <td>0.00218</td>\n",
              "      <td>...</td>\n",
              "      <td>1.5620</td>\n",
              "      <td>2.6445</td>\n",
              "      <td>3.8686</td>\n",
              "      <td>4.2105</td>\n",
              "      <td>5.1221</td>\n",
              "      <td>4.4625</td>\n",
              "      <td>2.6202</td>\n",
              "      <td>3.0004</td>\n",
              "      <td>18.9405</td>\n",
              "      <td>1</td>\n",
              "    </tr>\n",
              "    <tr>\n",
              "      <th>1</th>\n",
              "      <td>0</td>\n",
              "      <td>1</td>\n",
              "      <td>0.76686</td>\n",
              "      <td>0.69481</td>\n",
              "      <td>0.53966</td>\n",
              "      <td>234</td>\n",
              "      <td>233</td>\n",
              "      <td>0.008258</td>\n",
              "      <td>0.000073</td>\n",
              "      <td>0.00195</td>\n",
              "      <td>...</td>\n",
              "      <td>1.5589</td>\n",
              "      <td>3.6107</td>\n",
              "      <td>23.5155</td>\n",
              "      <td>14.1962</td>\n",
              "      <td>11.0261</td>\n",
              "      <td>9.5082</td>\n",
              "      <td>6.5245</td>\n",
              "      <td>6.3431</td>\n",
              "      <td>45.1780</td>\n",
              "      <td>1</td>\n",
              "    </tr>\n",
              "    <tr>\n",
              "      <th>2</th>\n",
              "      <td>0</td>\n",
              "      <td>1</td>\n",
              "      <td>0.85083</td>\n",
              "      <td>0.67604</td>\n",
              "      <td>0.58982</td>\n",
              "      <td>232</td>\n",
              "      <td>231</td>\n",
              "      <td>0.008340</td>\n",
              "      <td>0.000060</td>\n",
              "      <td>0.00176</td>\n",
              "      <td>...</td>\n",
              "      <td>1.5643</td>\n",
              "      <td>2.3308</td>\n",
              "      <td>9.4959</td>\n",
              "      <td>10.7458</td>\n",
              "      <td>11.0177</td>\n",
              "      <td>4.8066</td>\n",
              "      <td>2.9199</td>\n",
              "      <td>3.1495</td>\n",
              "      <td>4.7666</td>\n",
              "      <td>1</td>\n",
              "    </tr>\n",
              "    <tr>\n",
              "      <th>3</th>\n",
              "      <td>1</td>\n",
              "      <td>0</td>\n",
              "      <td>0.41121</td>\n",
              "      <td>0.79672</td>\n",
              "      <td>0.59257</td>\n",
              "      <td>178</td>\n",
              "      <td>177</td>\n",
              "      <td>0.010858</td>\n",
              "      <td>0.000183</td>\n",
              "      <td>0.00419</td>\n",
              "      <td>...</td>\n",
              "      <td>3.7805</td>\n",
              "      <td>3.5664</td>\n",
              "      <td>5.2558</td>\n",
              "      <td>14.0403</td>\n",
              "      <td>4.2235</td>\n",
              "      <td>4.6857</td>\n",
              "      <td>4.8460</td>\n",
              "      <td>6.2650</td>\n",
              "      <td>4.0603</td>\n",
              "      <td>1</td>\n",
              "    </tr>\n",
              "    <tr>\n",
              "      <th>4</th>\n",
              "      <td>1</td>\n",
              "      <td>0</td>\n",
              "      <td>0.32790</td>\n",
              "      <td>0.79782</td>\n",
              "      <td>0.53028</td>\n",
              "      <td>236</td>\n",
              "      <td>235</td>\n",
              "      <td>0.008162</td>\n",
              "      <td>0.002669</td>\n",
              "      <td>0.00535</td>\n",
              "      <td>...</td>\n",
              "      <td>6.1727</td>\n",
              "      <td>5.8416</td>\n",
              "      <td>6.0805</td>\n",
              "      <td>5.7621</td>\n",
              "      <td>7.7817</td>\n",
              "      <td>11.6891</td>\n",
              "      <td>8.2103</td>\n",
              "      <td>5.0559</td>\n",
              "      <td>6.1164</td>\n",
              "      <td>1</td>\n",
              "    </tr>\n",
              "  </tbody>\n",
              "</table>\n",
              "<p>5 rows × 755 columns</p>\n",
              "</div>\n",
              "      <button class=\"colab-df-convert\" onclick=\"convertToInteractive('df-111abafd-9990-46ec-b6e5-501d5cd16725')\"\n",
              "              title=\"Convert this dataframe to an interactive table.\"\n",
              "              style=\"display:none;\">\n",
              "        \n",
              "  <svg xmlns=\"http://www.w3.org/2000/svg\" height=\"24px\"viewBox=\"0 0 24 24\"\n",
              "       width=\"24px\">\n",
              "    <path d=\"M0 0h24v24H0V0z\" fill=\"none\"/>\n",
              "    <path d=\"M18.56 5.44l.94 2.06.94-2.06 2.06-.94-2.06-.94-.94-2.06-.94 2.06-2.06.94zm-11 1L8.5 8.5l.94-2.06 2.06-.94-2.06-.94L8.5 2.5l-.94 2.06-2.06.94zm10 10l.94 2.06.94-2.06 2.06-.94-2.06-.94-.94-2.06-.94 2.06-2.06.94z\"/><path d=\"M17.41 7.96l-1.37-1.37c-.4-.4-.92-.59-1.43-.59-.52 0-1.04.2-1.43.59L10.3 9.45l-7.72 7.72c-.78.78-.78 2.05 0 2.83L4 21.41c.39.39.9.59 1.41.59.51 0 1.02-.2 1.41-.59l7.78-7.78 2.81-2.81c.8-.78.8-2.07 0-2.86zM5.41 20L4 18.59l7.72-7.72 1.47 1.35L5.41 20z\"/>\n",
              "  </svg>\n",
              "      </button>\n",
              "      \n",
              "  <style>\n",
              "    .colab-df-container {\n",
              "      display:flex;\n",
              "      flex-wrap:wrap;\n",
              "      gap: 12px;\n",
              "    }\n",
              "\n",
              "    .colab-df-convert {\n",
              "      background-color: #E8F0FE;\n",
              "      border: none;\n",
              "      border-radius: 50%;\n",
              "      cursor: pointer;\n",
              "      display: none;\n",
              "      fill: #1967D2;\n",
              "      height: 32px;\n",
              "      padding: 0 0 0 0;\n",
              "      width: 32px;\n",
              "    }\n",
              "\n",
              "    .colab-df-convert:hover {\n",
              "      background-color: #E2EBFA;\n",
              "      box-shadow: 0px 1px 2px rgba(60, 64, 67, 0.3), 0px 1px 3px 1px rgba(60, 64, 67, 0.15);\n",
              "      fill: #174EA6;\n",
              "    }\n",
              "\n",
              "    [theme=dark] .colab-df-convert {\n",
              "      background-color: #3B4455;\n",
              "      fill: #D2E3FC;\n",
              "    }\n",
              "\n",
              "    [theme=dark] .colab-df-convert:hover {\n",
              "      background-color: #434B5C;\n",
              "      box-shadow: 0px 1px 3px 1px rgba(0, 0, 0, 0.15);\n",
              "      filter: drop-shadow(0px 1px 2px rgba(0, 0, 0, 0.3));\n",
              "      fill: #FFFFFF;\n",
              "    }\n",
              "  </style>\n",
              "\n",
              "      <script>\n",
              "        const buttonEl =\n",
              "          document.querySelector('#df-111abafd-9990-46ec-b6e5-501d5cd16725 button.colab-df-convert');\n",
              "        buttonEl.style.display =\n",
              "          google.colab.kernel.accessAllowed ? 'block' : 'none';\n",
              "\n",
              "        async function convertToInteractive(key) {\n",
              "          const element = document.querySelector('#df-111abafd-9990-46ec-b6e5-501d5cd16725');\n",
              "          const dataTable =\n",
              "            await google.colab.kernel.invokeFunction('convertToInteractive',\n",
              "                                                     [key], {});\n",
              "          if (!dataTable) return;\n",
              "\n",
              "          const docLinkHtml = 'Like what you see? Visit the ' +\n",
              "            '<a target=\"_blank\" href=https://colab.research.google.com/notebooks/data_table.ipynb>data table notebook</a>'\n",
              "            + ' to learn more about interactive tables.';\n",
              "          element.innerHTML = '';\n",
              "          dataTable['output_type'] = 'display_data';\n",
              "          await google.colab.output.renderOutput(dataTable, element);\n",
              "          const docLink = document.createElement('div');\n",
              "          docLink.innerHTML = docLinkHtml;\n",
              "          element.appendChild(docLink);\n",
              "        }\n",
              "      </script>\n",
              "    </div>\n",
              "  </div>\n",
              "  "
            ]
          },
          "metadata": {},
          "execution_count": 101
        }
      ]
    },
    {
      "cell_type": "code",
      "source": [
        "PD.columns"
      ],
      "metadata": {
        "colab": {
          "base_uri": "https://localhost:8080/"
        },
        "id": "CVY_rGIuL3gz",
        "outputId": "9b6328ea-a60c-4b32-d949-8526a11e7331"
      },
      "execution_count": null,
      "outputs": [
        {
          "output_type": "execute_result",
          "data": {
            "text/plain": [
              "Index(['id', 'gender', 'PPE', 'DFA', 'RPDE', 'numPulses', 'numPeriodsPulses',\n",
              "       'meanPeriodPulses', 'stdDevPeriodPulses', 'locPctJitter',\n",
              "       ...\n",
              "       'tqwt_kurtosisValue_dec_28', 'tqwt_kurtosisValue_dec_29',\n",
              "       'tqwt_kurtosisValue_dec_30', 'tqwt_kurtosisValue_dec_31',\n",
              "       'tqwt_kurtosisValue_dec_32', 'tqwt_kurtosisValue_dec_33',\n",
              "       'tqwt_kurtosisValue_dec_34', 'tqwt_kurtosisValue_dec_35',\n",
              "       'tqwt_kurtosisValue_dec_36', 'Class'],\n",
              "      dtype='object', length=755)"
            ]
          },
          "metadata": {},
          "execution_count": 417
        }
      ]
    },
    {
      "cell_type": "code",
      "source": [
        "PD.info()"
      ],
      "metadata": {
        "colab": {
          "base_uri": "https://localhost:8080/"
        },
        "id": "E5Zw6NvsMMTu",
        "outputId": "54f99c30-c47e-4f7a-adbb-97d9aa3672fd"
      },
      "execution_count": null,
      "outputs": [
        {
          "output_type": "stream",
          "name": "stdout",
          "text": [
            "<class 'pandas.core.frame.DataFrame'>\n",
            "RangeIndex: 756 entries, 0 to 755\n",
            "Columns: 755 entries, id to Class\n",
            "dtypes: float64(749), int64(6)\n",
            "memory usage: 4.4 MB\n"
          ]
        }
      ]
    },
    {
      "cell_type": "code",
      "source": [
        "PD.isnull().sum()"
      ],
      "metadata": {
        "colab": {
          "base_uri": "https://localhost:8080/"
        },
        "outputId": "40019a6e-cb80-456c-cdcf-70649b30281f",
        "id": "SwgJmbSUMRf1"
      },
      "execution_count": null,
      "outputs": [
        {
          "output_type": "execute_result",
          "data": {
            "text/plain": [
              "id                           0\n",
              "gender                       0\n",
              "PPE                          0\n",
              "DFA                          0\n",
              "RPDE                         0\n",
              "                            ..\n",
              "tqwt_kurtosisValue_dec_33    0\n",
              "tqwt_kurtosisValue_dec_34    0\n",
              "tqwt_kurtosisValue_dec_35    0\n",
              "tqwt_kurtosisValue_dec_36    0\n",
              "Class                        0\n",
              "Length: 755, dtype: int64"
            ]
          },
          "metadata": {},
          "execution_count": 419
        }
      ]
    },
    {
      "cell_type": "code",
      "source": [
        "import pandas as pd\n",
        "import numpy as np\n",
        "import matplotlib as mpl"
      ],
      "metadata": {
        "id": "xmrXVINT9dj8"
      },
      "execution_count": null,
      "outputs": []
    },
    {
      "cell_type": "code",
      "source": [
        "sns.countplot(PD['Class'])\n",
        "sns.countplot(PD['numPulses'])\n",
        "sns.histplot(PD['tqwt_kurtosisValue_dec_35'],kde=True)"
      ],
      "metadata": {
        "colab": {
          "base_uri": "https://localhost:8080/",
          "height": 467
        },
        "id": "r4MKjYTUwa92",
        "outputId": "aeee57b9-aac7-4e95-a9ae-1a571e3af7f6"
      },
      "execution_count": null,
      "outputs": [
        {
          "output_type": "execute_result",
          "data": {
            "text/plain": [
              "<Axes: xlabel='tqwt_kurtosisValue_dec_35', ylabel='count'>"
            ]
          },
          "metadata": {},
          "execution_count": 64
        },
        {
          "output_type": "display_data",
          "data": {
            "text/plain": [
              "<Figure size 640x480 with 1 Axes>"
            ],
            "image/png": "[encoded data removed]"
          },
          "metadata": {}
        }
      ]
    },
    {
      "cell_type": "code",
      "source": [
        "sns.kdeplot(PD['numPulses'])"
      ],
      "metadata": {
        "colab": {
          "base_uri": "https://localhost:8080/",
          "height": 466
        },
        "id": "DZfbobfOywrg",
        "outputId": "e2a0d88e-4b9a-45eb-eb95-ae666c8a3cbf"
      },
      "execution_count": null,
      "outputs": [
        {
          "output_type": "execute_result",
          "data": {
            "text/plain": [
              "<Axes: xlabel='numPulses', ylabel='Density'>"
            ]
          },
          "metadata": {},
          "execution_count": 65
        },
        {
          "output_type": "display_data",
          "data": {
            "text/plain": [
              "<Figure size 640x480 with 1 Axes>"
            ],
            "image/png": "[encoded data removed]"
          },
          "metadata": {}
        }
      ]
    },
    {
      "cell_type": "code",
      "source": [
        "PD.describe()"
      ],
      "metadata": {
        "colab": {
          "base_uri": "https://localhost:8080/",
          "height": 394
        },
        "id": "RW4Wj9u949Jm",
        "outputId": "2bd83836-bd50-4629-a9f6-6f4e40a6e571"
      },
      "execution_count": null,
      "outputs": [
        {
          "output_type": "execute_result",
          "data": {
            "text/plain": [
              "               id      gender         PPE         DFA        RPDE   numPulses  \\\n",
              "count  756.000000  756.000000  756.000000  756.000000  756.000000  756.000000   \n",
              "mean   125.500000    0.515873    0.746284    0.700414    0.489058  323.972222   \n",
              "std     72.793721    0.500079    0.169294    0.069718    0.137442   99.219059   \n",
              "min      0.000000    0.000000    0.041551    0.543500    0.154300    2.000000   \n",
              "25%     62.750000    0.000000    0.762833    0.647053    0.386537  251.000000   \n",
              "50%    125.500000    1.000000    0.809655    0.700525    0.484355  317.000000   \n",
              "75%    188.250000    1.000000    0.834315    0.754985    0.586515  384.250000   \n",
              "max    251.000000    1.000000    0.907660    0.852640    0.871230  907.000000   \n",
              "\n",
              "       numPeriodsPulses  meanPeriodPulses  stdDevPeriodPulses  locPctJitter  \\\n",
              "count        756.000000        756.000000          756.000000    756.000000   \n",
              "mean         322.678571          0.006360            0.000383      0.002324   \n",
              "std           99.402499          0.001826            0.000728      0.002628   \n",
              "min            1.000000          0.002107            0.000011      0.000210   \n",
              "25%          250.000000          0.005003            0.000049      0.000970   \n",
              "50%          316.000000          0.006048            0.000077      0.001495   \n",
              "75%          383.250000          0.007528            0.000171      0.002520   \n",
              "max          905.000000          0.012966            0.003483      0.027750   \n",
              "\n",
              "       ...  tqwt_kurtosisValue_dec_28  tqwt_kurtosisValue_dec_29  \\\n",
              "count  ...                 756.000000                 756.000000   \n",
              "mean   ...                  26.237251                  22.840337   \n",
              "std    ...                  42.220693                  32.626464   \n",
              "min    ...                   1.509800                   1.531700   \n",
              "25%    ...                   2.408675                   3.452800   \n",
              "50%    ...                   5.586300                   7.062750   \n",
              "75%    ...                  28.958075                  29.830850   \n",
              "max    ...                 239.788800                 203.311300   \n",
              "\n",
              "       tqwt_kurtosisValue_dec_30  tqwt_kurtosisValue_dec_31  \\\n",
              "count                 756.000000                 756.000000   \n",
              "mean                   18.587888                  13.872018   \n",
              "std                    25.537464                  20.046029   \n",
              "min                     1.582900                   1.747200   \n",
              "25%                     3.354825                   3.077450   \n",
              "50%                     6.077400                   4.770850   \n",
              "75%                    21.944050                  13.188000   \n",
              "max                   121.542900                 102.207000   \n",
              "\n",
              "       tqwt_kurtosisValue_dec_32  tqwt_kurtosisValue_dec_33  \\\n",
              "count                 756.000000                 756.000000   \n",
              "mean                   12.218953                  12.375335   \n",
              "std                    17.783642                  16.341665   \n",
              "min                     1.789500                   1.628700   \n",
              "25%                     2.937025                   3.114375   \n",
              "50%                     4.300450                   4.741450   \n",
              "75%                    10.876150                  12.201325   \n",
              "max                    85.571700                  73.532200   \n",
              "\n",
              "       tqwt_kurtosisValue_dec_34  tqwt_kurtosisValue_dec_35  \\\n",
              "count                 756.000000                 756.000000   \n",
              "mean                   14.799230                  14.751559   \n",
              "std                    15.722502                  14.432979   \n",
              "min                     1.861700                   1.955900   \n",
              "25%                     3.665925                   3.741275   \n",
              "50%                     6.725700                   7.334250   \n",
              "75%                    21.922050                  22.495175   \n",
              "max                    62.007300                  57.544300   \n",
              "\n",
              "       tqwt_kurtosisValue_dec_36       Class  \n",
              "count                 756.000000  756.000000  \n",
              "mean                   31.481110    0.746032  \n",
              "std                    34.230991    0.435568  \n",
              "min                     2.364000    0.000000  \n",
              "25%                     3.948750    0.000000  \n",
              "50%                    10.637250    1.000000  \n",
              "75%                    61.125325    1.000000  \n",
              "max                   156.423700    1.000000  \n",
              "\n",
              "[8 rows x 755 columns]"
            ],
            "text/html": [
              "\n",
              "  <div id=\"df-2e8cdfc6-fce2-4502-910d-13eee8ccf016\">\n",
              "    <div class=\"colab-df-container\">\n",
              "      <div>\n",
              "<style scoped>\n",
              "    .dataframe tbody tr th:only-of-type {\n",
              "        vertical-align: middle;\n",
              "    }\n",
              "\n",
              "    .dataframe tbody tr th {\n",
              "        vertical-align: top;\n",
              "    }\n",
              "\n",
              "    .dataframe thead th {\n",
              "        text-align: right;\n",
              "    }\n",
              "</style>\n",
              "<table border=\"1\" class=\"dataframe\">\n",
              "  <thead>\n",
              "    <tr style=\"text-align: right;\">\n",
              "      <th></th>\n",
              "      <th>id</th>\n",
              "      <th>gender</th>\n",
              "      <th>PPE</th>\n",
              "      <th>DFA</th>\n",
              "      <th>RPDE</th>\n",
              "      <th>numPulses</th>\n",
              "      <th>numPeriodsPulses</th>\n",
              "      <th>meanPeriodPulses</th>\n",
              "      <th>stdDevPeriodPulses</th>\n",
              "      <th>locPctJitter</th>\n",
              "      <th>...</th>\n",
              "      <th>tqwt_kurtosisValue_dec_28</th>\n",
              "      <th>tqwt_kurtosisValue_dec_29</th>\n",
              "      <th>tqwt_kurtosisValue_dec_30</th>\n",
              "      <th>tqwt_kurtosisValue_dec_31</th>\n",
              "      <th>tqwt_kurtosisValue_dec_32</th>\n",
              "      <th>tqwt_kurtosisValue_dec_33</th>\n",
              "      <th>tqwt_kurtosisValue_dec_34</th>\n",
              "      <th>tqwt_kurtosisValue_dec_35</th>\n",
              "      <th>tqwt_kurtosisValue_dec_36</th>\n",
              "      <th>Class</th>\n",
              "    </tr>\n",
              "  </thead>\n",
              "  <tbody>\n",
              "    <tr>\n",
              "      <th>count</th>\n",
              "      <td>756.000000</td>\n",
              "      <td>756.000000</td>\n",
              "      <td>756.000000</td>\n",
              "      <td>756.000000</td>\n",
              "      <td>756.000000</td>\n",
              "      <td>756.000000</td>\n",
              "      <td>756.000000</td>\n",
              "      <td>756.000000</td>\n",
              "      <td>756.000000</td>\n",
              "      <td>756.000000</td>\n",
              "      <td>...</td>\n",
              "      <td>756.000000</td>\n",
              "      <td>756.000000</td>\n",
              "      <td>756.000000</td>\n",
              "      <td>756.000000</td>\n",
              "      <td>756.000000</td>\n",
              "      <td>756.000000</td>\n",
              "      <td>756.000000</td>\n",
              "      <td>756.000000</td>\n",
              "      <td>756.000000</td>\n",
              "      <td>756.000000</td>\n",
              "    </tr>\n",
              "    <tr>\n",
              "      <th>mean</th>\n",
              "      <td>125.500000</td>\n",
              "      <td>0.515873</td>\n",
              "      <td>0.746284</td>\n",
              "      <td>0.700414</td>\n",
              "      <td>0.489058</td>\n",
              "      <td>323.972222</td>\n",
              "      <td>322.678571</td>\n",
              "      <td>0.006360</td>\n",
              "      <td>0.000383</td>\n",
              "      <td>0.002324</td>\n",
              "      <td>...</td>\n",
              "      <td>26.237251</td>\n",
              "      <td>22.840337</td>\n",
              "      <td>18.587888</td>\n",
              "      <td>13.872018</td>\n",
              "      <td>12.218953</td>\n",
              "      <td>12.375335</td>\n",
              "      <td>14.799230</td>\n",
              "      <td>14.751559</td>\n",
              "      <td>31.481110</td>\n",
              "      <td>0.746032</td>\n",
              "    </tr>\n",
              "    <tr>\n",
              "      <th>std</th>\n",
              "      <td>72.793721</td>\n",
              "      <td>0.500079</td>\n",
              "      <td>0.169294</td>\n",
              "      <td>0.069718</td>\n",
              "      <td>0.137442</td>\n",
              "      <td>99.219059</td>\n",
              "      <td>99.402499</td>\n",
              "      <td>0.001826</td>\n",
              "      <td>0.000728</td>\n",
              "      <td>0.002628</td>\n",
              "      <td>...</td>\n",
              "      <td>42.220693</td>\n",
              "      <td>32.626464</td>\n",
              "      <td>25.537464</td>\n",
              "      <td>20.046029</td>\n",
              "      <td>17.783642</td>\n",
              "      <td>16.341665</td>\n",
              "      <td>15.722502</td>\n",
              "      <td>14.432979</td>\n",
              "      <td>34.230991</td>\n",
              "      <td>0.435568</td>\n",
              "    </tr>\n",
              "    <tr>\n",
              "      <th>min</th>\n",
              "      <td>0.000000</td>\n",
              "      <td>0.000000</td>\n",
              "      <td>0.041551</td>\n",
              "      <td>0.543500</td>\n",
              "      <td>0.154300</td>\n",
              "      <td>2.000000</td>\n",
              "      <td>1.000000</td>\n",
              "      <td>0.002107</td>\n",
              "      <td>0.000011</td>\n",
              "      <td>0.000210</td>\n",
              "      <td>...</td>\n",
              "      <td>1.509800</td>\n",
              "      <td>1.531700</td>\n",
              "      <td>1.582900</td>\n",
              "      <td>1.747200</td>\n",
              "      <td>1.789500</td>\n",
              "      <td>1.628700</td>\n",
              "      <td>1.861700</td>\n",
              "      <td>1.955900</td>\n",
              "      <td>2.364000</td>\n",
              "      <td>0.000000</td>\n",
              "    </tr>\n",
              "    <tr>\n",
              "      <th>25%</th>\n",
              "      <td>62.750000</td>\n",
              "      <td>0.000000</td>\n",
              "      <td>0.762833</td>\n",
              "      <td>0.647053</td>\n",
              "      <td>0.386537</td>\n",
              "      <td>251.000000</td>\n",
              "      <td>250.000000</td>\n",
              "      <td>0.005003</td>\n",
              "      <td>0.000049</td>\n",
              "      <td>0.000970</td>\n",
              "      <td>...</td>\n",
              "      <td>2.408675</td>\n",
              "      <td>3.452800</td>\n",
              "      <td>3.354825</td>\n",
              "      <td>3.077450</td>\n",
              "      <td>2.937025</td>\n",
              "      <td>3.114375</td>\n",
              "      <td>3.665925</td>\n",
              "      <td>3.741275</td>\n",
              "      <td>3.948750</td>\n",
              "      <td>0.000000</td>\n",
              "    </tr>\n",
              "    <tr>\n",
              "      <th>50%</th>\n",
              "      <td>125.500000</td>\n",
              "      <td>1.000000</td>\n",
              "      <td>0.809655</td>\n",
              "      <td>0.700525</td>\n",
              "      <td>0.484355</td>\n",
              "      <td>317.000000</td>\n",
              "      <td>316.000000</td>\n",
              "      <td>0.006048</td>\n",
              "      <td>0.000077</td>\n",
              "      <td>0.001495</td>\n",
              "      <td>...</td>\n",
              "      <td>5.586300</td>\n",
              "      <td>7.062750</td>\n",
              "      <td>6.077400</td>\n",
              "      <td>4.770850</td>\n",
              "      <td>4.300450</td>\n",
              "      <td>4.741450</td>\n",
              "      <td>6.725700</td>\n",
              "      <td>7.334250</td>\n",
              "      <td>10.637250</td>\n",
              "      <td>1.000000</td>\n",
              "    </tr>\n",
              "    <tr>\n",
              "      <th>75%</th>\n",
              "      <td>188.250000</td>\n",
              "      <td>1.000000</td>\n",
              "      <td>0.834315</td>\n",
              "      <td>0.754985</td>\n",
              "      <td>0.586515</td>\n",
              "      <td>384.250000</td>\n",
              "      <td>383.250000</td>\n",
              "      <td>0.007528</td>\n",
              "      <td>0.000171</td>\n",
              "      <td>0.002520</td>\n",
              "      <td>...</td>\n",
              "      <td>28.958075</td>\n",
              "      <td>29.830850</td>\n",
              "      <td>21.944050</td>\n",
              "      <td>13.188000</td>\n",
              "      <td>10.876150</td>\n",
              "      <td>12.201325</td>\n",
              "      <td>21.922050</td>\n",
              "      <td>22.495175</td>\n",
              "      <td>61.125325</td>\n",
              "      <td>1.000000</td>\n",
              "    </tr>\n",
              "    <tr>\n",
              "      <th>max</th>\n",
              "      <td>251.000000</td>\n",
              "      <td>1.000000</td>\n",
              "      <td>0.907660</td>\n",
              "      <td>0.852640</td>\n",
              "      <td>0.871230</td>\n",
              "      <td>907.000000</td>\n",
              "      <td>905.000000</td>\n",
              "      <td>0.012966</td>\n",
              "      <td>0.003483</td>\n",
              "      <td>0.027750</td>\n",
              "      <td>...</td>\n",
              "      <td>239.788800</td>\n",
              "      <td>203.311300</td>\n",
              "      <td>121.542900</td>\n",
              "      <td>102.207000</td>\n",
              "      <td>85.571700</td>\n",
              "      <td>73.532200</td>\n",
              "      <td>62.007300</td>\n",
              "      <td>57.544300</td>\n",
              "      <td>156.423700</td>\n",
              "      <td>1.000000</td>\n",
              "    </tr>\n",
              "  </tbody>\n",
              "</table>\n",
              "<p>8 rows × 755 columns</p>\n",
              "</div>\n",
              "      <button class=\"colab-df-convert\" onclick=\"convertToInteractive('df-2e8cdfc6-fce2-4502-910d-13eee8ccf016')\"\n",
              "              title=\"Convert this dataframe to an interactive table.\"\n",
              "              style=\"display:none;\">\n",
              "        \n",
              "  <svg xmlns=\"http://www.w3.org/2000/svg\" height=\"24px\"viewBox=\"0 0 24 24\"\n",
              "       width=\"24px\">\n",
              "    <path d=\"M0 0h24v24H0V0z\" fill=\"none\"/>\n",
              "    <path d=\"M18.56 5.44l.94 2.06.94-2.06 2.06-.94-2.06-.94-.94-2.06-.94 2.06-2.06.94zm-11 1L8.5 8.5l.94-2.06 2.06-.94-2.06-.94L8.5 2.5l-.94 2.06-2.06.94zm10 10l.94 2.06.94-2.06 2.06-.94-2.06-.94-.94-2.06-.94 2.06-2.06.94z\"/><path d=\"M17.41 7.96l-1.37-1.37c-.4-.4-.92-.59-1.43-.59-.52 0-1.04.2-1.43.59L10.3 9.45l-7.72 7.72c-.78.78-.78 2.05 0 2.83L4 21.41c.39.39.9.59 1.41.59.51 0 1.02-.2 1.41-.59l7.78-7.78 2.81-2.81c.8-.78.8-2.07 0-2.86zM5.41 20L4 18.59l7.72-7.72 1.47 1.35L5.41 20z\"/>\n",
              "  </svg>\n",
              "      </button>\n",
              "      \n",
              "  <style>\n",
              "    .colab-df-container {\n",
              "      display:flex;\n",
              "      flex-wrap:wrap;\n",
              "      gap: 12px;\n",
              "    }\n",
              "\n",
              "    .colab-df-convert {\n",
              "      background-color: #E8F0FE;\n",
              "      border: none;\n",
              "      border-radius: 50%;\n",
              "      cursor: pointer;\n",
              "      display: none;\n",
              "      fill: #1967D2;\n",
              "      height: 32px;\n",
              "      padding: 0 0 0 0;\n",
              "      width: 32px;\n",
              "    }\n",
              "\n",
              "    .colab-df-convert:hover {\n",
              "      background-color: #E2EBFA;\n",
              "      box-shadow: 0px 1px 2px rgba(60, 64, 67, 0.3), 0px 1px 3px 1px rgba(60, 64, 67, 0.15);\n",
              "      fill: #174EA6;\n",
              "    }\n",
              "\n",
              "    [theme=dark] .colab-df-convert {\n",
              "      background-color: #3B4455;\n",
              "      fill: #D2E3FC;\n",
              "    }\n",
              "\n",
              "    [theme=dark] .colab-df-convert:hover {\n",
              "      background-color: #434B5C;\n",
              "      box-shadow: 0px 1px 3px 1px rgba(0, 0, 0, 0.15);\n",
              "      filter: drop-shadow(0px 1px 2px rgba(0, 0, 0, 0.3));\n",
              "      fill: #FFFFFF;\n",
              "    }\n",
              "  </style>\n",
              "\n",
              "      <script>\n",
              "        const buttonEl =\n",
              "          document.querySelector('#df-2e8cdfc6-fce2-4502-910d-13eee8ccf016 button.colab-df-convert');\n",
              "        buttonEl.style.display =\n",
              "          google.colab.kernel.accessAllowed ? 'block' : 'none';\n",
              "\n",
              "        async function convertToInteractive(key) {\n",
              "          const element = document.querySelector('#df-2e8cdfc6-fce2-4502-910d-13eee8ccf016');\n",
              "          const dataTable =\n",
              "            await google.colab.kernel.invokeFunction('convertToInteractive',\n",
              "                                                     [key], {});\n",
              "          if (!dataTable) return;\n",
              "\n",
              "          const docLinkHtml = 'Like what you see? Visit the ' +\n",
              "            '<a target=\"_blank\" href=https://colab.research.google.com/notebooks/data_table.ipynb>data table notebook</a>'\n",
              "            + ' to learn more about interactive tables.';\n",
              "          element.innerHTML = '';\n",
              "          dataTable['output_type'] = 'display_data';\n",
              "          await google.colab.output.renderOutput(dataTable, element);\n",
              "          const docLink = document.createElement('div');\n",
              "          docLink.innerHTML = docLinkHtml;\n",
              "          element.appendChild(docLink);\n",
              "        }\n",
              "      </script>\n",
              "    </div>\n",
              "  </div>\n",
              "  "
            ]
          },
          "metadata": {},
          "execution_count": 423
        }
      ]
    },
    {
      "cell_type": "markdown",
      "source": [
        "PCA On Logistic regression"
      ],
      "metadata": {
        "id": "a232a0lB0hKP"
      }
    },
    {
      "cell_type": "code",
      "source": [
        "import seaborn as sns\n"
      ],
      "metadata": {
        "id": "FSgeP75DwTno"
      },
      "execution_count": null,
      "outputs": []
    },
    {
      "cell_type": "code",
      "source": [
        "x = PD.iloc[:, 0:755].values\n",
        "y = PD.iloc[:, -1].values"
      ],
      "metadata": {
        "id": "2UvyK_Cpzwfv"
      },
      "execution_count": null,
      "outputs": []
    },
    {
      "cell_type": "code",
      "source": [
        "x = PD.drop(columns=['id','gender','Class'], axis=1)\n",
        "x"
      ],
      "metadata": {
        "colab": {
          "base_uri": "https://localhost:8080/",
          "height": 488
        },
        "outputId": "4cc8c2dc-91d1-4309-e2c9-a6afaa8200c8",
        "id": "41J66kxbmq_I"
      },
      "execution_count": null,
      "outputs": [
        {
          "output_type": "execute_result",
          "data": {
            "text/plain": [
              "         PPE      DFA     RPDE  numPulses  numPeriodsPulses  meanPeriodPulses  \\\n",
              "0    0.85247  0.71826  0.57227        240               239          0.008064   \n",
              "1    0.76686  0.69481  0.53966        234               233          0.008258   \n",
              "2    0.85083  0.67604  0.58982        232               231          0.008340   \n",
              "3    0.41121  0.79672  0.59257        178               177          0.010858   \n",
              "4    0.32790  0.79782  0.53028        236               235          0.008162   \n",
              "..       ...      ...      ...        ...               ...               ...   \n",
              "751  0.80903  0.56355  0.28385        417               416          0.004627   \n",
              "752  0.16084  0.56499  0.59194        415               413          0.004550   \n",
              "753  0.88389  0.72335  0.46815        381               380          0.005069   \n",
              "754  0.83782  0.74890  0.49823        340               339          0.005679   \n",
              "755  0.81304  0.76471  0.46374        340               339          0.005676   \n",
              "\n",
              "     stdDevPeriodPulses  locPctJitter  locAbsJitter  rapJitter  ...  \\\n",
              "0              0.000087       0.00218      0.000018    0.00067  ...   \n",
              "1              0.000073       0.00195      0.000016    0.00052  ...   \n",
              "2              0.000060       0.00176      0.000015    0.00057  ...   \n",
              "3              0.000183       0.00419      0.000046    0.00149  ...   \n",
              "4              0.002669       0.00535      0.000044    0.00166  ...   \n",
              "..                  ...           ...           ...        ...  ...   \n",
              "751            0.000052       0.00064      0.000003    0.00008  ...   \n",
              "752            0.000220       0.00143      0.000006    0.00016  ...   \n",
              "753            0.000103       0.00076      0.000004    0.00011  ...   \n",
              "754            0.000055       0.00092      0.000005    0.00017  ...   \n",
              "755            0.000037       0.00078      0.000004    0.00014  ...   \n",
              "\n",
              "     tqwt_kurtosisValue_dec_27  tqwt_kurtosisValue_dec_28  \\\n",
              "0                       1.5466                     1.5620   \n",
              "1                       1.5530                     1.5589   \n",
              "2                       1.5399                     1.5643   \n",
              "3                       6.9761                     3.7805   \n",
              "4                       7.8832                     6.1727   \n",
              "..                         ...                        ...   \n",
              "751                     3.4394                     3.0706   \n",
              "752                    19.6733                     1.9704   \n",
              "753                   137.3126                    51.5607   \n",
              "754                     5.4425                    19.1607   \n",
              "755                    11.1487                    62.9927   \n",
              "\n",
              "     tqwt_kurtosisValue_dec_29  tqwt_kurtosisValue_dec_30  \\\n",
              "0                       2.6445                     3.8686   \n",
              "1                       3.6107                    23.5155   \n",
              "2                       2.3308                     9.4959   \n",
              "3                       3.5664                     5.2558   \n",
              "4                       5.8416                     6.0805   \n",
              "..                         ...                        ...   \n",
              "751                     3.0190                     3.1212   \n",
              "752                     1.7451                     1.8277   \n",
              "753                    44.4641                    26.1586   \n",
              "754                    12.8312                     8.9434   \n",
              "755                    21.8152                     9.2457   \n",
              "\n",
              "     tqwt_kurtosisValue_dec_31  tqwt_kurtosisValue_dec_32  \\\n",
              "0                       4.2105                     5.1221   \n",
              "1                      14.1962                    11.0261   \n",
              "2                      10.7458                    11.0177   \n",
              "3                      14.0403                     4.2235   \n",
              "4                       5.7621                     7.7817   \n",
              "..                         ...                        ...   \n",
              "751                     2.4921                     3.5844   \n",
              "752                     2.4976                     5.2981   \n",
              "753                     6.3076                     2.8601   \n",
              "754                     2.2044                     1.9496   \n",
              "755                     4.8555                     3.0551   \n",
              "\n",
              "     tqwt_kurtosisValue_dec_33  tqwt_kurtosisValue_dec_34  \\\n",
              "0                       4.4625                     2.6202   \n",
              "1                       9.5082                     6.5245   \n",
              "2                       4.8066                     2.9199   \n",
              "3                       4.6857                     4.8460   \n",
              "4                      11.6891                     8.2103   \n",
              "..                         ...                        ...   \n",
              "751                     3.5400                     3.3805   \n",
              "752                     4.2616                     6.3042   \n",
              "753                     2.5361                     3.5377   \n",
              "754                     1.9664                     2.6801   \n",
              "755                     3.0415                     4.0116   \n",
              "\n",
              "     tqwt_kurtosisValue_dec_35  tqwt_kurtosisValue_dec_36  \n",
              "0                       3.0004                    18.9405  \n",
              "1                       6.3431                    45.1780  \n",
              "2                       3.1495                     4.7666  \n",
              "3                       6.2650                     4.0603  \n",
              "4                       5.0559                     6.1164  \n",
              "..                         ...                        ...  \n",
              "751                     3.2003                     6.8671  \n",
              "752                    10.9058                    28.4170  \n",
              "753                     3.3545                     5.0424  \n",
              "754                     2.8332                     3.7131  \n",
              "755                     2.6217                     3.1527  \n",
              "\n",
              "[756 rows x 752 columns]"
            ],
            "text/html": [
              "\n",
              "  <div id=\"df-2b09c7cc-6ee1-4dd2-8f24-998fd46c052f\">\n",
              "    <div class=\"colab-df-container\">\n",
              "      <div>\n",
              "<style scoped>\n",
              "    .dataframe tbody tr th:only-of-type {\n",
              "        vertical-align: middle;\n",
              "    }\n",
              "\n",
              "    .dataframe tbody tr th {\n",
              "        vertical-align: top;\n",
              "    }\n",
              "\n",
              "    .dataframe thead th {\n",
              "        text-align: right;\n",
              "    }\n",
              "</style>\n",
              "<table border=\"1\" class=\"dataframe\">\n",
              "  <thead>\n",
              "    <tr style=\"text-align: right;\">\n",
              "      <th></th>\n",
              "      <th>PPE</th>\n",
              "      <th>DFA</th>\n",
              "      <th>RPDE</th>\n",
              "      <th>numPulses</th>\n",
              "      <th>numPeriodsPulses</th>\n",
              "      <th>meanPeriodPulses</th>\n",
              "      <th>stdDevPeriodPulses</th>\n",
              "      <th>locPctJitter</th>\n",
              "      <th>locAbsJitter</th>\n",
              "      <th>rapJitter</th>\n",
              "      <th>...</th>\n",
              "      <th>tqwt_kurtosisValue_dec_27</th>\n",
              "      <th>tqwt_kurtosisValue_dec_28</th>\n",
              "      <th>tqwt_kurtosisValue_dec_29</th>\n",
              "      <th>tqwt_kurtosisValue_dec_30</th>\n",
              "      <th>tqwt_kurtosisValue_dec_31</th>\n",
              "      <th>tqwt_kurtosisValue_dec_32</th>\n",
              "      <th>tqwt_kurtosisValue_dec_33</th>\n",
              "      <th>tqwt_kurtosisValue_dec_34</th>\n",
              "      <th>tqwt_kurtosisValue_dec_35</th>\n",
              "      <th>tqwt_kurtosisValue_dec_36</th>\n",
              "    </tr>\n",
              "  </thead>\n",
              "  <tbody>\n",
              "    <tr>\n",
              "      <th>0</th>\n",
              "      <td>0.85247</td>\n",
              "      <td>0.71826</td>\n",
              "      <td>0.57227</td>\n",
              "      <td>240</td>\n",
              "      <td>239</td>\n",
              "      <td>0.008064</td>\n",
              "      <td>0.000087</td>\n",
              "      <td>0.00218</td>\n",
              "      <td>0.000018</td>\n",
              "      <td>0.00067</td>\n",
              "      <td>...</td>\n",
              "      <td>1.5466</td>\n",
              "      <td>1.5620</td>\n",
              "      <td>2.6445</td>\n",
              "      <td>3.8686</td>\n",
              "      <td>4.2105</td>\n",
              "      <td>5.1221</td>\n",
              "      <td>4.4625</td>\n",
              "      <td>2.6202</td>\n",
              "      <td>3.0004</td>\n",
              "      <td>18.9405</td>\n",
              "    </tr>\n",
              "    <tr>\n",
              "      <th>1</th>\n",
              "      <td>0.76686</td>\n",
              "      <td>0.69481</td>\n",
              "      <td>0.53966</td>\n",
              "      <td>234</td>\n",
              "      <td>233</td>\n",
              "      <td>0.008258</td>\n",
              "      <td>0.000073</td>\n",
              "      <td>0.00195</td>\n",
              "      <td>0.000016</td>\n",
              "      <td>0.00052</td>\n",
              "      <td>...</td>\n",
              "      <td>1.5530</td>\n",
              "      <td>1.5589</td>\n",
              "      <td>3.6107</td>\n",
              "      <td>23.5155</td>\n",
              "      <td>14.1962</td>\n",
              "      <td>11.0261</td>\n",
              "      <td>9.5082</td>\n",
              "      <td>6.5245</td>\n",
              "      <td>6.3431</td>\n",
              "      <td>45.1780</td>\n",
              "    </tr>\n",
              "    <tr>\n",
              "      <th>2</th>\n",
              "      <td>0.85083</td>\n",
              "      <td>0.67604</td>\n",
              "      <td>0.58982</td>\n",
              "      <td>232</td>\n",
              "      <td>231</td>\n",
              "      <td>0.008340</td>\n",
              "      <td>0.000060</td>\n",
              "      <td>0.00176</td>\n",
              "      <td>0.000015</td>\n",
              "      <td>0.00057</td>\n",
              "      <td>...</td>\n",
              "      <td>1.5399</td>\n",
              "      <td>1.5643</td>\n",
              "      <td>2.3308</td>\n",
              "      <td>9.4959</td>\n",
              "      <td>10.7458</td>\n",
              "      <td>11.0177</td>\n",
              "      <td>4.8066</td>\n",
              "      <td>2.9199</td>\n",
              "      <td>3.1495</td>\n",
              "      <td>4.7666</td>\n",
              "    </tr>\n",
              "    <tr>\n",
              "      <th>3</th>\n",
              "      <td>0.41121</td>\n",
              "      <td>0.79672</td>\n",
              "      <td>0.59257</td>\n",
              "      <td>178</td>\n",
              "      <td>177</td>\n",
              "      <td>0.010858</td>\n",
              "      <td>0.000183</td>\n",
              "      <td>0.00419</td>\n",
              "      <td>0.000046</td>\n",
              "      <td>0.00149</td>\n",
              "      <td>...</td>\n",
              "      <td>6.9761</td>\n",
              "      <td>3.7805</td>\n",
              "      <td>3.5664</td>\n",
              "      <td>5.2558</td>\n",
              "      <td>14.0403</td>\n",
              "      <td>4.2235</td>\n",
              "      <td>4.6857</td>\n",
              "      <td>4.8460</td>\n",
              "      <td>6.2650</td>\n",
              "      <td>4.0603</td>\n",
              "    </tr>\n",
              "    <tr>\n",
              "      <th>4</th>\n",
              "      <td>0.32790</td>\n",
              "      <td>0.79782</td>\n",
              "      <td>0.53028</td>\n",
              "      <td>236</td>\n",
              "      <td>235</td>\n",
              "      <td>0.008162</td>\n",
              "      <td>0.002669</td>\n",
              "      <td>0.00535</td>\n",
              "      <td>0.000044</td>\n",
              "      <td>0.00166</td>\n",
              "      <td>...</td>\n",
              "      <td>7.8832</td>\n",
              "      <td>6.1727</td>\n",
              "      <td>5.8416</td>\n",
              "      <td>6.0805</td>\n",
              "      <td>5.7621</td>\n",
              "      <td>7.7817</td>\n",
              "      <td>11.6891</td>\n",
              "      <td>8.2103</td>\n",
              "      <td>5.0559</td>\n",
              "      <td>6.1164</td>\n",
              "    </tr>\n",
              "    <tr>\n",
              "      <th>...</th>\n",
              "      <td>...</td>\n",
              "      <td>...</td>\n",
              "      <td>...</td>\n",
              "      <td>...</td>\n",
              "      <td>...</td>\n",
              "      <td>...</td>\n",
              "      <td>...</td>\n",
              "      <td>...</td>\n",
              "      <td>...</td>\n",
              "      <td>...</td>\n",
              "      <td>...</td>\n",
              "      <td>...</td>\n",
              "      <td>...</td>\n",
              "      <td>...</td>\n",
              "      <td>...</td>\n",
              "      <td>...</td>\n",
              "      <td>...</td>\n",
              "      <td>...</td>\n",
              "      <td>...</td>\n",
              "      <td>...</td>\n",
              "      <td>...</td>\n",
              "    </tr>\n",
              "    <tr>\n",
              "      <th>751</th>\n",
              "      <td>0.80903</td>\n",
              "      <td>0.56355</td>\n",
              "      <td>0.28385</td>\n",
              "      <td>417</td>\n",
              "      <td>416</td>\n",
              "      <td>0.004627</td>\n",
              "      <td>0.000052</td>\n",
              "      <td>0.00064</td>\n",
              "      <td>0.000003</td>\n",
              "      <td>0.00008</td>\n",
              "      <td>...</td>\n",
              "      <td>3.4394</td>\n",
              "      <td>3.0706</td>\n",
              "      <td>3.0190</td>\n",
              "      <td>3.1212</td>\n",
              "      <td>2.4921</td>\n",
              "      <td>3.5844</td>\n",
              "      <td>3.5400</td>\n",
              "      <td>3.3805</td>\n",
              "      <td>3.2003</td>\n",
              "      <td>6.8671</td>\n",
              "    </tr>\n",
              "    <tr>\n",
              "      <th>752</th>\n",
              "      <td>0.16084</td>\n",
              "      <td>0.56499</td>\n",
              "      <td>0.59194</td>\n",
              "      <td>415</td>\n",
              "      <td>413</td>\n",
              "      <td>0.004550</td>\n",
              "      <td>0.000220</td>\n",
              "      <td>0.00143</td>\n",
              "      <td>0.000006</td>\n",
              "      <td>0.00016</td>\n",
              "      <td>...</td>\n",
              "      <td>19.6733</td>\n",
              "      <td>1.9704</td>\n",
              "      <td>1.7451</td>\n",
              "      <td>1.8277</td>\n",
              "      <td>2.4976</td>\n",
              "      <td>5.2981</td>\n",
              "      <td>4.2616</td>\n",
              "      <td>6.3042</td>\n",
              "      <td>10.9058</td>\n",
              "      <td>28.4170</td>\n",
              "    </tr>\n",
              "    <tr>\n",
              "      <th>753</th>\n",
              "      <td>0.88389</td>\n",
              "      <td>0.72335</td>\n",
              "      <td>0.46815</td>\n",
              "      <td>381</td>\n",
              "      <td>380</td>\n",
              "      <td>0.005069</td>\n",
              "      <td>0.000103</td>\n",
              "      <td>0.00076</td>\n",
              "      <td>0.000004</td>\n",
              "      <td>0.00011</td>\n",
              "      <td>...</td>\n",
              "      <td>137.3126</td>\n",
              "      <td>51.5607</td>\n",
              "      <td>44.4641</td>\n",
              "      <td>26.1586</td>\n",
              "      <td>6.3076</td>\n",
              "      <td>2.8601</td>\n",
              "      <td>2.5361</td>\n",
              "      <td>3.5377</td>\n",
              "      <td>3.3545</td>\n",
              "      <td>5.0424</td>\n",
              "    </tr>\n",
              "    <tr>\n",
              "      <th>754</th>\n",
              "      <td>0.83782</td>\n",
              "      <td>0.74890</td>\n",
              "      <td>0.49823</td>\n",
              "      <td>340</td>\n",
              "      <td>339</td>\n",
              "      <td>0.005679</td>\n",
              "      <td>0.000055</td>\n",
              "      <td>0.00092</td>\n",
              "      <td>0.000005</td>\n",
              "      <td>0.00017</td>\n",
              "      <td>...</td>\n",
              "      <td>5.4425</td>\n",
              "      <td>19.1607</td>\n",
              "      <td>12.8312</td>\n",
              "      <td>8.9434</td>\n",
              "      <td>2.2044</td>\n",
              "      <td>1.9496</td>\n",
              "      <td>1.9664</td>\n",
              "      <td>2.6801</td>\n",
              "      <td>2.8332</td>\n",
              "      <td>3.7131</td>\n",
              "    </tr>\n",
              "    <tr>\n",
              "      <th>755</th>\n",
              "      <td>0.81304</td>\n",
              "      <td>0.76471</td>\n",
              "      <td>0.46374</td>\n",
              "      <td>340</td>\n",
              "      <td>339</td>\n",
              "      <td>0.005676</td>\n",
              "      <td>0.000037</td>\n",
              "      <td>0.00078</td>\n",
              "      <td>0.000004</td>\n",
              "      <td>0.00014</td>\n",
              "      <td>...</td>\n",
              "      <td>11.1487</td>\n",
              "      <td>62.9927</td>\n",
              "      <td>21.8152</td>\n",
              "      <td>9.2457</td>\n",
              "      <td>4.8555</td>\n",
              "      <td>3.0551</td>\n",
              "      <td>3.0415</td>\n",
              "      <td>4.0116</td>\n",
              "      <td>2.6217</td>\n",
              "      <td>3.1527</td>\n",
              "    </tr>\n",
              "  </tbody>\n",
              "</table>\n",
              "<p>756 rows × 752 columns</p>\n",
              "</div>\n",
              "      <button class=\"colab-df-convert\" onclick=\"convertToInteractive('df-2b09c7cc-6ee1-4dd2-8f24-998fd46c052f')\"\n",
              "              title=\"Convert this dataframe to an interactive table.\"\n",
              "              style=\"display:none;\">\n",
              "        \n",
              "  <svg xmlns=\"http://www.w3.org/2000/svg\" height=\"24px\"viewBox=\"0 0 24 24\"\n",
              "       width=\"24px\">\n",
              "    <path d=\"M0 0h24v24H0V0z\" fill=\"none\"/>\n",
              "    <path d=\"M18.56 5.44l.94 2.06.94-2.06 2.06-.94-2.06-.94-.94-2.06-.94 2.06-2.06.94zm-11 1L8.5 8.5l.94-2.06 2.06-.94-2.06-.94L8.5 2.5l-.94 2.06-2.06.94zm10 10l.94 2.06.94-2.06 2.06-.94-2.06-.94-.94-2.06-.94 2.06-2.06.94z\"/><path d=\"M17.41 7.96l-1.37-1.37c-.4-.4-.92-.59-1.43-.59-.52 0-1.04.2-1.43.59L10.3 9.45l-7.72 7.72c-.78.78-.78 2.05 0 2.83L4 21.41c.39.39.9.59 1.41.59.51 0 1.02-.2 1.41-.59l7.78-7.78 2.81-2.81c.8-.78.8-2.07 0-2.86zM5.41 20L4 18.59l7.72-7.72 1.47 1.35L5.41 20z\"/>\n",
              "  </svg>\n",
              "      </button>\n",
              "      \n",
              "  <style>\n",
              "    .colab-df-container {\n",
              "      display:flex;\n",
              "      flex-wrap:wrap;\n",
              "      gap: 12px;\n",
              "    }\n",
              "\n",
              "    .colab-df-convert {\n",
              "      background-color: #E8F0FE;\n",
              "      border: none;\n",
              "      border-radius: 50%;\n",
              "      cursor: pointer;\n",
              "      display: none;\n",
              "      fill: #1967D2;\n",
              "      height: 32px;\n",
              "      padding: 0 0 0 0;\n",
              "      width: 32px;\n",
              "    }\n",
              "\n",
              "    .colab-df-convert:hover {\n",
              "      background-color: #E2EBFA;\n",
              "      box-shadow: 0px 1px 2px rgba(60, 64, 67, 0.3), 0px 1px 3px 1px rgba(60, 64, 67, 0.15);\n",
              "      fill: #174EA6;\n",
              "    }\n",
              "\n",
              "    [theme=dark] .colab-df-convert {\n",
              "      background-color: #3B4455;\n",
              "      fill: #D2E3FC;\n",
              "    }\n",
              "\n",
              "    [theme=dark] .colab-df-convert:hover {\n",
              "      background-color: #434B5C;\n",
              "      box-shadow: 0px 1px 3px 1px rgba(0, 0, 0, 0.15);\n",
              "      filter: drop-shadow(0px 1px 2px rgba(0, 0, 0, 0.3));\n",
              "      fill: #FFFFFF;\n",
              "    }\n",
              "  </style>\n",
              "\n",
              "      <script>\n",
              "        const buttonEl =\n",
              "          document.querySelector('#df-2b09c7cc-6ee1-4dd2-8f24-998fd46c052f button.colab-df-convert');\n",
              "        buttonEl.style.display =\n",
              "          google.colab.kernel.accessAllowed ? 'block' : 'none';\n",
              "\n",
              "        async function convertToInteractive(key) {\n",
              "          const element = document.querySelector('#df-2b09c7cc-6ee1-4dd2-8f24-998fd46c052f');\n",
              "          const dataTable =\n",
              "            await google.colab.kernel.invokeFunction('convertToInteractive',\n",
              "                                                     [key], {});\n",
              "          if (!dataTable) return;\n",
              "\n",
              "          const docLinkHtml = 'Like what you see? Visit the ' +\n",
              "            '<a target=\"_blank\" href=https://colab.research.google.com/notebooks/data_table.ipynb>data table notebook</a>'\n",
              "            + ' to learn more about interactive tables.';\n",
              "          element.innerHTML = '';\n",
              "          dataTable['output_type'] = 'display_data';\n",
              "          await google.colab.output.renderOutput(dataTable, element);\n",
              "          const docLink = document.createElement('div');\n",
              "          docLink.innerHTML = docLinkHtml;\n",
              "          element.appendChild(docLink);\n",
              "        }\n",
              "      </script>\n",
              "    </div>\n",
              "  </div>\n",
              "  "
            ]
          },
          "metadata": {},
          "execution_count": 6
        }
      ]
    },
    {
      "cell_type": "code",
      "source": [
        "from sklearn.model_selection import train_test_split\n",
        "x_train, x_test, y_train, y_test = train_test_split(x, y, test_size = 0.3, random_state = 42)"
      ],
      "metadata": {
        "id": "lfyQ5lh60tDs"
      },
      "execution_count": null,
      "outputs": []
    },
    {
      "cell_type": "code",
      "source": [
        "from sklearn.preprocessing import StandardScaler\n",
        "x= StandardScaler().fit_transform(x)"
      ],
      "metadata": {
        "id": "ozPBKG0w0e-N"
      },
      "execution_count": null,
      "outputs": []
    },
    {
      "cell_type": "code",
      "source": [
        "from sklearn.preprocessing import StandardScaler\n",
        "sc = StandardScaler()\n",
        "x_train = sc.fit_transform(x_train)\n",
        "x_test = sc.transform(x_test)"
      ],
      "metadata": {
        "id": "jnCFY7E80wm8"
      },
      "execution_count": null,
      "outputs": []
    },
    {
      "cell_type": "code",
      "source": [
        "from sklearn.decomposition import PCA\n",
        "pca = PCA(n_components = 23)\n",
        "x_train_new = pca.fit_transform(x_train)\n",
        "x_test_new = pca.transform(x_test)"
      ],
      "metadata": {
        "id": "-UH22CVl08-O"
      },
      "execution_count": null,
      "outputs": []
    },
    {
      "cell_type": "code",
      "source": [
        "x_train_new.shape\n"
      ],
      "metadata": {
        "colab": {
          "base_uri": "https://localhost:8080/"
        },
        "id": "10_p_5VN1lIv",
        "outputId": "7b82de8d-239d-4853-90fb-d762edd1133d"
      },
      "execution_count": null,
      "outputs": [
        {
          "output_type": "execute_result",
          "data": {
            "text/plain": [
              "(529, 23)"
            ]
          },
          "metadata": {},
          "execution_count": 11
        }
      ]
    },
    {
      "cell_type": "code",
      "source": [
        "x_test_new.shape"
      ],
      "metadata": {
        "colab": {
          "base_uri": "https://localhost:8080/"
        },
        "id": "Q_ZtogGE1r5P",
        "outputId": "75a8e972-0631-48b7-81be-1c2bf8b09d47"
      },
      "execution_count": null,
      "outputs": [
        {
          "output_type": "execute_result",
          "data": {
            "text/plain": [
              "(227, 23)"
            ]
          },
          "metadata": {},
          "execution_count": 12
        }
      ]
    },
    {
      "cell_type": "code",
      "source": [
        "from sklearn.linear_model import LogisticRegression\n",
        "classifier = LogisticRegression(random_state=42)\n",
        "classifier.fit(x_train,y_train)"
      ],
      "metadata": {
        "colab": {
          "base_uri": "https://localhost:8080/",
          "height": 214
        },
        "id": "zlcQeHQH1Kgt",
        "outputId": "2c21e9e6-0e73-4cc2-a6ba-5b0fdbd37dea"
      },
      "execution_count": null,
      "outputs": [
        {
          "output_type": "stream",
          "name": "stderr",
          "text": [
            "/usr/local/lib/python3.10/dist-packages/sklearn/linear_model/_logistic.py:458: ConvergenceWarning: lbfgs failed to converge (status=1):\n",
            "STOP: TOTAL NO. of ITERATIONS REACHED LIMIT.\n",
            "\n",
            "Increase the number of iterations (max_iter) or scale the data as shown in:\n",
            "    https://scikit-learn.org/stable/modules/preprocessing.html\n",
            "Please also refer to the documentation for alternative solver options:\n",
            "    https://scikit-learn.org/stable/modules/linear_model.html#logistic-regression\n",
            "  n_iter_i = _check_optimize_result(\n"
          ]
        },
        {
          "output_type": "execute_result",
          "data": {
            "text/plain": [
              "LogisticRegression(random_state=42)"
            ],
            "text/html": [
              "<style>#sk-container-id-1 {color: black;background-color: white;}#sk-container-id-1 pre{padding: 0;}#sk-container-id-1 div.sk-toggleable {background-color: white;}#sk-container-id-1 label.sk-toggleable__label {cursor: pointer;display: block;width: 100%;margin-bottom: 0;padding: 0.3em;box-sizing: border-box;text-align: center;}#sk-container-id-1 label.sk-toggleable__label-arrow:before {content: \"▸\";float: left;margin-right: 0.25em;color: #696969;}#sk-container-id-1 label.sk-toggleable__label-arrow:hover:before {color: black;}#sk-container-id-1 div.sk-estimator:hover label.sk-toggleable__label-arrow:before {color: black;}#sk-container-id-1 div.sk-toggleable__content {max-height: 0;max-width: 0;overflow: hidden;text-align: left;background-color: #f0f8ff;}#sk-container-id-1 div.sk-toggleable__content pre {margin: 0.2em;color: black;border-radius: 0.25em;background-color: #f0f8ff;}#sk-container-id-1 input.sk-toggleable__control:checked~div.sk-toggleable__content {max-height: 200px;max-width: 100%;overflow: auto;}#sk-container-id-1 input.sk-toggleable__control:checked~label.sk-toggleable__label-arrow:before {content: \"▾\";}#sk-container-id-1 div.sk-estimator input.sk-toggleable__control:checked~label.sk-toggleable__label {background-color: #d4ebff;}#sk-container-id-1 div.sk-label input.sk-toggleable__control:checked~label.sk-toggleable__label {background-color: #d4ebff;}#sk-container-id-1 input.sk-hidden--visually {border: 0;clip: rect(1px 1px 1px 1px);clip: rect(1px, 1px, 1px, 1px);height: 1px;margin: -1px;overflow: hidden;padding: 0;position: absolute;width: 1px;}#sk-container-id-1 div.sk-estimator {font-family: monospace;background-color: #f0f8ff;border: 1px dotted black;border-radius: 0.25em;box-sizing: border-box;margin-bottom: 0.5em;}#sk-container-id-1 div.sk-estimator:hover {background-color: #d4ebff;}#sk-container-id-1 div.sk-parallel-item::after {content: \"\";width: 100%;border-bottom: 1px solid gray;flex-grow: 1;}#sk-container-id-1 div.sk-label:hover label.sk-toggleable__label {background-color: #d4ebff;}#sk-container-id-1 div.sk-serial::before {content: \"\";position: absolute;border-left: 1px solid gray;box-sizing: border-box;top: 0;bottom: 0;left: 50%;z-index: 0;}#sk-container-id-1 div.sk-serial {display: flex;flex-direction: column;align-items: center;background-color: white;padding-right: 0.2em;padding-left: 0.2em;position: relative;}#sk-container-id-1 div.sk-item {position: relative;z-index: 1;}#sk-container-id-1 div.sk-parallel {display: flex;align-items: stretch;justify-content: center;background-color: white;position: relative;}#sk-container-id-1 div.sk-item::before, #sk-container-id-1 div.sk-parallel-item::before {content: \"\";position: absolute;border-left: 1px solid gray;box-sizing: border-box;top: 0;bottom: 0;left: 50%;z-index: -1;}#sk-container-id-1 div.sk-parallel-item {display: flex;flex-direction: column;z-index: 1;position: relative;background-color: white;}#sk-container-id-1 div.sk-parallel-item:first-child::after {align-self: flex-end;width: 50%;}#sk-container-id-1 div.sk-parallel-item:last-child::after {align-self: flex-start;width: 50%;}#sk-container-id-1 div.sk-parallel-item:only-child::after {width: 0;}#sk-container-id-1 div.sk-dashed-wrapped {border: 1px dashed gray;margin: 0 0.4em 0.5em 0.4em;box-sizing: border-box;padding-bottom: 0.4em;background-color: white;}#sk-container-id-1 div.sk-label label {font-family: monospace;font-weight: bold;display: inline-block;line-height: 1.2em;}#sk-container-id-1 div.sk-label-container {text-align: center;}#sk-container-id-1 div.sk-container {/* jupyter's `normalize.less` sets `[hidden] { display: none; }` but bootstrap.min.css set `[hidden] { display: none !important; }` so we also need the `!important` here to be able to override the default hidden behavior on the sphinx rendered scikit-learn.org. See: https://github.com/scikit-learn/scikit-learn/issues/21755 */display: inline-block !important;position: relative;}#sk-container-id-1 div.sk-text-repr-fallback {display: none;}</style><div id=\"sk-container-id-1\" class=\"sk-top-container\"><div class=\"sk-text-repr-fallback\"><pre>LogisticRegression(random_state=42)</pre><b>In a Jupyter environment, please rerun this cell to show the HTML representation or trust the notebook. <br />On GitHub, the HTML representation is unable to render, please try loading this page with nbviewer.org.</b></div><div class=\"sk-container\" hidden><div class=\"sk-item\"><div class=\"sk-estimator sk-toggleable\"><input class=\"sk-toggleable__control sk-hidden--visually\" id=\"sk-estimator-id-1\" type=\"checkbox\" checked><label for=\"sk-estimator-id-1\" class=\"sk-toggleable__label sk-toggleable__label-arrow\">LogisticRegression</label><div class=\"sk-toggleable__content\"><pre>LogisticRegression(random_state=42)</pre></div></div></div></div></div>"
            ]
          },
          "metadata": {},
          "execution_count": 13
        }
      ]
    },
    {
      "cell_type": "code",
      "source": [
        "classifier2 = LogisticRegression(random_state=42)\n",
        "classifier2.fit(x_train_new,y_train)"
      ],
      "metadata": {
        "colab": {
          "base_uri": "https://localhost:8080/",
          "height": 75
        },
        "id": "NjtyN6Pp1RCe",
        "outputId": "7c7ca747-eebb-4f93-9111-08a9975ac100"
      },
      "execution_count": null,
      "outputs": [
        {
          "output_type": "execute_result",
          "data": {
            "text/plain": [
              "LogisticRegression(random_state=42)"
            ],
            "text/html": [
              "<style>#sk-container-id-55 {color: black;background-color: white;}#sk-container-id-55 pre{padding: 0;}#sk-container-id-55 div.sk-toggleable {background-color: white;}#sk-container-id-55 label.sk-toggleable__label {cursor: pointer;display: block;width: 100%;margin-bottom: 0;padding: 0.3em;box-sizing: border-box;text-align: center;}#sk-container-id-55 label.sk-toggleable__label-arrow:before {content: \"▸\";float: left;margin-right: 0.25em;color: #696969;}#sk-container-id-55 label.sk-toggleable__label-arrow:hover:before {color: black;}#sk-container-id-55 div.sk-estimator:hover label.sk-toggleable__label-arrow:before {color: black;}#sk-container-id-55 div.sk-toggleable__content {max-height: 0;max-width: 0;overflow: hidden;text-align: left;background-color: #f0f8ff;}#sk-container-id-55 div.sk-toggleable__content pre {margin: 0.2em;color: black;border-radius: 0.25em;background-color: #f0f8ff;}#sk-container-id-55 input.sk-toggleable__control:checked~div.sk-toggleable__content {max-height: 200px;max-width: 100%;overflow: auto;}#sk-container-id-55 input.sk-toggleable__control:checked~label.sk-toggleable__label-arrow:before {content: \"▾\";}#sk-container-id-55 div.sk-estimator input.sk-toggleable__control:checked~label.sk-toggleable__label {background-color: #d4ebff;}#sk-container-id-55 div.sk-label input.sk-toggleable__control:checked~label.sk-toggleable__label {background-color: #d4ebff;}#sk-container-id-55 input.sk-hidden--visually {border: 0;clip: rect(1px 1px 1px 1px);clip: rect(1px, 1px, 1px, 1px);height: 1px;margin: -1px;overflow: hidden;padding: 0;position: absolute;width: 1px;}#sk-container-id-55 div.sk-estimator {font-family: monospace;background-color: #f0f8ff;border: 1px dotted black;border-radius: 0.25em;box-sizing: border-box;margin-bottom: 0.5em;}#sk-container-id-55 div.sk-estimator:hover {background-color: #d4ebff;}#sk-container-id-55 div.sk-parallel-item::after {content: \"\";width: 100%;border-bottom: 1px solid gray;flex-grow: 1;}#sk-container-id-55 div.sk-label:hover label.sk-toggleable__label {background-color: #d4ebff;}#sk-container-id-55 div.sk-serial::before {content: \"\";position: absolute;border-left: 1px solid gray;box-sizing: border-box;top: 0;bottom: 0;left: 50%;z-index: 0;}#sk-container-id-55 div.sk-serial {display: flex;flex-direction: column;align-items: center;background-color: white;padding-right: 0.2em;padding-left: 0.2em;position: relative;}#sk-container-id-55 div.sk-item {position: relative;z-index: 1;}#sk-container-id-55 div.sk-parallel {display: flex;align-items: stretch;justify-content: center;background-color: white;position: relative;}#sk-container-id-55 div.sk-item::before, #sk-container-id-55 div.sk-parallel-item::before {content: \"\";position: absolute;border-left: 1px solid gray;box-sizing: border-box;top: 0;bottom: 0;left: 50%;z-index: -1;}#sk-container-id-55 div.sk-parallel-item {display: flex;flex-direction: column;z-index: 1;position: relative;background-color: white;}#sk-container-id-55 div.sk-parallel-item:first-child::after {align-self: flex-end;width: 50%;}#sk-container-id-55 div.sk-parallel-item:last-child::after {align-self: flex-start;width: 50%;}#sk-container-id-55 div.sk-parallel-item:only-child::after {width: 0;}#sk-container-id-55 div.sk-dashed-wrapped {border: 1px dashed gray;margin: 0 0.4em 0.5em 0.4em;box-sizing: border-box;padding-bottom: 0.4em;background-color: white;}#sk-container-id-55 div.sk-label label {font-family: monospace;font-weight: bold;display: inline-block;line-height: 1.2em;}#sk-container-id-55 div.sk-label-container {text-align: center;}#sk-container-id-55 div.sk-container {/* jupyter's `normalize.less` sets `[hidden] { display: none; }` but bootstrap.min.css set `[hidden] { display: none !important; }` so we also need the `!important` here to be able to override the default hidden behavior on the sphinx rendered scikit-learn.org. See: https://github.com/scikit-learn/scikit-learn/issues/21755 */display: inline-block !important;position: relative;}#sk-container-id-55 div.sk-text-repr-fallback {display: none;}</style><div id=\"sk-container-id-55\" class=\"sk-top-container\"><div class=\"sk-text-repr-fallback\"><pre>LogisticRegression(random_state=42)</pre><b>In a Jupyter environment, please rerun this cell to show the HTML representation or trust the notebook. <br />On GitHub, the HTML representation is unable to render, please try loading this page with nbviewer.org.</b></div><div class=\"sk-container\" hidden><div class=\"sk-item\"><div class=\"sk-estimator sk-toggleable\"><input class=\"sk-toggleable__control sk-hidden--visually\" id=\"sk-estimator-id-55\" type=\"checkbox\" checked><label for=\"sk-estimator-id-55\" class=\"sk-toggleable__label sk-toggleable__label-arrow\">LogisticRegression</label><div class=\"sk-toggleable__content\"><pre>LogisticRegression(random_state=42)</pre></div></div></div></div></div>"
            ]
          },
          "metadata": {},
          "execution_count": 777
        }
      ]
    },
    {
      "cell_type": "code",
      "source": [
        "y_pred = classifier.predict(x_test)\n",
        "y_pred_new = classifier2.predict(x_test_new)"
      ],
      "metadata": {
        "id": "kf2Wz7EX1Wr8"
      },
      "execution_count": null,
      "outputs": []
    },
    {
      "cell_type": "code",
      "source": [
        "y_pred"
      ],
      "metadata": {
        "colab": {
          "base_uri": "https://localhost:8080/"
        },
        "id": "M3WwHwEi1xh7",
        "outputId": "f07ebac6-aea4-4ec6-b012-5fd39858abc8"
      },
      "execution_count": null,
      "outputs": [
        {
          "output_type": "execute_result",
          "data": {
            "text/plain": [
              "array([0, 0, 1, 0, 1, 0, 1, 1, 1, 1, 0, 0, 1, 1, 1, 1, 1, 1, 1, 1, 0, 1,\n",
              "       1, 1, 1, 1, 1, 1, 1, 1, 1, 1, 1, 1, 1, 1, 1, 1, 1, 0, 1, 1, 1, 1,\n",
              "       1, 1, 1, 1, 0, 1, 1, 1, 1, 1, 1, 1, 1, 1, 1, 1, 1, 1, 1, 0, 1, 0,\n",
              "       1, 1, 1, 1, 1, 1, 1, 1, 1, 1, 1, 1, 1, 1, 1, 1, 0, 1, 1, 1, 0, 1,\n",
              "       1, 0, 1, 0, 0, 1, 0, 1, 0, 0, 1, 0, 1, 1, 1, 1, 1, 1, 1, 1, 1, 1,\n",
              "       1, 1, 0, 1, 1, 1, 0, 1, 1, 1, 0, 1, 1, 1, 1, 1, 1, 1, 0, 1, 0, 1,\n",
              "       0, 1, 1, 1, 1, 1, 1, 1, 1, 1, 1, 1, 1, 1, 1, 1, 1, 1, 1, 0, 1, 1,\n",
              "       1, 1, 1, 1, 0, 1, 0, 0, 0, 1, 0, 0, 0, 1, 1, 1, 1, 1, 1, 0, 1, 0,\n",
              "       0, 1, 1, 0, 1, 1, 0, 1, 0, 1, 1, 1, 1, 0, 0, 1, 1, 1, 1, 1, 1, 1,\n",
              "       1, 1, 1, 1, 0, 0, 1, 1, 0, 1, 0, 1, 1, 1, 1, 1, 1, 0, 1, 1, 1, 1,\n",
              "       1, 1, 0, 1, 1, 1, 1])"
            ]
          },
          "metadata": {},
          "execution_count": 779
        }
      ]
    },
    {
      "cell_type": "code",
      "source": [
        "from sklearn.metrics import accuracy_score"
      ],
      "metadata": {
        "id": "jE4445NB2E22"
      },
      "execution_count": null,
      "outputs": []
    },
    {
      "cell_type": "code",
      "source": [
        "accuracy_score(y_test, y_pred)*100"
      ],
      "metadata": {
        "colab": {
          "base_uri": "https://localhost:8080/"
        },
        "id": "kCHYDf0M2JBU",
        "outputId": "f1060a41-bcd5-443a-9919-7ecb43f4c3b0"
      },
      "execution_count": null,
      "outputs": [
        {
          "output_type": "execute_result",
          "data": {
            "text/plain": [
              "83.70044052863436"
            ]
          },
          "metadata": {},
          "execution_count": 781
        }
      ]
    },
    {
      "cell_type": "code",
      "source": [
        "accuracy_score(y_test, y_pred_new)*100"
      ],
      "metadata": {
        "colab": {
          "base_uri": "https://localhost:8080/"
        },
        "id": "3bCnDv4t2Nsf",
        "outputId": "b80ccc54-92c2-4192-db53-07f5f123cb72"
      },
      "execution_count": null,
      "outputs": [
        {
          "output_type": "execute_result",
          "data": {
            "text/plain": [
              "81.4977973568282"
            ]
          },
          "metadata": {},
          "execution_count": 782
        }
      ]
    },
    {
      "cell_type": "markdown",
      "source": [
        "////////////////////////////......................................."
      ],
      "metadata": {
        "id": "gNS43DisJ1iF"
      }
    },
    {
      "cell_type": "code",
      "source": [
        "len(PD.id.unique())"
      ],
      "metadata": {
        "colab": {
          "base_uri": "https://localhost:8080/"
        },
        "id": "KQlsCR_g6aBn",
        "outputId": "dc598567-48cc-4de6-b251-501c56a9deef"
      },
      "execution_count": null,
      "outputs": [
        {
          "output_type": "execute_result",
          "data": {
            "text/plain": [
              "252"
            ]
          },
          "metadata": {},
          "execution_count": 21
        }
      ]
    },
    {
      "cell_type": "code",
      "source": [
        "len(PD.gender.unique())"
      ],
      "metadata": {
        "colab": {
          "base_uri": "https://localhost:8080/"
        },
        "outputId": "bb486beb-66bb-4f04-eb6c-c401ea26c0a8",
        "id": "4AYwRfnohrc3"
      },
      "execution_count": null,
      "outputs": [
        {
          "output_type": "execute_result",
          "data": {
            "text/plain": [
              "2"
            ]
          },
          "metadata": {},
          "execution_count": 20
        }
      ]
    },
    {
      "cell_type": "code",
      "source": [
        "len(PD.Class.unique())"
      ],
      "metadata": {
        "colab": {
          "base_uri": "https://localhost:8080/"
        },
        "outputId": "408a660f-c55e-4360-cc9f-ca1e3ae72f8a",
        "id": "O-hIiPYBhwBn"
      },
      "execution_count": null,
      "outputs": [
        {
          "output_type": "execute_result",
          "data": {
            "text/plain": [
              "2"
            ]
          },
          "metadata": {},
          "execution_count": 19
        }
      ]
    },
    {
      "cell_type": "code",
      "source": [
        "PD.isnull().sum()"
      ],
      "metadata": {
        "colab": {
          "base_uri": "https://localhost:8080/"
        },
        "id": "Mr7xtEAt-Z39",
        "outputId": "c435fe99-840b-4f07-e2db-50ddc49e6efa"
      },
      "execution_count": null,
      "outputs": [
        {
          "output_type": "execute_result",
          "data": {
            "text/plain": [
              "id                           0\n",
              "gender                       0\n",
              "PPE                          0\n",
              "DFA                          0\n",
              "RPDE                         0\n",
              "                            ..\n",
              "tqwt_kurtosisValue_dec_33    0\n",
              "tqwt_kurtosisValue_dec_34    0\n",
              "tqwt_kurtosisValue_dec_35    0\n",
              "tqwt_kurtosisValue_dec_36    0\n",
              "Class                        0\n",
              "Length: 755, dtype: int64"
            ]
          },
          "metadata": {},
          "execution_count": 18
        }
      ]
    },
    {
      "cell_type": "code",
      "source": [
        "PD.columns"
      ],
      "metadata": {
        "colab": {
          "base_uri": "https://localhost:8080/"
        },
        "outputId": "b444555d-4db7-4ecf-acd4-bf863d55360e",
        "id": "pA4D4fUNioLy"
      },
      "execution_count": null,
      "outputs": [
        {
          "output_type": "execute_result",
          "data": {
            "text/plain": [
              "Index(['id', 'gender', 'PPE', 'DFA', 'RPDE', 'numPulses', 'numPeriodsPulses',\n",
              "       'meanPeriodPulses', 'stdDevPeriodPulses', 'locPctJitter',\n",
              "       ...\n",
              "       'tqwt_kurtosisValue_dec_28', 'tqwt_kurtosisValue_dec_29',\n",
              "       'tqwt_kurtosisValue_dec_30', 'tqwt_kurtosisValue_dec_31',\n",
              "       'tqwt_kurtosisValue_dec_32', 'tqwt_kurtosisValue_dec_33',\n",
              "       'tqwt_kurtosisValue_dec_34', 'tqwt_kurtosisValue_dec_35',\n",
              "       'tqwt_kurtosisValue_dec_36', 'Class'],\n",
              "      dtype='object', length=755)"
            ]
          },
          "metadata": {},
          "execution_count": 17
        }
      ]
    },
    {
      "cell_type": "code",
      "source": [
        "PD.shape"
      ],
      "metadata": {
        "colab": {
          "base_uri": "https://localhost:8080/"
        },
        "id": "wVTlQZ-RAJC0",
        "outputId": "907ca43d-3ba1-4dfb-c653-decdf5028ed5"
      },
      "execution_count": null,
      "outputs": [
        {
          "output_type": "execute_result",
          "data": {
            "text/plain": [
              "(756, 755)"
            ]
          },
          "metadata": {},
          "execution_count": 16
        }
      ]
    },
    {
      "cell_type": "code",
      "source": [
        "PD.groupby('Class').mean()"
      ],
      "metadata": {
        "colab": {
          "base_uri": "https://localhost:8080/",
          "height": 237
        },
        "id": "mYgDNxUhBaml",
        "outputId": "05724ec5-2a15-451d-9e2b-06c0a04e4854"
      },
      "execution_count": null,
      "outputs": [
        {
          "output_type": "execute_result",
          "data": {
            "text/plain": [
              "               id    gender       PPE       DFA      RPDE   numPulses  \\\n",
              "Class                                                                   \n",
              "0      139.421875  0.359375  0.767434  0.663866  0.430807  372.244792   \n",
              "1      120.760638  0.569149  0.739084  0.712856  0.508888  307.539007   \n",
              "\n",
              "       numPeriodsPulses  meanPeriodPulses  stdDevPeriodPulses  locPctJitter  \\\n",
              "Class                                                                         \n",
              "0            371.031250          0.005699            0.000290      0.001405   \n",
              "1            306.218085          0.006585            0.000414      0.002637   \n",
              "\n",
              "       ...  tqwt_kurtosisValue_dec_27  tqwt_kurtosisValue_dec_28  \\\n",
              "Class  ...                                                         \n",
              "0      ...                  47.053772                  45.754404   \n",
              "1      ...                  12.165554                  19.593113   \n",
              "\n",
              "       tqwt_kurtosisValue_dec_29  tqwt_kurtosisValue_dec_30  \\\n",
              "Class                                                         \n",
              "0                      32.006881                  21.592319   \n",
              "1                      19.719812                  17.565102   \n",
              "\n",
              "       tqwt_kurtosisValue_dec_31  tqwt_kurtosisValue_dec_32  \\\n",
              "Class                                                         \n",
              "0                      14.797452                  10.726868   \n",
              "1                      13.556976                  12.726897   \n",
              "\n",
              "       tqwt_kurtosisValue_dec_33  tqwt_kurtosisValue_dec_34  \\\n",
              "Class                                                         \n",
              "0                       9.021939                   9.619535   \n",
              "1                      13.516916                  16.562531   \n",
              "\n",
              "       tqwt_kurtosisValue_dec_35  tqwt_kurtosisValue_dec_36  \n",
              "Class                                                        \n",
              "0                       9.326543                  15.074830  \n",
              "1                      16.598373                  37.066227  \n",
              "\n",
              "[2 rows x 754 columns]"
            ],
            "text/html": [
              "\n",
              "  <div id=\"df-084715de-23d7-4fe4-84e9-5482ee79b5cc\">\n",
              "    <div class=\"colab-df-container\">\n",
              "      <div>\n",
              "<style scoped>\n",
              "    .dataframe tbody tr th:only-of-type {\n",
              "        vertical-align: middle;\n",
              "    }\n",
              "\n",
              "    .dataframe tbody tr th {\n",
              "        vertical-align: top;\n",
              "    }\n",
              "\n",
              "    .dataframe thead th {\n",
              "        text-align: right;\n",
              "    }\n",
              "</style>\n",
              "<table border=\"1\" class=\"dataframe\">\n",
              "  <thead>\n",
              "    <tr style=\"text-align: right;\">\n",
              "      <th></th>\n",
              "      <th>id</th>\n",
              "      <th>gender</th>\n",
              "      <th>PPE</th>\n",
              "      <th>DFA</th>\n",
              "      <th>RPDE</th>\n",
              "      <th>numPulses</th>\n",
              "      <th>numPeriodsPulses</th>\n",
              "      <th>meanPeriodPulses</th>\n",
              "      <th>stdDevPeriodPulses</th>\n",
              "      <th>locPctJitter</th>\n",
              "      <th>...</th>\n",
              "      <th>tqwt_kurtosisValue_dec_27</th>\n",
              "      <th>tqwt_kurtosisValue_dec_28</th>\n",
              "      <th>tqwt_kurtosisValue_dec_29</th>\n",
              "      <th>tqwt_kurtosisValue_dec_30</th>\n",
              "      <th>tqwt_kurtosisValue_dec_31</th>\n",
              "      <th>tqwt_kurtosisValue_dec_32</th>\n",
              "      <th>tqwt_kurtosisValue_dec_33</th>\n",
              "      <th>tqwt_kurtosisValue_dec_34</th>\n",
              "      <th>tqwt_kurtosisValue_dec_35</th>\n",
              "      <th>tqwt_kurtosisValue_dec_36</th>\n",
              "    </tr>\n",
              "    <tr>\n",
              "      <th>Class</th>\n",
              "      <th></th>\n",
              "      <th></th>\n",
              "      <th></th>\n",
              "      <th></th>\n",
              "      <th></th>\n",
              "      <th></th>\n",
              "      <th></th>\n",
              "      <th></th>\n",
              "      <th></th>\n",
              "      <th></th>\n",
              "      <th></th>\n",
              "      <th></th>\n",
              "      <th></th>\n",
              "      <th></th>\n",
              "      <th></th>\n",
              "      <th></th>\n",
              "      <th></th>\n",
              "      <th></th>\n",
              "      <th></th>\n",
              "      <th></th>\n",
              "      <th></th>\n",
              "    </tr>\n",
              "  </thead>\n",
              "  <tbody>\n",
              "    <tr>\n",
              "      <th>0</th>\n",
              "      <td>139.421875</td>\n",
              "      <td>0.359375</td>\n",
              "      <td>0.767434</td>\n",
              "      <td>0.663866</td>\n",
              "      <td>0.430807</td>\n",
              "      <td>372.244792</td>\n",
              "      <td>371.031250</td>\n",
              "      <td>0.005699</td>\n",
              "      <td>0.000290</td>\n",
              "      <td>0.001405</td>\n",
              "      <td>...</td>\n",
              "      <td>47.053772</td>\n",
              "      <td>45.754404</td>\n",
              "      <td>32.006881</td>\n",
              "      <td>21.592319</td>\n",
              "      <td>14.797452</td>\n",
              "      <td>10.726868</td>\n",
              "      <td>9.021939</td>\n",
              "      <td>9.619535</td>\n",
              "      <td>9.326543</td>\n",
              "      <td>15.074830</td>\n",
              "    </tr>\n",
              "    <tr>\n",
              "      <th>1</th>\n",
              "      <td>120.760638</td>\n",
              "      <td>0.569149</td>\n",
              "      <td>0.739084</td>\n",
              "      <td>0.712856</td>\n",
              "      <td>0.508888</td>\n",
              "      <td>307.539007</td>\n",
              "      <td>306.218085</td>\n",
              "      <td>0.006585</td>\n",
              "      <td>0.000414</td>\n",
              "      <td>0.002637</td>\n",
              "      <td>...</td>\n",
              "      <td>12.165554</td>\n",
              "      <td>19.593113</td>\n",
              "      <td>19.719812</td>\n",
              "      <td>17.565102</td>\n",
              "      <td>13.556976</td>\n",
              "      <td>12.726897</td>\n",
              "      <td>13.516916</td>\n",
              "      <td>16.562531</td>\n",
              "      <td>16.598373</td>\n",
              "      <td>37.066227</td>\n",
              "    </tr>\n",
              "  </tbody>\n",
              "</table>\n",
              "<p>2 rows × 754 columns</p>\n",
              "</div>\n",
              "      <button class=\"colab-df-convert\" onclick=\"convertToInteractive('df-084715de-23d7-4fe4-84e9-5482ee79b5cc')\"\n",
              "              title=\"Convert this dataframe to an interactive table.\"\n",
              "              style=\"display:none;\">\n",
              "        \n",
              "  <svg xmlns=\"http://www.w3.org/2000/svg\" height=\"24px\"viewBox=\"0 0 24 24\"\n",
              "       width=\"24px\">\n",
              "    <path d=\"M0 0h24v24H0V0z\" fill=\"none\"/>\n",
              "    <path d=\"M18.56 5.44l.94 2.06.94-2.06 2.06-.94-2.06-.94-.94-2.06-.94 2.06-2.06.94zm-11 1L8.5 8.5l.94-2.06 2.06-.94-2.06-.94L8.5 2.5l-.94 2.06-2.06.94zm10 10l.94 2.06.94-2.06 2.06-.94-2.06-.94-.94-2.06-.94 2.06-2.06.94z\"/><path d=\"M17.41 7.96l-1.37-1.37c-.4-.4-.92-.59-1.43-.59-.52 0-1.04.2-1.43.59L10.3 9.45l-7.72 7.72c-.78.78-.78 2.05 0 2.83L4 21.41c.39.39.9.59 1.41.59.51 0 1.02-.2 1.41-.59l7.78-7.78 2.81-2.81c.8-.78.8-2.07 0-2.86zM5.41 20L4 18.59l7.72-7.72 1.47 1.35L5.41 20z\"/>\n",
              "  </svg>\n",
              "      </button>\n",
              "      \n",
              "  <style>\n",
              "    .colab-df-container {\n",
              "      display:flex;\n",
              "      flex-wrap:wrap;\n",
              "      gap: 12px;\n",
              "    }\n",
              "\n",
              "    .colab-df-convert {\n",
              "      background-color: #E8F0FE;\n",
              "      border: none;\n",
              "      border-radius: 50%;\n",
              "      cursor: pointer;\n",
              "      display: none;\n",
              "      fill: #1967D2;\n",
              "      height: 32px;\n",
              "      padding: 0 0 0 0;\n",
              "      width: 32px;\n",
              "    }\n",
              "\n",
              "    .colab-df-convert:hover {\n",
              "      background-color: #E2EBFA;\n",
              "      box-shadow: 0px 1px 2px rgba(60, 64, 67, 0.3), 0px 1px 3px 1px rgba(60, 64, 67, 0.15);\n",
              "      fill: #174EA6;\n",
              "    }\n",
              "\n",
              "    [theme=dark] .colab-df-convert {\n",
              "      background-color: #3B4455;\n",
              "      fill: #D2E3FC;\n",
              "    }\n",
              "\n",
              "    [theme=dark] .colab-df-convert:hover {\n",
              "      background-color: #434B5C;\n",
              "      box-shadow: 0px 1px 3px 1px rgba(0, 0, 0, 0.15);\n",
              "      filter: drop-shadow(0px 1px 2px rgba(0, 0, 0, 0.3));\n",
              "      fill: #FFFFFF;\n",
              "    }\n",
              "  </style>\n",
              "\n",
              "      <script>\n",
              "        const buttonEl =\n",
              "          document.querySelector('#df-084715de-23d7-4fe4-84e9-5482ee79b5cc button.colab-df-convert');\n",
              "        buttonEl.style.display =\n",
              "          google.colab.kernel.accessAllowed ? 'block' : 'none';\n",
              "\n",
              "        async function convertToInteractive(key) {\n",
              "          const element = document.querySelector('#df-084715de-23d7-4fe4-84e9-5482ee79b5cc');\n",
              "          const dataTable =\n",
              "            await google.colab.kernel.invokeFunction('convertToInteractive',\n",
              "                                                     [key], {});\n",
              "          if (!dataTable) return;\n",
              "\n",
              "          const docLinkHtml = 'Like what you see? Visit the ' +\n",
              "            '<a target=\"_blank\" href=https://colab.research.google.com/notebooks/data_table.ipynb>data table notebook</a>'\n",
              "            + ' to learn more about interactive tables.';\n",
              "          element.innerHTML = '';\n",
              "          dataTable['output_type'] = 'display_data';\n",
              "          await google.colab.output.renderOutput(dataTable, element);\n",
              "          const docLink = document.createElement('div');\n",
              "          docLink.innerHTML = docLinkHtml;\n",
              "          element.appendChild(docLink);\n",
              "        }\n",
              "      </script>\n",
              "    </div>\n",
              "  </div>\n",
              "  "
            ]
          },
          "metadata": {},
          "execution_count": 19
        }
      ]
    },
    {
      "cell_type": "code",
      "source": [
        "X = PD.drop(columns=['id','gender','Class'], axis=1)\n",
        "X"
      ],
      "metadata": {
        "id": "GMhHEyFfBpZm",
        "colab": {
          "base_uri": "https://localhost:8080/",
          "height": 488
        },
        "outputId": "9670ad2c-3e04-416a-a9bd-2ffb501a7363"
      },
      "execution_count": null,
      "outputs": [
        {
          "output_type": "execute_result",
          "data": {
            "text/plain": [
              "         PPE      DFA     RPDE  numPulses  numPeriodsPulses  meanPeriodPulses  \\\n",
              "0    0.85247  0.71826  0.57227        240               239          0.008064   \n",
              "1    0.76686  0.69481  0.53966        234               233          0.008258   \n",
              "2    0.85083  0.67604  0.58982        232               231          0.008340   \n",
              "3    0.41121  0.79672  0.59257        178               177          0.010858   \n",
              "4    0.32790  0.79782  0.53028        236               235          0.008162   \n",
              "..       ...      ...      ...        ...               ...               ...   \n",
              "751  0.80903  0.56355  0.28385        417               416          0.004627   \n",
              "752  0.16084  0.56499  0.59194        415               413          0.004550   \n",
              "753  0.88389  0.72335  0.46815        381               380          0.005069   \n",
              "754  0.83782  0.74890  0.49823        340               339          0.005679   \n",
              "755  0.81304  0.76471  0.46374        340               339          0.005676   \n",
              "\n",
              "     stdDevPeriodPulses  locPctJitter  locAbsJitter  rapJitter  ...  \\\n",
              "0              0.000087       0.00218      0.000018    0.00067  ...   \n",
              "1              0.000073       0.00195      0.000016    0.00052  ...   \n",
              "2              0.000060       0.00176      0.000015    0.00057  ...   \n",
              "3              0.000183       0.00419      0.000046    0.00149  ...   \n",
              "4              0.002669       0.00535      0.000044    0.00166  ...   \n",
              "..                  ...           ...           ...        ...  ...   \n",
              "751            0.000052       0.00064      0.000003    0.00008  ...   \n",
              "752            0.000220       0.00143      0.000006    0.00016  ...   \n",
              "753            0.000103       0.00076      0.000004    0.00011  ...   \n",
              "754            0.000055       0.00092      0.000005    0.00017  ...   \n",
              "755            0.000037       0.00078      0.000004    0.00014  ...   \n",
              "\n",
              "     tqwt_kurtosisValue_dec_27  tqwt_kurtosisValue_dec_28  \\\n",
              "0                       1.5466                     1.5620   \n",
              "1                       1.5530                     1.5589   \n",
              "2                       1.5399                     1.5643   \n",
              "3                       6.9761                     3.7805   \n",
              "4                       7.8832                     6.1727   \n",
              "..                         ...                        ...   \n",
              "751                     3.4394                     3.0706   \n",
              "752                    19.6733                     1.9704   \n",
              "753                   137.3126                    51.5607   \n",
              "754                     5.4425                    19.1607   \n",
              "755                    11.1487                    62.9927   \n",
              "\n",
              "     tqwt_kurtosisValue_dec_29  tqwt_kurtosisValue_dec_30  \\\n",
              "0                       2.6445                     3.8686   \n",
              "1                       3.6107                    23.5155   \n",
              "2                       2.3308                     9.4959   \n",
              "3                       3.5664                     5.2558   \n",
              "4                       5.8416                     6.0805   \n",
              "..                         ...                        ...   \n",
              "751                     3.0190                     3.1212   \n",
              "752                     1.7451                     1.8277   \n",
              "753                    44.4641                    26.1586   \n",
              "754                    12.8312                     8.9434   \n",
              "755                    21.8152                     9.2457   \n",
              "\n",
              "     tqwt_kurtosisValue_dec_31  tqwt_kurtosisValue_dec_32  \\\n",
              "0                       4.2105                     5.1221   \n",
              "1                      14.1962                    11.0261   \n",
              "2                      10.7458                    11.0177   \n",
              "3                      14.0403                     4.2235   \n",
              "4                       5.7621                     7.7817   \n",
              "..                         ...                        ...   \n",
              "751                     2.4921                     3.5844   \n",
              "752                     2.4976                     5.2981   \n",
              "753                     6.3076                     2.8601   \n",
              "754                     2.2044                     1.9496   \n",
              "755                     4.8555                     3.0551   \n",
              "\n",
              "     tqwt_kurtosisValue_dec_33  tqwt_kurtosisValue_dec_34  \\\n",
              "0                       4.4625                     2.6202   \n",
              "1                       9.5082                     6.5245   \n",
              "2                       4.8066                     2.9199   \n",
              "3                       4.6857                     4.8460   \n",
              "4                      11.6891                     8.2103   \n",
              "..                         ...                        ...   \n",
              "751                     3.5400                     3.3805   \n",
              "752                     4.2616                     6.3042   \n",
              "753                     2.5361                     3.5377   \n",
              "754                     1.9664                     2.6801   \n",
              "755                     3.0415                     4.0116   \n",
              "\n",
              "     tqwt_kurtosisValue_dec_35  tqwt_kurtosisValue_dec_36  \n",
              "0                       3.0004                    18.9405  \n",
              "1                       6.3431                    45.1780  \n",
              "2                       3.1495                     4.7666  \n",
              "3                       6.2650                     4.0603  \n",
              "4                       5.0559                     6.1164  \n",
              "..                         ...                        ...  \n",
              "751                     3.2003                     6.8671  \n",
              "752                    10.9058                    28.4170  \n",
              "753                     3.3545                     5.0424  \n",
              "754                     2.8332                     3.7131  \n",
              "755                     2.6217                     3.1527  \n",
              "\n",
              "[756 rows x 752 columns]"
            ],
            "text/html": [
              "\n",
              "  <div id=\"df-eef05831-7d7d-4805-93be-0efe8122965f\">\n",
              "    <div class=\"colab-df-container\">\n",
              "      <div>\n",
              "<style scoped>\n",
              "    .dataframe tbody tr th:only-of-type {\n",
              "        vertical-align: middle;\n",
              "    }\n",
              "\n",
              "    .dataframe tbody tr th {\n",
              "        vertical-align: top;\n",
              "    }\n",
              "\n",
              "    .dataframe thead th {\n",
              "        text-align: right;\n",
              "    }\n",
              "</style>\n",
              "<table border=\"1\" class=\"dataframe\">\n",
              "  <thead>\n",
              "    <tr style=\"text-align: right;\">\n",
              "      <th></th>\n",
              "      <th>PPE</th>\n",
              "      <th>DFA</th>\n",
              "      <th>RPDE</th>\n",
              "      <th>numPulses</th>\n",
              "      <th>numPeriodsPulses</th>\n",
              "      <th>meanPeriodPulses</th>\n",
              "      <th>stdDevPeriodPulses</th>\n",
              "      <th>locPctJitter</th>\n",
              "      <th>locAbsJitter</th>\n",
              "      <th>rapJitter</th>\n",
              "      <th>...</th>\n",
              "      <th>tqwt_kurtosisValue_dec_27</th>\n",
              "      <th>tqwt_kurtosisValue_dec_28</th>\n",
              "      <th>tqwt_kurtosisValue_dec_29</th>\n",
              "      <th>tqwt_kurtosisValue_dec_30</th>\n",
              "      <th>tqwt_kurtosisValue_dec_31</th>\n",
              "      <th>tqwt_kurtosisValue_dec_32</th>\n",
              "      <th>tqwt_kurtosisValue_dec_33</th>\n",
              "      <th>tqwt_kurtosisValue_dec_34</th>\n",
              "      <th>tqwt_kurtosisValue_dec_35</th>\n",
              "      <th>tqwt_kurtosisValue_dec_36</th>\n",
              "    </tr>\n",
              "  </thead>\n",
              "  <tbody>\n",
              "    <tr>\n",
              "      <th>0</th>\n",
              "      <td>0.85247</td>\n",
              "      <td>0.71826</td>\n",
              "      <td>0.57227</td>\n",
              "      <td>240</td>\n",
              "      <td>239</td>\n",
              "      <td>0.008064</td>\n",
              "      <td>0.000087</td>\n",
              "      <td>0.00218</td>\n",
              "      <td>0.000018</td>\n",
              "      <td>0.00067</td>\n",
              "      <td>...</td>\n",
              "      <td>1.5466</td>\n",
              "      <td>1.5620</td>\n",
              "      <td>2.6445</td>\n",
              "      <td>3.8686</td>\n",
              "      <td>4.2105</td>\n",
              "      <td>5.1221</td>\n",
              "      <td>4.4625</td>\n",
              "      <td>2.6202</td>\n",
              "      <td>3.0004</td>\n",
              "      <td>18.9405</td>\n",
              "    </tr>\n",
              "    <tr>\n",
              "      <th>1</th>\n",
              "      <td>0.76686</td>\n",
              "      <td>0.69481</td>\n",
              "      <td>0.53966</td>\n",
              "      <td>234</td>\n",
              "      <td>233</td>\n",
              "      <td>0.008258</td>\n",
              "      <td>0.000073</td>\n",
              "      <td>0.00195</td>\n",
              "      <td>0.000016</td>\n",
              "      <td>0.00052</td>\n",
              "      <td>...</td>\n",
              "      <td>1.5530</td>\n",
              "      <td>1.5589</td>\n",
              "      <td>3.6107</td>\n",
              "      <td>23.5155</td>\n",
              "      <td>14.1962</td>\n",
              "      <td>11.0261</td>\n",
              "      <td>9.5082</td>\n",
              "      <td>6.5245</td>\n",
              "      <td>6.3431</td>\n",
              "      <td>45.1780</td>\n",
              "    </tr>\n",
              "    <tr>\n",
              "      <th>2</th>\n",
              "      <td>0.85083</td>\n",
              "      <td>0.67604</td>\n",
              "      <td>0.58982</td>\n",
              "      <td>232</td>\n",
              "      <td>231</td>\n",
              "      <td>0.008340</td>\n",
              "      <td>0.000060</td>\n",
              "      <td>0.00176</td>\n",
              "      <td>0.000015</td>\n",
              "      <td>0.00057</td>\n",
              "      <td>...</td>\n",
              "      <td>1.5399</td>\n",
              "      <td>1.5643</td>\n",
              "      <td>2.3308</td>\n",
              "      <td>9.4959</td>\n",
              "      <td>10.7458</td>\n",
              "      <td>11.0177</td>\n",
              "      <td>4.8066</td>\n",
              "      <td>2.9199</td>\n",
              "      <td>3.1495</td>\n",
              "      <td>4.7666</td>\n",
              "    </tr>\n",
              "    <tr>\n",
              "      <th>3</th>\n",
              "      <td>0.41121</td>\n",
              "      <td>0.79672</td>\n",
              "      <td>0.59257</td>\n",
              "      <td>178</td>\n",
              "      <td>177</td>\n",
              "      <td>0.010858</td>\n",
              "      <td>0.000183</td>\n",
              "      <td>0.00419</td>\n",
              "      <td>0.000046</td>\n",
              "      <td>0.00149</td>\n",
              "      <td>...</td>\n",
              "      <td>6.9761</td>\n",
              "      <td>3.7805</td>\n",
              "      <td>3.5664</td>\n",
              "      <td>5.2558</td>\n",
              "      <td>14.0403</td>\n",
              "      <td>4.2235</td>\n",
              "      <td>4.6857</td>\n",
              "      <td>4.8460</td>\n",
              "      <td>6.2650</td>\n",
              "      <td>4.0603</td>\n",
              "    </tr>\n",
              "    <tr>\n",
              "      <th>4</th>\n",
              "      <td>0.32790</td>\n",
              "      <td>0.79782</td>\n",
              "      <td>0.53028</td>\n",
              "      <td>236</td>\n",
              "      <td>235</td>\n",
              "      <td>0.008162</td>\n",
              "      <td>0.002669</td>\n",
              "      <td>0.00535</td>\n",
              "      <td>0.000044</td>\n",
              "      <td>0.00166</td>\n",
              "      <td>...</td>\n",
              "      <td>7.8832</td>\n",
              "      <td>6.1727</td>\n",
              "      <td>5.8416</td>\n",
              "      <td>6.0805</td>\n",
              "      <td>5.7621</td>\n",
              "      <td>7.7817</td>\n",
              "      <td>11.6891</td>\n",
              "      <td>8.2103</td>\n",
              "      <td>5.0559</td>\n",
              "      <td>6.1164</td>\n",
              "    </tr>\n",
              "    <tr>\n",
              "      <th>...</th>\n",
              "      <td>...</td>\n",
              "      <td>...</td>\n",
              "      <td>...</td>\n",
              "      <td>...</td>\n",
              "      <td>...</td>\n",
              "      <td>...</td>\n",
              "      <td>...</td>\n",
              "      <td>...</td>\n",
              "      <td>...</td>\n",
              "      <td>...</td>\n",
              "      <td>...</td>\n",
              "      <td>...</td>\n",
              "      <td>...</td>\n",
              "      <td>...</td>\n",
              "      <td>...</td>\n",
              "      <td>...</td>\n",
              "      <td>...</td>\n",
              "      <td>...</td>\n",
              "      <td>...</td>\n",
              "      <td>...</td>\n",
              "      <td>...</td>\n",
              "    </tr>\n",
              "    <tr>\n",
              "      <th>751</th>\n",
              "      <td>0.80903</td>\n",
              "      <td>0.56355</td>\n",
              "      <td>0.28385</td>\n",
              "      <td>417</td>\n",
              "      <td>416</td>\n",
              "      <td>0.004627</td>\n",
              "      <td>0.000052</td>\n",
              "      <td>0.00064</td>\n",
              "      <td>0.000003</td>\n",
              "      <td>0.00008</td>\n",
              "      <td>...</td>\n",
              "      <td>3.4394</td>\n",
              "      <td>3.0706</td>\n",
              "      <td>3.0190</td>\n",
              "      <td>3.1212</td>\n",
              "      <td>2.4921</td>\n",
              "      <td>3.5844</td>\n",
              "      <td>3.5400</td>\n",
              "      <td>3.3805</td>\n",
              "      <td>3.2003</td>\n",
              "      <td>6.8671</td>\n",
              "    </tr>\n",
              "    <tr>\n",
              "      <th>752</th>\n",
              "      <td>0.16084</td>\n",
              "      <td>0.56499</td>\n",
              "      <td>0.59194</td>\n",
              "      <td>415</td>\n",
              "      <td>413</td>\n",
              "      <td>0.004550</td>\n",
              "      <td>0.000220</td>\n",
              "      <td>0.00143</td>\n",
              "      <td>0.000006</td>\n",
              "      <td>0.00016</td>\n",
              "      <td>...</td>\n",
              "      <td>19.6733</td>\n",
              "      <td>1.9704</td>\n",
              "      <td>1.7451</td>\n",
              "      <td>1.8277</td>\n",
              "      <td>2.4976</td>\n",
              "      <td>5.2981</td>\n",
              "      <td>4.2616</td>\n",
              "      <td>6.3042</td>\n",
              "      <td>10.9058</td>\n",
              "      <td>28.4170</td>\n",
              "    </tr>\n",
              "    <tr>\n",
              "      <th>753</th>\n",
              "      <td>0.88389</td>\n",
              "      <td>0.72335</td>\n",
              "      <td>0.46815</td>\n",
              "      <td>381</td>\n",
              "      <td>380</td>\n",
              "      <td>0.005069</td>\n",
              "      <td>0.000103</td>\n",
              "      <td>0.00076</td>\n",
              "      <td>0.000004</td>\n",
              "      <td>0.00011</td>\n",
              "      <td>...</td>\n",
              "      <td>137.3126</td>\n",
              "      <td>51.5607</td>\n",
              "      <td>44.4641</td>\n",
              "      <td>26.1586</td>\n",
              "      <td>6.3076</td>\n",
              "      <td>2.8601</td>\n",
              "      <td>2.5361</td>\n",
              "      <td>3.5377</td>\n",
              "      <td>3.3545</td>\n",
              "      <td>5.0424</td>\n",
              "    </tr>\n",
              "    <tr>\n",
              "      <th>754</th>\n",
              "      <td>0.83782</td>\n",
              "      <td>0.74890</td>\n",
              "      <td>0.49823</td>\n",
              "      <td>340</td>\n",
              "      <td>339</td>\n",
              "      <td>0.005679</td>\n",
              "      <td>0.000055</td>\n",
              "      <td>0.00092</td>\n",
              "      <td>0.000005</td>\n",
              "      <td>0.00017</td>\n",
              "      <td>...</td>\n",
              "      <td>5.4425</td>\n",
              "      <td>19.1607</td>\n",
              "      <td>12.8312</td>\n",
              "      <td>8.9434</td>\n",
              "      <td>2.2044</td>\n",
              "      <td>1.9496</td>\n",
              "      <td>1.9664</td>\n",
              "      <td>2.6801</td>\n",
              "      <td>2.8332</td>\n",
              "      <td>3.7131</td>\n",
              "    </tr>\n",
              "    <tr>\n",
              "      <th>755</th>\n",
              "      <td>0.81304</td>\n",
              "      <td>0.76471</td>\n",
              "      <td>0.46374</td>\n",
              "      <td>340</td>\n",
              "      <td>339</td>\n",
              "      <td>0.005676</td>\n",
              "      <td>0.000037</td>\n",
              "      <td>0.00078</td>\n",
              "      <td>0.000004</td>\n",
              "      <td>0.00014</td>\n",
              "      <td>...</td>\n",
              "      <td>11.1487</td>\n",
              "      <td>62.9927</td>\n",
              "      <td>21.8152</td>\n",
              "      <td>9.2457</td>\n",
              "      <td>4.8555</td>\n",
              "      <td>3.0551</td>\n",
              "      <td>3.0415</td>\n",
              "      <td>4.0116</td>\n",
              "      <td>2.6217</td>\n",
              "      <td>3.1527</td>\n",
              "    </tr>\n",
              "  </tbody>\n",
              "</table>\n",
              "<p>756 rows × 752 columns</p>\n",
              "</div>\n",
              "      <button class=\"colab-df-convert\" onclick=\"convertToInteractive('df-eef05831-7d7d-4805-93be-0efe8122965f')\"\n",
              "              title=\"Convert this dataframe to an interactive table.\"\n",
              "              style=\"display:none;\">\n",
              "        \n",
              "  <svg xmlns=\"http://www.w3.org/2000/svg\" height=\"24px\"viewBox=\"0 0 24 24\"\n",
              "       width=\"24px\">\n",
              "    <path d=\"M0 0h24v24H0V0z\" fill=\"none\"/>\n",
              "    <path d=\"M18.56 5.44l.94 2.06.94-2.06 2.06-.94-2.06-.94-.94-2.06-.94 2.06-2.06.94zm-11 1L8.5 8.5l.94-2.06 2.06-.94-2.06-.94L8.5 2.5l-.94 2.06-2.06.94zm10 10l.94 2.06.94-2.06 2.06-.94-2.06-.94-.94-2.06-.94 2.06-2.06.94z\"/><path d=\"M17.41 7.96l-1.37-1.37c-.4-.4-.92-.59-1.43-.59-.52 0-1.04.2-1.43.59L10.3 9.45l-7.72 7.72c-.78.78-.78 2.05 0 2.83L4 21.41c.39.39.9.59 1.41.59.51 0 1.02-.2 1.41-.59l7.78-7.78 2.81-2.81c.8-.78.8-2.07 0-2.86zM5.41 20L4 18.59l7.72-7.72 1.47 1.35L5.41 20z\"/>\n",
              "  </svg>\n",
              "      </button>\n",
              "      \n",
              "  <style>\n",
              "    .colab-df-container {\n",
              "      display:flex;\n",
              "      flex-wrap:wrap;\n",
              "      gap: 12px;\n",
              "    }\n",
              "\n",
              "    .colab-df-convert {\n",
              "      background-color: #E8F0FE;\n",
              "      border: none;\n",
              "      border-radius: 50%;\n",
              "      cursor: pointer;\n",
              "      display: none;\n",
              "      fill: #1967D2;\n",
              "      height: 32px;\n",
              "      padding: 0 0 0 0;\n",
              "      width: 32px;\n",
              "    }\n",
              "\n",
              "    .colab-df-convert:hover {\n",
              "      background-color: #E2EBFA;\n",
              "      box-shadow: 0px 1px 2px rgba(60, 64, 67, 0.3), 0px 1px 3px 1px rgba(60, 64, 67, 0.15);\n",
              "      fill: #174EA6;\n",
              "    }\n",
              "\n",
              "    [theme=dark] .colab-df-convert {\n",
              "      background-color: #3B4455;\n",
              "      fill: #D2E3FC;\n",
              "    }\n",
              "\n",
              "    [theme=dark] .colab-df-convert:hover {\n",
              "      background-color: #434B5C;\n",
              "      box-shadow: 0px 1px 3px 1px rgba(0, 0, 0, 0.15);\n",
              "      filter: drop-shadow(0px 1px 2px rgba(0, 0, 0, 0.3));\n",
              "      fill: #FFFFFF;\n",
              "    }\n",
              "  </style>\n",
              "\n",
              "      <script>\n",
              "        const buttonEl =\n",
              "          document.querySelector('#df-eef05831-7d7d-4805-93be-0efe8122965f button.colab-df-convert');\n",
              "        buttonEl.style.display =\n",
              "          google.colab.kernel.accessAllowed ? 'block' : 'none';\n",
              "\n",
              "        async function convertToInteractive(key) {\n",
              "          const element = document.querySelector('#df-eef05831-7d7d-4805-93be-0efe8122965f');\n",
              "          const dataTable =\n",
              "            await google.colab.kernel.invokeFunction('convertToInteractive',\n",
              "                                                     [key], {});\n",
              "          if (!dataTable) return;\n",
              "\n",
              "          const docLinkHtml = 'Like what you see? Visit the ' +\n",
              "            '<a target=\"_blank\" href=https://colab.research.google.com/notebooks/data_table.ipynb>data table notebook</a>'\n",
              "            + ' to learn more about interactive tables.';\n",
              "          element.innerHTML = '';\n",
              "          dataTable['output_type'] = 'display_data';\n",
              "          await google.colab.output.renderOutput(dataTable, element);\n",
              "          const docLink = document.createElement('div');\n",
              "          docLink.innerHTML = docLinkHtml;\n",
              "          element.appendChild(docLink);\n",
              "        }\n",
              "      </script>\n",
              "    </div>\n",
              "  </div>\n",
              "  "
            ]
          },
          "metadata": {},
          "execution_count": 20
        }
      ]
    },
    {
      "cell_type": "code",
      "source": [
        "Y=PD['Class']\n",
        "Y"
      ],
      "metadata": {
        "id": "IT_m3UyTDF50",
        "colab": {
          "base_uri": "https://localhost:8080/"
        },
        "outputId": "8b89b5fe-5dc2-41a4-a477-083ceb341925"
      },
      "execution_count": null,
      "outputs": [
        {
          "output_type": "execute_result",
          "data": {
            "text/plain": [
              "0      1\n",
              "1      1\n",
              "2      1\n",
              "3      1\n",
              "4      1\n",
              "      ..\n",
              "751    0\n",
              "752    0\n",
              "753    0\n",
              "754    0\n",
              "755    0\n",
              "Name: Class, Length: 756, dtype: int64"
            ]
          },
          "metadata": {},
          "execution_count": 21
        }
      ]
    },
    {
      "cell_type": "markdown",
      "source": [
        "Visualisation"
      ],
      "metadata": {
        "id": "qs48BAMr9vDy"
      }
    },
    {
      "cell_type": "code",
      "source": [
        "import pandas as pd\n",
        "import numpy as np\n",
        "import seaborn as sns\n",
        "import matplotlib.pyplot as plt\n",
        "from sklearn import metrics"
      ],
      "metadata": {
        "id": "-7Wl5P8N-Pw3"
      },
      "execution_count": null,
      "outputs": []
    },
    {
      "cell_type": "code",
      "source": [
        "plt.figure(figsize=(4,3))\n",
        "PD.Class.hist()\n",
        "plt.xlabel('class')\n",
        "plt.ylabel('Frequencies')\n",
        "plt.plot()"
      ],
      "metadata": {
        "colab": {
          "base_uri": "https://localhost:8080/",
          "height": 328
        },
        "id": "4_IodRug9uqB",
        "outputId": "aa98bbc2-8fd9-48e8-c871-2049109812a1"
      },
      "execution_count": null,
      "outputs": [
        {
          "output_type": "execute_result",
          "data": {
            "text/plain": [
              "[]"
            ]
          },
          "metadata": {},
          "execution_count": 446
        },
        {
          "output_type": "display_data",
          "data": {
            "text/plain": [
              "<Figure size 400x300 with 1 Axes>"
            ],
            "image/png": "[encoded data removed]"
          },
          "metadata": {}
        }
      ]
    },
    {
      "cell_type": "code",
      "source": [
        "plt.figure(figsize=(4,3))\n",
        "PD.gender.hist()\n",
        "plt.xlabel('gender')\n",
        "plt.ylabel('Frequencies')\n",
        "plt.plot()"
      ],
      "metadata": {
        "colab": {
          "base_uri": "https://localhost:8080/",
          "height": 328
        },
        "outputId": "1039810b-1fdf-455a-a2dd-d63b2aa01092",
        "id": "IpuiPVm6mRYQ"
      },
      "execution_count": null,
      "outputs": [
        {
          "output_type": "execute_result",
          "data": {
            "text/plain": [
              "[]"
            ]
          },
          "metadata": {},
          "execution_count": 447
        },
        {
          "output_type": "display_data",
          "data": {
            "text/plain": [
              "<Figure size 400x300 with 1 Axes>"
            ],
            "image/png": "[encoded data removed]"
          },
          "metadata": {}
        }
      ]
    },
    {
      "cell_type": "code",
      "source": [
        "plt.figure(figsize=(10,6))\n",
        "PD.PPE.hist()\n",
        "plt.xlabel('PPE')\n",
        "plt.ylabel('Frequencies')\n",
        "plt.plot()"
      ],
      "metadata": {
        "colab": {
          "base_uri": "https://localhost:8080/",
          "height": 559
        },
        "outputId": "8b5d0a69-e361-4a67-b11e-f1f77a5b0eee",
        "id": "g1jsQy9ny9E0"
      },
      "execution_count": null,
      "outputs": [
        {
          "output_type": "execute_result",
          "data": {
            "text/plain": [
              "[]"
            ]
          },
          "metadata": {},
          "execution_count": 448
        },
        {
          "output_type": "display_data",
          "data": {
            "text/plain": [
              "<Figure size 1000x600 with 1 Axes>"
            ],
            "image/png": "[encoded data removed]"
          },
          "metadata": {}
        }
      ]
    },
    {
      "cell_type": "code",
      "source": [
        "plt.figure(figsize=(4,2))\n",
        "sns.barplot(x='Class',y='RPDE',data=PD)"
      ],
      "metadata": {
        "colab": {
          "base_uri": "https://localhost:8080/",
          "height": 251
        },
        "id": "peQV6q4b9t0S",
        "outputId": "8d0204d6-4f71-4be6-db7e-ba0a30c11222"
      },
      "execution_count": null,
      "outputs": [
        {
          "output_type": "execute_result",
          "data": {
            "text/plain": [
              "<Axes: xlabel='Class', ylabel='RPDE'>"
            ]
          },
          "metadata": {},
          "execution_count": 449
        },
        {
          "output_type": "display_data",
          "data": {
            "text/plain": [
              "<Figure size 400x200 with 1 Axes>"
            ],
            "image/png": "[encoded data removed]"
          },
          "metadata": {}
        }
      ]
    },
    {
      "cell_type": "code",
      "source": [
        "plt.figure(figsize=(4,2))\n",
        "sns.barplot(x='Class',y='numPulses',data=PD)"
      ],
      "metadata": {
        "colab": {
          "base_uri": "https://localhost:8080/",
          "height": 253
        },
        "outputId": "d9e478b4-558d-4ca1-9d12-073e84fd6798",
        "id": "UPCzbSfjrHgq"
      },
      "execution_count": null,
      "outputs": [
        {
          "output_type": "execute_result",
          "data": {
            "text/plain": [
              "<Axes: xlabel='Class', ylabel='numPulses'>"
            ]
          },
          "metadata": {},
          "execution_count": 450
        },
        {
          "output_type": "display_data",
          "data": {
            "text/plain": [
              "<Figure size 400x200 with 1 Axes>"
            ],
            "image/png": "[encoded data removed]"
          },
          "metadata": {}
        }
      ]
    },
    {
      "cell_type": "markdown",
      "source": [
        "Scaling Data"
      ],
      "metadata": {
        "id": "A5d7RK1WR_hX"
      }
    },
    {
      "cell_type": "code",
      "source": [
        "from sklearn.preprocessing import StandardScaler"
      ],
      "metadata": {
        "id": "QyJDEM1xDZff"
      },
      "execution_count": null,
      "outputs": []
    },
    {
      "cell_type": "code",
      "source": [
        "SC=StandardScaler()\n",
        "X=np.array(SC.fit_transform(X))\n",
        "X"
      ],
      "metadata": {
        "id": "PsZ1oH93EdIN",
        "colab": {
          "base_uri": "https://localhost:8080/"
        },
        "outputId": "1d2bb2f2-b9dd-4255-e3cd-b98a579db1f7"
      },
      "execution_count": null,
      "outputs": [
        {
          "output_type": "execute_result",
          "data": {
            "text/plain": [
              "array([[ 0.62764391,  0.2561442 ,  0.60583513, ..., -0.775137  ,\n",
              "        -0.81472704, -0.36659507],\n",
              "       [ 0.12161952, -0.08043329,  0.36841516, ..., -0.52664699,\n",
              "        -0.58297219,  0.40039616],\n",
              "       [ 0.61795018, -0.34983882,  0.73360944, ..., -0.75606253,\n",
              "        -0.8043897 , -0.7809355 ],\n",
              "       ...,\n",
              "       [ 0.81336154,  0.3292009 , -0.15221966, ..., -0.71674252,\n",
              "        -0.79017671, -0.77287314],\n",
              "       [ 0.54105055,  0.69591966,  0.06678042, ..., -0.77132466,\n",
              "        -0.82631929, -0.81173208],\n",
              "       [ 0.3945807 ,  0.92284035, -0.18432705, ..., -0.68658105,\n",
              "        -0.84098293, -0.82811405]])"
            ]
          },
          "metadata": {},
          "execution_count": 23
        }
      ]
    },
    {
      "cell_type": "markdown",
      "source": [
        "TRAIN-TEST SPLIT"
      ],
      "metadata": {
        "id": "ezcTlL-uGe-2"
      }
    },
    {
      "cell_type": "code",
      "source": [
        "from sklearn.model_selection import train_test_split"
      ],
      "metadata": {
        "id": "WsfcTXn-G3t_"
      },
      "execution_count": null,
      "outputs": []
    },
    {
      "cell_type": "code",
      "source": [
        "X_train, X_test, Y_train, Y_test = train_test_split(X, Y, test_size=0.2, random_state=10)"
      ],
      "metadata": {
        "id": "-gH6PbmoHMzs"
      },
      "execution_count": null,
      "outputs": []
    },
    {
      "cell_type": "code",
      "source": [
        "print(X.shape, X_train.shape, X_test.shape)"
      ],
      "metadata": {
        "colab": {
          "base_uri": "https://localhost:8080/"
        },
        "id": "NYNNzHI3HfyM",
        "outputId": "cc7fd81f-6a8c-420d-9029-8e57c2fc2496"
      },
      "execution_count": null,
      "outputs": [
        {
          "output_type": "stream",
          "name": "stdout",
          "text": [
            "(756, 752) (604, 752) (152, 752)\n"
          ]
        }
      ]
    },
    {
      "cell_type": "code",
      "source": [
        "print(Y.shape,Y_test.shape,Y_train.shape)"
      ],
      "metadata": {
        "colab": {
          "base_uri": "https://localhost:8080/"
        },
        "id": "CXlxMVxvHsA8",
        "outputId": "e4240eee-a444-4200-df29-262f5c954394"
      },
      "execution_count": null,
      "outputs": [
        {
          "output_type": "stream",
          "name": "stdout",
          "text": [
            "(756,) (152,) (604,)\n"
          ]
        }
      ]
    },
    {
      "cell_type": "code",
      "source": [
        "X_train=np.array(X_train)\n",
        "len(X_train)"
      ],
      "metadata": {
        "colab": {
          "base_uri": "https://localhost:8080/"
        },
        "id": "wWk-HwKJIMnO",
        "outputId": "ba9cbd34-8b65-48a3-fb0a-7d82dc8cec6b"
      },
      "execution_count": null,
      "outputs": [
        {
          "output_type": "execute_result",
          "data": {
            "text/plain": [
              "604"
            ]
          },
          "metadata": {},
          "execution_count": 28
        }
      ]
    },
    {
      "cell_type": "code",
      "source": [
        "Y_train=np.array(Y_train)\n",
        "len(Y_train)"
      ],
      "metadata": {
        "colab": {
          "base_uri": "https://localhost:8080/"
        },
        "id": "hOn4Zr3RIgZE",
        "outputId": "7b78831f-62f0-4484-b5f4-4cd431756dc0"
      },
      "execution_count": null,
      "outputs": [
        {
          "output_type": "execute_result",
          "data": {
            "text/plain": [
              "604"
            ]
          },
          "metadata": {},
          "execution_count": 29
        }
      ]
    },
    {
      "cell_type": "code",
      "source": [
        "X_test=np.array(X_test)\n",
        "len(X_test)"
      ],
      "metadata": {
        "colab": {
          "base_uri": "https://localhost:8080/"
        },
        "id": "WtfYmLHeInZb",
        "outputId": "09cb545c-9edc-4823-e5c8-20ffa4d4afae"
      },
      "execution_count": null,
      "outputs": [
        {
          "output_type": "execute_result",
          "data": {
            "text/plain": [
              "152"
            ]
          },
          "metadata": {},
          "execution_count": 30
        }
      ]
    },
    {
      "cell_type": "code",
      "source": [
        "Y_test=np.array(Y_test)\n",
        "len(Y_test)"
      ],
      "metadata": {
        "colab": {
          "base_uri": "https://localhost:8080/"
        },
        "id": "E16siuomIt8X",
        "outputId": "7400ef56-0dfb-45de-f1a1-0a4b10aa9777"
      },
      "execution_count": null,
      "outputs": [
        {
          "output_type": "execute_result",
          "data": {
            "text/plain": [
              "152"
            ]
          },
          "metadata": {},
          "execution_count": 31
        }
      ]
    },
    {
      "cell_type": "markdown",
      "source": [
        "AUC score And ROC curve"
      ],
      "metadata": {
        "id": "crgz4KwN5jHY"
      }
    },
    {
      "cell_type": "code",
      "source": [
        "pip install scikit-plot"
      ],
      "metadata": {
        "colab": {
          "base_uri": "https://localhost:8080/"
        },
        "id": "QrzrqgBk9wSV",
        "outputId": "ccedbe02-a09c-4672-8150-a0611263721b"
      },
      "execution_count": null,
      "outputs": [
        {
          "output_type": "stream",
          "name": "stdout",
          "text": [
            "Looking in indexes: https://pypi.org/simple, https://us-python.pkg.dev/colab-wheels/public/simple/\n",
            "Collecting scikit-plot\n",
            "  Downloading scikit_plot-0.3.7-py3-none-any.whl (33 kB)\n",
            "Requirement already satisfied: matplotlib>=1.4.0 in /usr/local/lib/python3.10/dist-packages (from scikit-plot) (3.7.1)\n",
            "Requirement already satisfied: scikit-learn>=0.18 in /usr/local/lib/python3.10/dist-packages (from scikit-plot) (1.2.2)\n",
            "Requirement already satisfied: scipy>=0.9 in /usr/local/lib/python3.10/dist-packages (from scikit-plot) (1.10.1)\n",
            "Requirement already satisfied: joblib>=0.10 in /usr/local/lib/python3.10/dist-packages (from scikit-plot) (1.2.0)\n",
            "Requirement already satisfied: contourpy>=1.0.1 in /usr/local/lib/python3.10/dist-packages (from matplotlib>=1.4.0->scikit-plot) (1.0.7)\n",
            "Requirement already satisfied: cycler>=0.10 in /usr/local/lib/python3.10/dist-packages (from matplotlib>=1.4.0->scikit-plot) (0.11.0)\n",
            "Requirement already satisfied: fonttools>=4.22.0 in /usr/local/lib/python3.10/dist-packages (from matplotlib>=1.4.0->scikit-plot) (4.39.3)\n",
            "Requirement already satisfied: kiwisolver>=1.0.1 in /usr/local/lib/python3.10/dist-packages (from matplotlib>=1.4.0->scikit-plot) (1.4.4)\n",
            "Requirement already satisfied: numpy>=1.20 in /usr/local/lib/python3.10/dist-packages (from matplotlib>=1.4.0->scikit-plot) (1.22.4)\n",
            "Requirement already satisfied: packaging>=20.0 in /usr/local/lib/python3.10/dist-packages (from matplotlib>=1.4.0->scikit-plot) (23.1)\n",
            "Requirement already satisfied: pillow>=6.2.0 in /usr/local/lib/python3.10/dist-packages (from matplotlib>=1.4.0->scikit-plot) (8.4.0)\n",
            "Requirement already satisfied: pyparsing>=2.3.1 in /usr/local/lib/python3.10/dist-packages (from matplotlib>=1.4.0->scikit-plot) (3.0.9)\n",
            "Requirement already satisfied: python-dateutil>=2.7 in /usr/local/lib/python3.10/dist-packages (from matplotlib>=1.4.0->scikit-plot) (2.8.2)\n",
            "Requirement already satisfied: threadpoolctl>=2.0.0 in /usr/local/lib/python3.10/dist-packages (from scikit-learn>=0.18->scikit-plot) (3.1.0)\n",
            "Requirement already satisfied: six>=1.5 in /usr/local/lib/python3.10/dist-packages (from python-dateutil>=2.7->matplotlib>=1.4.0->scikit-plot) (1.16.0)\n",
            "Installing collected packages: scikit-plot\n",
            "Successfully installed scikit-plot-0.3.7\n"
          ]
        }
      ]
    },
    {
      "cell_type": "code",
      "source": [
        "from sklearn.model_selection import train_test_split\n",
        "from sklearn.tree import DecisionTreeClassifier\n",
        "from sklearn.metrics import roc_curve,roc_auc_score\n",
        "import matplotlib.pyplot as plt\n",
        "from scikitplot.metrics import plot_roc_curve\n",
        "from sklearn.linear_model import LogisticRegression\n",
        "from sklearn.ensemble import RandomForestClassifier\n",
        "from sklearn.svm import SVC\n",
        "from xgboost import XGBClassifier\n",
        "from sklearn.linear_model import LinearRegression"
      ],
      "metadata": {
        "id": "lhiceFqm5lfL"
      },
      "execution_count": null,
      "outputs": []
    },
    {
      "cell_type": "code",
      "source": [
        "  clf_tree = DecisionTreeClassifier()\n",
        "  clf_reg = LogisticRegression()\n",
        "  clf_RF=RandomForestClassifier()\n",
        "  clf_SVM=SVC(C=10)\n",
        "  clf_XGB=XGBClassifier()\n",
        "  clf_lin=LinearRegression()"
      ],
      "metadata": {
        "id": "-9s5ZM3tCDa8"
      },
      "execution_count": null,
      "outputs": []
    },
    {
      "cell_type": "code",
      "source": [
        "clf_SVM.probability=True"
      ],
      "metadata": {
        "id": "E4sa-VvUNqI4"
      },
      "execution_count": null,
      "outputs": []
    },
    {
      "cell_type": "code",
      "source": [
        "clf_tree.fit(X_train, Y_train);\n"
      ],
      "metadata": {
        "id": "q1IEfwGZCaTg"
      },
      "execution_count": null,
      "outputs": []
    },
    {
      "cell_type": "code",
      "source": [
        "clf_reg.fit(X_train, Y_train);\n"
      ],
      "metadata": {
        "id": "hSuxEhYoLVN3",
        "colab": {
          "base_uri": "https://localhost:8080/"
        },
        "outputId": "1373cc4a-730d-4c54-83d9-2873e110d6cf"
      },
      "execution_count": null,
      "outputs": [
        {
          "output_type": "stream",
          "name": "stderr",
          "text": [
            "/usr/local/lib/python3.10/dist-packages/sklearn/linear_model/_logistic.py:458: ConvergenceWarning: lbfgs failed to converge (status=1):\n",
            "STOP: TOTAL NO. of ITERATIONS REACHED LIMIT.\n",
            "\n",
            "Increase the number of iterations (max_iter) or scale the data as shown in:\n",
            "    https://scikit-learn.org/stable/modules/preprocessing.html\n",
            "Please also refer to the documentation for alternative solver options:\n",
            "    https://scikit-learn.org/stable/modules/linear_model.html#logistic-regression\n",
            "  n_iter_i = _check_optimize_result(\n"
          ]
        }
      ]
    },
    {
      "cell_type": "code",
      "source": [
        "clf_RF.fit(X_train, Y_train);"
      ],
      "metadata": {
        "id": "DbFvh81WLdLO"
      },
      "execution_count": null,
      "outputs": []
    },
    {
      "cell_type": "code",
      "source": [
        "clf_SVM.fit(X_train, Y_train);\n"
      ],
      "metadata": {
        "id": "1zZ0DYunLkml"
      },
      "execution_count": null,
      "outputs": []
    },
    {
      "cell_type": "code",
      "source": [
        "clf_XGB.fit(X_train, Y_train);"
      ],
      "metadata": {
        "id": "B32aMZovQWGJ"
      },
      "execution_count": null,
      "outputs": []
    },
    {
      "cell_type": "code",
      "source": [
        " y_score1 = clf_tree.predict_proba(X_test)[:,1]\n",
        ""
      ],
      "metadata": {
        "id": "Dszbn_6FCXex"
      },
      "execution_count": null,
      "outputs": []
    },
    {
      "cell_type": "code",
      "source": [
        "y_score2 = clf_reg.predict_proba(X_test)[:,1]"
      ],
      "metadata": {
        "id": "_qQT8EKSBTfh"
      },
      "execution_count": null,
      "outputs": []
    },
    {
      "cell_type": "code",
      "source": [
        "y_score3 = clf_RF.predict_proba(X_test)[:,1]"
      ],
      "metadata": {
        "id": "SigqPUDBLJxY"
      },
      "execution_count": null,
      "outputs": []
    },
    {
      "cell_type": "code",
      "source": [
        "y_score4 = clf_SVM.predict_proba(X_test)[:,1]"
      ],
      "metadata": {
        "id": "_uSic-zfL13l"
      },
      "execution_count": null,
      "outputs": []
    },
    {
      "cell_type": "code",
      "source": [
        "y_score5 = clf_XGB.predict_proba(X_test)[:,1]"
      ],
      "metadata": {
        "id": "DWnXpQNhQdVS"
      },
      "execution_count": null,
      "outputs": []
    },
    {
      "cell_type": "code",
      "source": [
        "false_positive_rate1, true_positive_rate1, threshold1 = roc_curve(Y_test, y_score1)"
      ],
      "metadata": {
        "id": "UNyZba0qFMI2"
      },
      "execution_count": null,
      "outputs": []
    },
    {
      "cell_type": "code",
      "source": [
        "false_positive_rate2, true_positive_rate2, threshold2 = roc_curve(Y_test, y_score2)"
      ],
      "metadata": {
        "id": "UATMAOjyFTT2"
      },
      "execution_count": null,
      "outputs": []
    },
    {
      "cell_type": "code",
      "source": [
        "false_positive_rate3, true_positive_rate3, threshold3 = roc_curve(Y_test, y_score3)"
      ],
      "metadata": {
        "id": "C78boqnhXeYB"
      },
      "execution_count": null,
      "outputs": []
    },
    {
      "cell_type": "code",
      "source": [
        "false_positive_rate4, true_positive_rate4, threshold4 = roc_curve(Y_test, y_score4)"
      ],
      "metadata": {
        "id": "JQy_pQxeOUyS"
      },
      "execution_count": null,
      "outputs": []
    },
    {
      "cell_type": "code",
      "source": [
        "false_positive_rate5, true_positive_rate5, threshold5 = roc_curve(Y_test, y_score5)"
      ],
      "metadata": {
        "id": "YqyHrHMPQmv_"
      },
      "execution_count": null,
      "outputs": []
    },
    {
      "cell_type": "code",
      "source": [
        "print('roc_auc_score for DecisionTree: ', roc_auc_score(Y_test, y_score1))\n",
        "print('roc_auc_score for Logistic Regression: ', roc_auc_score(Y_test, y_score2))\n",
        "print('roc_auc_score for Random Forest Classifier: ', roc_auc_score(Y_test, y_score3))\n",
        "print('roc_auc_score for  Support Vector Machine: ', roc_auc_score(Y_test, y_score4))\n",
        "print('roc_auc_score for XGBoost Classifier: ', roc_auc_score(Y_test, y_score5))\n"
      ],
      "metadata": {
        "colab": {
          "base_uri": "https://localhost:8080/"
        },
        "id": "yCFfnAbWEYKQ",
        "outputId": "811eb784-abba-4b4d-afa8-8c5d836102fb"
      },
      "execution_count": null,
      "outputs": [
        {
          "output_type": "stream",
          "name": "stdout",
          "text": [
            "roc_auc_score for DecisionTree:  0.6861914257228315\n",
            "roc_auc_score for Logistic Regression:  0.8579262213359921\n",
            "roc_auc_score for Random Forest Classifier:  0.8710119641076769\n",
            "roc_auc_score for  Support Vector Machine:  0.9259720837487537\n",
            "roc_auc_score for XGBoost Classifier:  0.9135094715852442\n"
          ]
        }
      ]
    },
    {
      "cell_type": "markdown",
      "source": [
        "PCA Auc score"
      ],
      "metadata": {
        "id": "D_7REPk_TWGW"
      }
    },
    {
      "cell_type": "code",
      "source": [
        "clf_lin.fit(x_train,y_train)"
      ],
      "metadata": {
        "colab": {
          "base_uri": "https://localhost:8080/",
          "height": 75
        },
        "id": "B4Xo9B7QWL4-",
        "outputId": "90ed9d5b-6f83-4c62-9662-13a790b9ce19"
      },
      "execution_count": null,
      "outputs": [
        {
          "output_type": "execute_result",
          "data": {
            "text/plain": [
              "LinearRegression()"
            ],
            "text/html": [
              "<style>#sk-container-id-59 {color: black;background-color: white;}#sk-container-id-59 pre{padding: 0;}#sk-container-id-59 div.sk-toggleable {background-color: white;}#sk-container-id-59 label.sk-toggleable__label {cursor: pointer;display: block;width: 100%;margin-bottom: 0;padding: 0.3em;box-sizing: border-box;text-align: center;}#sk-container-id-59 label.sk-toggleable__label-arrow:before {content: \"▸\";float: left;margin-right: 0.25em;color: #696969;}#sk-container-id-59 label.sk-toggleable__label-arrow:hover:before {color: black;}#sk-container-id-59 div.sk-estimator:hover label.sk-toggleable__label-arrow:before {color: black;}#sk-container-id-59 div.sk-toggleable__content {max-height: 0;max-width: 0;overflow: hidden;text-align: left;background-color: #f0f8ff;}#sk-container-id-59 div.sk-toggleable__content pre {margin: 0.2em;color: black;border-radius: 0.25em;background-color: #f0f8ff;}#sk-container-id-59 input.sk-toggleable__control:checked~div.sk-toggleable__content {max-height: 200px;max-width: 100%;overflow: auto;}#sk-container-id-59 input.sk-toggleable__control:checked~label.sk-toggleable__label-arrow:before {content: \"▾\";}#sk-container-id-59 div.sk-estimator input.sk-toggleable__control:checked~label.sk-toggleable__label {background-color: #d4ebff;}#sk-container-id-59 div.sk-label input.sk-toggleable__control:checked~label.sk-toggleable__label {background-color: #d4ebff;}#sk-container-id-59 input.sk-hidden--visually {border: 0;clip: rect(1px 1px 1px 1px);clip: rect(1px, 1px, 1px, 1px);height: 1px;margin: -1px;overflow: hidden;padding: 0;position: absolute;width: 1px;}#sk-container-id-59 div.sk-estimator {font-family: monospace;background-color: #f0f8ff;border: 1px dotted black;border-radius: 0.25em;box-sizing: border-box;margin-bottom: 0.5em;}#sk-container-id-59 div.sk-estimator:hover {background-color: #d4ebff;}#sk-container-id-59 div.sk-parallel-item::after {content: \"\";width: 100%;border-bottom: 1px solid gray;flex-grow: 1;}#sk-container-id-59 div.sk-label:hover label.sk-toggleable__label {background-color: #d4ebff;}#sk-container-id-59 div.sk-serial::before {content: \"\";position: absolute;border-left: 1px solid gray;box-sizing: border-box;top: 0;bottom: 0;left: 50%;z-index: 0;}#sk-container-id-59 div.sk-serial {display: flex;flex-direction: column;align-items: center;background-color: white;padding-right: 0.2em;padding-left: 0.2em;position: relative;}#sk-container-id-59 div.sk-item {position: relative;z-index: 1;}#sk-container-id-59 div.sk-parallel {display: flex;align-items: stretch;justify-content: center;background-color: white;position: relative;}#sk-container-id-59 div.sk-item::before, #sk-container-id-59 div.sk-parallel-item::before {content: \"\";position: absolute;border-left: 1px solid gray;box-sizing: border-box;top: 0;bottom: 0;left: 50%;z-index: -1;}#sk-container-id-59 div.sk-parallel-item {display: flex;flex-direction: column;z-index: 1;position: relative;background-color: white;}#sk-container-id-59 div.sk-parallel-item:first-child::after {align-self: flex-end;width: 50%;}#sk-container-id-59 div.sk-parallel-item:last-child::after {align-self: flex-start;width: 50%;}#sk-container-id-59 div.sk-parallel-item:only-child::after {width: 0;}#sk-container-id-59 div.sk-dashed-wrapped {border: 1px dashed gray;margin: 0 0.4em 0.5em 0.4em;box-sizing: border-box;padding-bottom: 0.4em;background-color: white;}#sk-container-id-59 div.sk-label label {font-family: monospace;font-weight: bold;display: inline-block;line-height: 1.2em;}#sk-container-id-59 div.sk-label-container {text-align: center;}#sk-container-id-59 div.sk-container {/* jupyter's `normalize.less` sets `[hidden] { display: none; }` but bootstrap.min.css set `[hidden] { display: none !important; }` so we also need the `!important` here to be able to override the default hidden behavior on the sphinx rendered scikit-learn.org. See: https://github.com/scikit-learn/scikit-learn/issues/21755 */display: inline-block !important;position: relative;}#sk-container-id-59 div.sk-text-repr-fallback {display: none;}</style><div id=\"sk-container-id-59\" class=\"sk-top-container\"><div class=\"sk-text-repr-fallback\"><pre>LinearRegression()</pre><b>In a Jupyter environment, please rerun this cell to show the HTML representation or trust the notebook. <br />On GitHub, the HTML representation is unable to render, please try loading this page with nbviewer.org.</b></div><div class=\"sk-container\" hidden><div class=\"sk-item\"><div class=\"sk-estimator sk-toggleable\"><input class=\"sk-toggleable__control sk-hidden--visually\" id=\"sk-estimator-id-59\" type=\"checkbox\" checked><label for=\"sk-estimator-id-59\" class=\"sk-toggleable__label sk-toggleable__label-arrow\">LinearRegression</label><div class=\"sk-toggleable__content\"><pre>LinearRegression()</pre></div></div></div></div></div>"
            ]
          },
          "metadata": {},
          "execution_count": 826
        }
      ]
    },
    {
      "cell_type": "code",
      "source": [
        "clf_tree.fit(x_train, y_train);\n"
      ],
      "metadata": {
        "id": "aR0YS8b8TbIy"
      },
      "execution_count": null,
      "outputs": []
    },
    {
      "cell_type": "code",
      "source": [
        "clf_reg.fit(x_train, y_train);\n"
      ],
      "metadata": {
        "colab": {
          "base_uri": "https://localhost:8080/"
        },
        "outputId": "9549a484-4eb0-4639-c3ef-fa4f7ab7ec33",
        "id": "LQZ3OrdsTifD"
      },
      "execution_count": null,
      "outputs": [
        {
          "output_type": "stream",
          "name": "stderr",
          "text": [
            "/usr/local/lib/python3.10/dist-packages/sklearn/linear_model/_logistic.py:458: ConvergenceWarning: lbfgs failed to converge (status=1):\n",
            "STOP: TOTAL NO. of ITERATIONS REACHED LIMIT.\n",
            "\n",
            "Increase the number of iterations (max_iter) or scale the data as shown in:\n",
            "    https://scikit-learn.org/stable/modules/preprocessing.html\n",
            "Please also refer to the documentation for alternative solver options:\n",
            "    https://scikit-learn.org/stable/modules/linear_model.html#logistic-regression\n",
            "  n_iter_i = _check_optimize_result(\n"
          ]
        }
      ]
    },
    {
      "cell_type": "code",
      "source": [
        "clf_RF.fit(x_train, y_train);"
      ],
      "metadata": {
        "id": "SrC1nYbbTqTF"
      },
      "execution_count": null,
      "outputs": []
    },
    {
      "cell_type": "code",
      "source": [
        "clf_SVM.fit(x_train, y_train);\n"
      ],
      "metadata": {
        "id": "TB6Ld27yT0gS"
      },
      "execution_count": null,
      "outputs": []
    },
    {
      "cell_type": "code",
      "source": [
        "clf_XGB.fit(x_train, y_train);"
      ],
      "metadata": {
        "id": "QP9RnMLGT50R"
      },
      "execution_count": null,
      "outputs": []
    },
    {
      "cell_type": "code",
      "source": [
        " y_score1 = clf_tree.predict_proba(x_test)[:,1]\n",
        ""
      ],
      "metadata": {
        "id": "ibHE4Z09UVgM"
      },
      "execution_count": null,
      "outputs": []
    },
    {
      "cell_type": "code",
      "source": [
        "y_score2 = clf_reg.predict_proba(x_test)[:,1]"
      ],
      "metadata": {
        "id": "SWisQl3VUbiE"
      },
      "execution_count": null,
      "outputs": []
    },
    {
      "cell_type": "code",
      "source": [
        "y_score3 = clf_RF.predict_proba(x_test)[:,1]"
      ],
      "metadata": {
        "id": "Jhj07c8yUh4y"
      },
      "execution_count": null,
      "outputs": []
    },
    {
      "cell_type": "code",
      "source": [
        "y_score4 = clf_SVM.predict_proba(x_test)[:,1]"
      ],
      "metadata": {
        "id": "xVysKvrwUnMS"
      },
      "execution_count": null,
      "outputs": []
    },
    {
      "cell_type": "code",
      "source": [
        "y_score5 = clf_XGB.predict_proba(x_test)[:,1]"
      ],
      "metadata": {
        "id": "DqTLZ0fnUk0y"
      },
      "execution_count": null,
      "outputs": []
    },
    {
      "cell_type": "code",
      "source": [
        "false_positive_rate1, true_positive_rate1, threshold1 = roc_curve(y_test, y_score1)"
      ],
      "metadata": {
        "id": "oFZBF6dPUqQi"
      },
      "execution_count": null,
      "outputs": []
    },
    {
      "cell_type": "code",
      "source": [
        "false_positive_rate2, true_positive_rate2, threshold2 = roc_curve(y_test, y_score2)"
      ],
      "metadata": {
        "id": "K8KiJHzvUvRz"
      },
      "execution_count": null,
      "outputs": []
    },
    {
      "cell_type": "code",
      "source": [
        "false_positive_rate3, true_positive_rate3, threshold3 = roc_curve(y_test, y_score3)"
      ],
      "metadata": {
        "id": "X_UkPs17U1gG"
      },
      "execution_count": null,
      "outputs": []
    },
    {
      "cell_type": "code",
      "source": [
        "false_positive_rate4, true_positive_rate4, threshold4 = roc_curve(y_test, y_score4)"
      ],
      "metadata": {
        "id": "pFrTCV7jVCV7"
      },
      "execution_count": null,
      "outputs": []
    },
    {
      "cell_type": "code",
      "source": [
        "false_positive_rate5, true_positive_rate5, threshold5 = roc_curve(y_test, y_score5)"
      ],
      "metadata": {
        "id": "9zXPGlgDVIrz"
      },
      "execution_count": null,
      "outputs": []
    },
    {
      "cell_type": "code",
      "source": [
        "print('roc_auc_score for DecisionTree: ', roc_auc_score(y_test, y_score1))\n",
        "print('roc_auc_score for Logistic Regression: ', roc_auc_score(y_test, y_score2))\n",
        "print('roc_auc_score for Random Forest Classifier: ', roc_auc_score(y_test, y_score3))\n",
        "print('roc_auc_score for  Support Vector Machine: ', roc_auc_score(y_test, y_score4))\n",
        "print('roc_auc_score for XGBoost Classifier: ', roc_auc_score(y_test, y_score5))"
      ],
      "metadata": {
        "colab": {
          "base_uri": "https://localhost:8080/"
        },
        "id": "O2ceN0QKVfwF",
        "outputId": "2b35ceea-e0bc-4cf3-9e9c-76666ef74a3b"
      },
      "execution_count": null,
      "outputs": [
        {
          "output_type": "stream",
          "name": "stdout",
          "text": [
            "roc_auc_score for DecisionTree:  0.7003752715781157\n",
            "roc_auc_score for Logistic Regression:  0.8562117321746\n",
            "roc_auc_score for Random Forest Classifier:  0.9068240173809994\n",
            "roc_auc_score for  Support Vector Machine:  0.8988741852656527\n",
            "roc_auc_score for XGBoost Classifier:  0.9274145763381394\n"
          ]
        }
      ]
    },
    {
      "cell_type": "code",
      "source": [
        " plt.subplots(1, figsize=(4,4))\n",
        " plt.title('ROC Curve - DecisionTree')\n",
        " plt.plot(false_positive_rate1, true_positive_rate1)\n",
        " plt.plot([0, 1], ls=\"--\")\n",
        " plt.plot([0, 0], [1, 0] , c=\".7\"), plt.plot([1, 1] , c=\".7\")\n",
        " plt.ylabel('True Positive Rate')\n",
        " plt.xlabel('False Positive Rate')\n",
        " plt.show()"
      ],
      "metadata": {
        "colab": {
          "base_uri": "https://localhost:8080/",
          "height": 608
        },
        "id": "UeYuswD0EkaG",
        "outputId": "8f4fed4c-d8e4-4e79-af67-e575c03902a5"
      },
      "execution_count": null,
      "outputs": [
        {
          "output_type": "error",
          "ename": "NameError",
          "evalue": "ignored",
          "traceback": [
            "\u001b[0;31m---------------------------------------------------------------------------\u001b[0m",
            "\u001b[0;31mNameError\u001b[0m                                 Traceback (most recent call last)",
            "\u001b[0;32m<ipython-input-46-0f3667da93fe>\u001b[0m in \u001b[0;36m<cell line: 3>\u001b[0;34m()\u001b[0m\n\u001b[1;32m      1\u001b[0m \u001b[0mplt\u001b[0m\u001b[0;34m.\u001b[0m\u001b[0msubplots\u001b[0m\u001b[0;34m(\u001b[0m\u001b[0;36m1\u001b[0m\u001b[0;34m,\u001b[0m \u001b[0mfigsize\u001b[0m\u001b[0;34m=\u001b[0m\u001b[0;34m(\u001b[0m\u001b[0;36m4\u001b[0m\u001b[0;34m,\u001b[0m\u001b[0;36m4\u001b[0m\u001b[0;34m)\u001b[0m\u001b[0;34m)\u001b[0m\u001b[0;34m\u001b[0m\u001b[0;34m\u001b[0m\u001b[0m\n\u001b[1;32m      2\u001b[0m \u001b[0mplt\u001b[0m\u001b[0;34m.\u001b[0m\u001b[0mtitle\u001b[0m\u001b[0;34m(\u001b[0m\u001b[0;34m'ROC Curve - DecisionTree'\u001b[0m\u001b[0;34m)\u001b[0m\u001b[0;34m\u001b[0m\u001b[0;34m\u001b[0m\u001b[0m\n\u001b[0;32m----> 3\u001b[0;31m \u001b[0mplt\u001b[0m\u001b[0;34m.\u001b[0m\u001b[0mplot\u001b[0m\u001b[0;34m(\u001b[0m\u001b[0mfalse_positive_rate1\u001b[0m\u001b[0;34m,\u001b[0m \u001b[0mtrue_positive_rate1\u001b[0m\u001b[0;34m)\u001b[0m\u001b[0;34m\u001b[0m\u001b[0;34m\u001b[0m\u001b[0m\n\u001b[0m\u001b[1;32m      4\u001b[0m \u001b[0mplt\u001b[0m\u001b[0;34m.\u001b[0m\u001b[0mplot\u001b[0m\u001b[0;34m(\u001b[0m\u001b[0;34m[\u001b[0m\u001b[0;36m0\u001b[0m\u001b[0;34m,\u001b[0m \u001b[0;36m1\u001b[0m\u001b[0;34m]\u001b[0m\u001b[0;34m,\u001b[0m \u001b[0mls\u001b[0m\u001b[0;34m=\u001b[0m\u001b[0;34m\"--\"\u001b[0m\u001b[0;34m)\u001b[0m\u001b[0;34m\u001b[0m\u001b[0;34m\u001b[0m\u001b[0m\n\u001b[1;32m      5\u001b[0m \u001b[0mplt\u001b[0m\u001b[0;34m.\u001b[0m\u001b[0mplot\u001b[0m\u001b[0;34m(\u001b[0m\u001b[0;34m[\u001b[0m\u001b[0;36m0\u001b[0m\u001b[0;34m,\u001b[0m \u001b[0;36m0\u001b[0m\u001b[0;34m]\u001b[0m\u001b[0;34m,\u001b[0m \u001b[0;34m[\u001b[0m\u001b[0;36m1\u001b[0m\u001b[0;34m,\u001b[0m \u001b[0;36m0\u001b[0m\u001b[0;34m]\u001b[0m \u001b[0;34m,\u001b[0m \u001b[0mc\u001b[0m\u001b[0;34m=\u001b[0m\u001b[0;34m\".7\"\u001b[0m\u001b[0;34m)\u001b[0m\u001b[0;34m,\u001b[0m \u001b[0mplt\u001b[0m\u001b[0;34m.\u001b[0m\u001b[0mplot\u001b[0m\u001b[0;34m(\u001b[0m\u001b[0;34m[\u001b[0m\u001b[0;36m1\u001b[0m\u001b[0;34m,\u001b[0m \u001b[0;36m1\u001b[0m\u001b[0;34m]\u001b[0m \u001b[0;34m,\u001b[0m \u001b[0mc\u001b[0m\u001b[0;34m=\u001b[0m\u001b[0;34m\".7\"\u001b[0m\u001b[0;34m)\u001b[0m\u001b[0;34m\u001b[0m\u001b[0;34m\u001b[0m\u001b[0m\n",
            "\u001b[0;31mNameError\u001b[0m: name 'false_positive_rate1' is not defined"
          ]
        },
        {
          "output_type": "display_data",
          "data": {
            "text/plain": [
              "<Figure size 400x400 with 1 Axes>"
            ],
            "image/png": "[encoded data removed]"
          },
          "metadata": {}
        }
      ]
    },
    {
      "cell_type": "code",
      "source": [
        " plt.subplots(1, figsize=(4,4))\n",
        " plt.title('ROC Curve - Logistic regression')\n",
        " plt.plot(false_positive_rate2, true_positive_rate2)\n",
        " plt.plot([0, 1], ls=\"--\")\n",
        " plt.plot([0, 0], [1, 0] , c=\".7\"), plt.plot([1, 1] , c=\".7\")\n",
        " plt.ylabel('True Positive Rate')\n",
        " plt.xlabel('False Positive Rate')\n",
        " plt.show()"
      ],
      "metadata": {
        "colab": {
          "base_uri": "https://localhost:8080/",
          "height": 410
        },
        "id": "ZMEvvbceGBZX",
        "outputId": "9d4f2826-56d5-41f3-f4c8-1a06246d094e"
      },
      "execution_count": null,
      "outputs": [
        {
          "output_type": "display_data",
          "data": {
            "text/plain": [
              "<Figure size 400x400 with 1 Axes>"
            ],
            "image/png": "[encoded data removed]"
          },
          "metadata": {}
        }
      ]
    },
    {
      "cell_type": "code",
      "source": [
        " plt.subplots(1, figsize=(4,4))\n",
        " plt.title('ROC Curve -Random Forest')\n",
        " plt.plot(false_positive_rate3, true_positive_rate3)\n",
        " plt.plot([0, 1], ls=\"--\")\n",
        " plt.plot([0, 0], [1, 0] , c=\".7\"), plt.plot([1, 1] , c=\".7\")\n",
        " plt.ylabel('True Positive Rate')\n",
        " plt.xlabel('False Positive Rate')\n",
        " plt.show()"
      ],
      "metadata": {
        "colab": {
          "base_uri": "https://localhost:8080/",
          "height": 410
        },
        "outputId": "c3820654-285c-47b8-f386-201fb5930a40",
        "id": "kKYAmPxsJcMJ"
      },
      "execution_count": null,
      "outputs": [
        {
          "output_type": "display_data",
          "data": {
            "text/plain": [
              "<Figure size 400x400 with 1 Axes>"
            ],
            "image/png": "[encoded data removed]"
          },
          "metadata": {}
        }
      ]
    },
    {
      "cell_type": "code",
      "source": [
        " plt.subplots(1, figsize=(4,4))\n",
        " plt.title('ROC Curve -SVM')\n",
        " plt.plot(false_positive_rate4, true_positive_rate4)\n",
        " plt.plot([0, 1], ls=\"--\")\n",
        " plt.plot([0, 0], [1, 0] , c=\".7\"), plt.plot([1, 1] , c=\".7\")\n",
        " plt.ylabel('True Positive Rate')\n",
        " plt.xlabel('False Positive Rate')\n",
        " plt.show()"
      ],
      "metadata": {
        "colab": {
          "base_uri": "https://localhost:8080/",
          "height": 410
        },
        "outputId": "01ed526a-df33-4687-a031-547c82721746",
        "id": "NYQ-QtXOOsVd"
      },
      "execution_count": null,
      "outputs": [
        {
          "output_type": "display_data",
          "data": {
            "text/plain": [
              "<Figure size 400x400 with 1 Axes>"
            ],
            "image/png": "[encoded data removed]"
          },
          "metadata": {}
        }
      ]
    },
    {
      "cell_type": "code",
      "source": [
        " plt.subplots(1, figsize=(4,4))\n",
        " plt.title('ROC Curve - XGBoostClassifier')\n",
        " plt.plot(false_positive_rate5, true_positive_rate5)\n",
        " plt.plot([0, 1], ls=\"--\")\n",
        " plt.plot([0, 0], [1, 0] , c=\".7\"), plt.plot([1, 1] , c=\".7\")\n",
        " plt.ylabel('True Positive Rate')\n",
        " plt.xlabel('False Positive Rate')\n",
        " plt.show()"
      ],
      "metadata": {
        "colab": {
          "base_uri": "https://localhost:8080/",
          "height": 410
        },
        "outputId": "3f6e53d8-6abc-498f-d758-bd6edf954d1a",
        "id": "VDq5u97tRUWf"
      },
      "execution_count": null,
      "outputs": [
        {
          "output_type": "display_data",
          "data": {
            "text/plain": [
              "<Figure size 400x400 with 1 Axes>"
            ],
            "image/png": "[encoded data removed]"
          },
          "metadata": {}
        }
      ]
    },
    {
      "cell_type": "markdown",
      "source": [
        "Linear Regression Model"
      ],
      "metadata": {
        "id": "JQ0nY97hJPrb"
      }
    },
    {
      "cell_type": "code",
      "source": [
        "from sklearn.linear_model import LinearRegression\n",
        "Model_1=LinearRegression()"
      ],
      "metadata": {
        "id": "H50rvqEsJUTU"
      },
      "execution_count": null,
      "outputs": []
    },
    {
      "cell_type": "code",
      "source": [
        "Model_1.fit(X_train,Y_train)"
      ],
      "metadata": {
        "colab": {
          "base_uri": "https://localhost:8080/",
          "height": 75
        },
        "id": "P3J2Kd7jN68u",
        "outputId": "49f5984a-6a7c-45d8-dae6-594e1cc8d317"
      },
      "execution_count": null,
      "outputs": [
        {
          "output_type": "execute_result",
          "data": {
            "text/plain": [
              "LinearRegression()"
            ],
            "text/html": [
              "<style>#sk-container-id-4 {color: black;background-color: white;}#sk-container-id-4 pre{padding: 0;}#sk-container-id-4 div.sk-toggleable {background-color: white;}#sk-container-id-4 label.sk-toggleable__label {cursor: pointer;display: block;width: 100%;margin-bottom: 0;padding: 0.3em;box-sizing: border-box;text-align: center;}#sk-container-id-4 label.sk-toggleable__label-arrow:before {content: \"▸\";float: left;margin-right: 0.25em;color: #696969;}#sk-container-id-4 label.sk-toggleable__label-arrow:hover:before {color: black;}#sk-container-id-4 div.sk-estimator:hover label.sk-toggleable__label-arrow:before {color: black;}#sk-container-id-4 div.sk-toggleable__content {max-height: 0;max-width: 0;overflow: hidden;text-align: left;background-color: #f0f8ff;}#sk-container-id-4 div.sk-toggleable__content pre {margin: 0.2em;color: black;border-radius: 0.25em;background-color: #f0f8ff;}#sk-container-id-4 input.sk-toggleable__control:checked~div.sk-toggleable__content {max-height: 200px;max-width: 100%;overflow: auto;}#sk-container-id-4 input.sk-toggleable__control:checked~label.sk-toggleable__label-arrow:before {content: \"▾\";}#sk-container-id-4 div.sk-estimator input.sk-toggleable__control:checked~label.sk-toggleable__label {background-color: #d4ebff;}#sk-container-id-4 div.sk-label input.sk-toggleable__control:checked~label.sk-toggleable__label {background-color: #d4ebff;}#sk-container-id-4 input.sk-hidden--visually {border: 0;clip: rect(1px 1px 1px 1px);clip: rect(1px, 1px, 1px, 1px);height: 1px;margin: -1px;overflow: hidden;padding: 0;position: absolute;width: 1px;}#sk-container-id-4 div.sk-estimator {font-family: monospace;background-color: #f0f8ff;border: 1px dotted black;border-radius: 0.25em;box-sizing: border-box;margin-bottom: 0.5em;}#sk-container-id-4 div.sk-estimator:hover {background-color: #d4ebff;}#sk-container-id-4 div.sk-parallel-item::after {content: \"\";width: 100%;border-bottom: 1px solid gray;flex-grow: 1;}#sk-container-id-4 div.sk-label:hover label.sk-toggleable__label {background-color: #d4ebff;}#sk-container-id-4 div.sk-serial::before {content: \"\";position: absolute;border-left: 1px solid gray;box-sizing: border-box;top: 0;bottom: 0;left: 50%;z-index: 0;}#sk-container-id-4 div.sk-serial {display: flex;flex-direction: column;align-items: center;background-color: white;padding-right: 0.2em;padding-left: 0.2em;position: relative;}#sk-container-id-4 div.sk-item {position: relative;z-index: 1;}#sk-container-id-4 div.sk-parallel {display: flex;align-items: stretch;justify-content: center;background-color: white;position: relative;}#sk-container-id-4 div.sk-item::before, #sk-container-id-4 div.sk-parallel-item::before {content: \"\";position: absolute;border-left: 1px solid gray;box-sizing: border-box;top: 0;bottom: 0;left: 50%;z-index: -1;}#sk-container-id-4 div.sk-parallel-item {display: flex;flex-direction: column;z-index: 1;position: relative;background-color: white;}#sk-container-id-4 div.sk-parallel-item:first-child::after {align-self: flex-end;width: 50%;}#sk-container-id-4 div.sk-parallel-item:last-child::after {align-self: flex-start;width: 50%;}#sk-container-id-4 div.sk-parallel-item:only-child::after {width: 0;}#sk-container-id-4 div.sk-dashed-wrapped {border: 1px dashed gray;margin: 0 0.4em 0.5em 0.4em;box-sizing: border-box;padding-bottom: 0.4em;background-color: white;}#sk-container-id-4 div.sk-label label {font-family: monospace;font-weight: bold;display: inline-block;line-height: 1.2em;}#sk-container-id-4 div.sk-label-container {text-align: center;}#sk-container-id-4 div.sk-container {/* jupyter's `normalize.less` sets `[hidden] { display: none; }` but bootstrap.min.css set `[hidden] { display: none !important; }` so we also need the `!important` here to be able to override the default hidden behavior on the sphinx rendered scikit-learn.org. See: https://github.com/scikit-learn/scikit-learn/issues/21755 */display: inline-block !important;position: relative;}#sk-container-id-4 div.sk-text-repr-fallback {display: none;}</style><div id=\"sk-container-id-4\" class=\"sk-top-container\"><div class=\"sk-text-repr-fallback\"><pre>LinearRegression()</pre><b>In a Jupyter environment, please rerun this cell to show the HTML representation or trust the notebook. <br />On GitHub, the HTML representation is unable to render, please try loading this page with nbviewer.org.</b></div><div class=\"sk-container\" hidden><div class=\"sk-item\"><div class=\"sk-estimator sk-toggleable\"><input class=\"sk-toggleable__control sk-hidden--visually\" id=\"sk-estimator-id-4\" type=\"checkbox\" checked><label for=\"sk-estimator-id-4\" class=\"sk-toggleable__label sk-toggleable__label-arrow\">LinearRegression</label><div class=\"sk-toggleable__content\"><pre>LinearRegression()</pre></div></div></div></div></div>"
            ]
          },
          "metadata": {},
          "execution_count": 67
        }
      ]
    },
    {
      "cell_type": "code",
      "source": [
        "Y_Predict_Model_1=Model_1.predict(X_test)\n",
        "Y_Predict_Model_1"
      ],
      "metadata": {
        "colab": {
          "base_uri": "https://localhost:8080/"
        },
        "id": "8EyjqOU9OWhb",
        "outputId": "70753cbe-9932-4411-c240-38775b8c1da5"
      },
      "execution_count": null,
      "outputs": [
        {
          "output_type": "execute_result",
          "data": {
            "text/plain": [
              "array([ 9.14388494e-01,  2.58000130e+00,  1.01309713e+00,  1.03043358e+01,\n",
              "        6.37790446e-02,  1.45399143e+00, -8.75803963e-02,  9.19655997e-01,\n",
              "        1.28637807e+00,  1.21090319e+00,  8.93029486e-01,  1.01152771e+00,\n",
              "        1.19688212e+00,  1.46001612e+00,  1.34206859e+00,  4.31732877e-01,\n",
              "        1.22584032e+00, -1.36632203e+00, -7.70447460e-01,  1.66672851e-01,\n",
              "        7.18229855e-01,  3.10386037e-01, -1.33433208e+00, -6.11975568e+00,\n",
              "        8.94859053e-01,  1.27889209e+00,  2.06350687e-01,  6.13847045e-01,\n",
              "        6.96878370e-02,  2.53130864e+00, -3.68601252e-01,  4.73993074e-01,\n",
              "        2.13064541e+00,  1.39207193e+01, -1.49737189e+00,  5.36984307e-01,\n",
              "        1.50333493e+00,  2.00909842e+00,  1.22861967e+00,  1.07210071e+00,\n",
              "        2.92271474e+00, -2.03846515e-01,  1.58319763e+00, -3.22917171e+00,\n",
              "        9.32765596e-01,  6.36085971e-01, -1.42180481e-01, -1.97794472e-01,\n",
              "        1.68878369e+00,  7.51971542e-01, -1.69416066e+00,  5.58603033e-01,\n",
              "        1.09478810e+00,  3.63225899e-01,  1.65852170e+00,  4.57153624e+00,\n",
              "        9.69836250e-01, -2.68042521e-01,  1.50577894e+00, -7.57618807e-01,\n",
              "       -5.21657934e-02,  8.62384329e-01, -3.66801407e+00,  9.37300623e-01,\n",
              "        1.55248901e+00,  1.79985641e+00,  1.66275336e-01,  9.01186483e-01,\n",
              "       -1.49327376e-01,  1.49607568e+00,  1.68876583e-01,  2.84157995e+00,\n",
              "        1.53541895e+00,  1.26000409e+00,  1.97685959e+00,  2.24838674e-01,\n",
              "        5.05177256e-01, -7.74914521e-01,  1.22433607e+00,  1.29667110e+00,\n",
              "        1.17242621e-01,  3.08226113e+00,  5.52138606e-01, -1.52475557e-01,\n",
              "       -6.05839030e-01,  1.51759157e+00,  2.03407247e+00, -4.32253351e-01,\n",
              "        1.24241468e+00,  6.60346239e-01,  2.23742748e+00, -7.98751894e-01,\n",
              "        1.24984395e+00, -4.43553855e-01,  5.64806399e-01, -1.71216515e+00,\n",
              "        1.40129685e-01,  1.51852132e+00,  4.48901463e-01,  4.43709435e+00,\n",
              "        2.62458631e+00,  1.98046220e+00, -2.71108495e-01,  8.82176079e-01,\n",
              "        1.77157825e+00, -8.66213957e-01,  2.32373912e+00, -1.43119642e+00,\n",
              "        8.74272025e-01,  5.29733656e-01,  1.88953194e+00,  3.10697282e-01,\n",
              "        7.62074263e-01, -1.08929197e+01,  8.37496526e-01,  2.05642636e+00,\n",
              "        2.53086175e+00,  2.60837724e+00, -2.75066481e+00, -6.28583317e-02,\n",
              "       -1.40251120e+00,  1.72949586e+00,  9.84059473e-03,  3.99667037e-01,\n",
              "       -4.24749859e-02,  7.82318145e-01,  1.07275783e+00, -4.97189467e-01,\n",
              "        9.91921568e-01,  1.56816261e+00,  1.36263871e+00,  1.20469900e+00,\n",
              "        1.31694507e+00, -1.19124475e+00,  6.35592364e-01,  1.58979771e-02,\n",
              "        1.64821187e+00,  1.11146072e+00,  5.07901548e-01,  2.71355981e-01,\n",
              "        4.77783307e-01,  1.55505332e+00,  1.36735351e+00,  6.10785388e-01,\n",
              "        1.10287496e+00,  2.85617825e-01,  1.91953462e+00,  6.29244731e-01,\n",
              "        7.61614779e-01,  3.59378603e-02,  7.83486978e-01,  2.08413168e+00])"
            ]
          },
          "metadata": {},
          "execution_count": 68
        }
      ]
    },
    {
      "cell_type": "code",
      "source": [
        "for i,j in enumerate(Y_Predict_Model_1):\n",
        "  if (j<0.5):\n",
        "    Y_Predict_Model_1[i]=0\n",
        "  else:\n",
        "   Y_Predict_Model_1[i]=1\n",
        "print(Y_Predict_Model_1)\n",
        "Y_Predict_Model_1.shape\n"
      ],
      "metadata": {
        "colab": {
          "base_uri": "https://localhost:8080/"
        },
        "id": "XrIXlxzhPM7D",
        "outputId": "69ed416f-ca86-444f-9b21-e3abd240e987"
      },
      "execution_count": null,
      "outputs": [
        {
          "output_type": "stream",
          "name": "stdout",
          "text": [
            "[1. 1. 1. 1. 0. 1. 0. 1. 1. 1. 1. 1. 1. 1. 1. 0. 1. 0. 0. 0. 1. 0. 0. 0.\n",
            " 1. 1. 0. 1. 0. 1. 0. 0. 1. 1. 0. 1. 1. 1. 1. 1. 1. 0. 1. 0. 1. 1. 0. 0.\n",
            " 1. 1. 0. 1. 1. 0. 1. 1. 1. 0. 1. 0. 0. 1. 0. 1. 1. 1. 0. 1. 0. 1. 0. 1.\n",
            " 1. 1. 1. 0. 1. 0. 1. 1. 0. 1. 1. 0. 0. 1. 1. 0. 1. 1. 1. 0. 1. 0. 1. 0.\n",
            " 0. 1. 0. 1. 1. 1. 0. 1. 1. 0. 1. 0. 1. 1. 1. 0. 1. 0. 1. 1. 1. 1. 0. 0.\n",
            " 0. 1. 0. 0. 0. 1. 1. 0. 1. 1. 1. 1. 1. 0. 1. 0. 1. 1. 1. 0. 0. 1. 1. 1.\n",
            " 1. 0. 1. 1. 1. 0. 1. 1.]\n"
          ]
        },
        {
          "output_type": "execute_result",
          "data": {
            "text/plain": [
              "(152,)"
            ]
          },
          "metadata": {},
          "execution_count": 69
        }
      ]
    },
    {
      "cell_type": "code",
      "source": [
        "Y_test=np.array(Y_test)\n",
        "print(Y_test)\n",
        "Y_test.shape"
      ],
      "metadata": {
        "colab": {
          "base_uri": "https://localhost:8080/"
        },
        "id": "fg5fo6bbQTkF",
        "outputId": "232bf07e-5b41-450b-bb3e-1560fce9807c"
      },
      "execution_count": null,
      "outputs": [
        {
          "output_type": "stream",
          "name": "stdout",
          "text": [
            "[1 1 1 1 1 1 1 1 1 1 1 1 1 1 0 1 1 1 0 1 1 1 1 1 1 1 1 1 1 1 1 1 1 1 0 1 1\n",
            " 1 0 1 1 1 1 1 0 1 0 1 1 1 0 0 0 1 1 1 1 1 1 0 0 1 0 1 1 1 0 1 1 1 0 1 1 1\n",
            " 1 1 1 1 1 1 1 1 0 0 0 1 1 1 0 1 1 0 0 1 1 1 1 1 1 0 0 0 1 1 1 1 1 1 1 1 1\n",
            " 0 1 0 1 1 1 1 0 0 1 0 0 1 0 1 1 1 1 0 1 1 1 1 1 0 1 1 1 0 1 1 1 1 1 1 1 1\n",
            " 1 0 1 1]\n"
          ]
        },
        {
          "output_type": "execute_result",
          "data": {
            "text/plain": [
              "(152,)"
            ]
          },
          "metadata": {},
          "execution_count": 70
        }
      ]
    },
    {
      "cell_type": "code",
      "source": [
        "print(\"X_test_array  Y_test\")\n",
        "for i,j in zip(Y_Predict_Model_1,Y_test):\n",
        "  print(i,\"          \",j)"
      ],
      "metadata": {
        "colab": {
          "base_uri": "https://localhost:8080/"
        },
        "id": "I4tEIK5VRqlJ",
        "outputId": "f3f3547e-92cd-40bf-ba29-ee8a7b65f418"
      },
      "execution_count": null,
      "outputs": [
        {
          "output_type": "stream",
          "name": "stdout",
          "text": [
            "X_test_array  Y_test\n",
            "1.0            1\n",
            "1.0            1\n",
            "1.0            1\n",
            "1.0            1\n",
            "0.0            1\n",
            "1.0            1\n",
            "0.0            1\n",
            "1.0            1\n",
            "1.0            1\n",
            "1.0            1\n",
            "1.0            1\n",
            "1.0            1\n",
            "1.0            1\n",
            "1.0            1\n",
            "1.0            0\n",
            "0.0            1\n",
            "1.0            1\n",
            "0.0            1\n",
            "0.0            0\n",
            "0.0            1\n",
            "1.0            1\n",
            "0.0            1\n",
            "0.0            1\n",
            "0.0            1\n",
            "1.0            1\n",
            "1.0            1\n",
            "0.0            1\n",
            "1.0            1\n",
            "0.0            1\n",
            "1.0            1\n",
            "0.0            1\n",
            "0.0            1\n",
            "1.0            1\n",
            "1.0            1\n",
            "0.0            0\n",
            "1.0            1\n",
            "1.0            1\n",
            "1.0            1\n",
            "1.0            0\n",
            "1.0            1\n",
            "1.0            1\n",
            "0.0            1\n",
            "1.0            1\n",
            "0.0            1\n",
            "1.0            0\n",
            "1.0            1\n",
            "0.0            0\n",
            "0.0            1\n",
            "1.0            1\n",
            "1.0            1\n",
            "0.0            0\n",
            "1.0            0\n",
            "1.0            0\n",
            "0.0            1\n",
            "1.0            1\n",
            "1.0            1\n",
            "1.0            1\n",
            "0.0            1\n",
            "1.0            1\n",
            "0.0            0\n",
            "0.0            0\n",
            "1.0            1\n",
            "0.0            0\n",
            "1.0            1\n",
            "1.0            1\n",
            "1.0            1\n",
            "0.0            0\n",
            "1.0            1\n",
            "0.0            1\n",
            "1.0            1\n",
            "0.0            0\n",
            "1.0            1\n",
            "1.0            1\n",
            "1.0            1\n",
            "1.0            1\n",
            "0.0            1\n",
            "1.0            1\n",
            "0.0            1\n",
            "1.0            1\n",
            "1.0            1\n",
            "0.0            1\n",
            "1.0            1\n",
            "1.0            0\n",
            "0.0            0\n",
            "0.0            0\n",
            "1.0            1\n",
            "1.0            1\n",
            "0.0            1\n",
            "1.0            0\n",
            "1.0            1\n",
            "1.0            1\n",
            "0.0            0\n",
            "1.0            0\n",
            "0.0            1\n",
            "1.0            1\n",
            "0.0            1\n",
            "0.0            1\n",
            "1.0            1\n",
            "0.0            1\n",
            "1.0            0\n",
            "1.0            0\n",
            "1.0            0\n",
            "0.0            1\n",
            "1.0            1\n",
            "1.0            1\n",
            "0.0            1\n",
            "1.0            1\n",
            "0.0            1\n",
            "1.0            1\n",
            "1.0            1\n",
            "1.0            1\n",
            "0.0            0\n",
            "1.0            1\n",
            "0.0            0\n",
            "1.0            1\n",
            "1.0            1\n",
            "1.0            1\n",
            "1.0            1\n",
            "0.0            0\n",
            "0.0            0\n",
            "0.0            1\n",
            "1.0            0\n",
            "0.0            0\n",
            "0.0            1\n",
            "0.0            0\n",
            "1.0            1\n",
            "1.0            1\n",
            "0.0            1\n",
            "1.0            1\n",
            "1.0            0\n",
            "1.0            1\n",
            "1.0            1\n",
            "1.0            1\n",
            "0.0            1\n",
            "1.0            1\n",
            "0.0            0\n",
            "1.0            1\n",
            "1.0            1\n",
            "1.0            1\n",
            "0.0            0\n",
            "0.0            1\n",
            "1.0            1\n",
            "1.0            1\n",
            "1.0            1\n",
            "1.0            1\n",
            "0.0            1\n",
            "1.0            1\n",
            "1.0            1\n",
            "1.0            1\n",
            "0.0            0\n",
            "1.0            1\n",
            "1.0            1\n"
          ]
        }
      ]
    },
    {
      "cell_type": "code",
      "source": [
        "Model_1.coef_"
      ],
      "metadata": {
        "colab": {
          "base_uri": "https://localhost:8080/"
        },
        "id": "Bu_O_QMHVdpK",
        "outputId": "762e54f8-85c7-4c4f-ba3d-afbe932228ad"
      },
      "execution_count": null,
      "outputs": [
        {
          "output_type": "execute_result",
          "data": {
            "text/plain": [
              "array([ 1.14451824e-01,  1.42579465e-01,  3.67153790e-02,  5.77506735e-02,\n",
              "       -5.29881909e-01, -5.07590559e-01, -8.22318923e-02, -4.40572308e-01,\n",
              "        3.47708121e-01,  7.77331711e-02,  1.45809125e-01, -8.30495441e-02,\n",
              "       -4.62082856e-01,  8.62812966e-01, -1.22779353e-01,  2.37775508e-01,\n",
              "       -2.27074158e-01, -1.34555074e-01,  2.36024328e-01, -2.49956168e-01,\n",
              "       -9.51094132e-02, -2.13011625e-01,  1.87015451e-01,  7.81890801e-02,\n",
              "        2.45597540e-01,  7.11392642e-02, -4.83844364e-02, -8.44785871e-02,\n",
              "        1.96726170e-02,  2.21730337e-02, -1.92081632e-03, -5.43897452e-02,\n",
              "        2.30743184e-02,  4.71759979e-02,  4.63945456e-02,  8.60286760e-02,\n",
              "       -4.08555274e-02,  1.39557102e-01,  2.12239189e-02, -1.13154569e-01,\n",
              "        5.77960688e-02, -7.41025731e-01,  1.57805666e-02,  6.07680478e-01,\n",
              "       -1.08932807e-02, -1.94820142e-02,  1.27272741e-01, -6.12355259e-02,\n",
              "        6.61956605e-02, -7.99338447e-02,  1.02040925e-01, -4.19665195e-01,\n",
              "        6.64967136e-03,  3.44648803e-01, -6.35321590e-02, -9.86438384e-02,\n",
              "       -1.97185069e-01, -1.50742710e-01,  2.82753120e-02, -3.70946757e-02,\n",
              "       -1.34692730e-02, -3.32783837e-01, -3.44973729e-02, -9.81988313e-02,\n",
              "        1.58273361e-02,  6.71592580e-02,  1.85579577e-01, -2.77800975e-02,\n",
              "        2.01691769e-01, -2.05842274e-01, -7.86451964e-02, -3.33470919e-02,\n",
              "       -1.28449951e-02, -6.39136315e-02,  4.23634370e-02, -9.25701841e-03,\n",
              "        6.22381084e-02,  2.12313797e-02,  9.77351233e-02, -5.02147016e-02,\n",
              "        1.35098623e-02,  3.24564387e-02,  9.36720919e-02,  6.05356118e-03,\n",
              "        4.46971734e-02,  5.49699545e-03, -1.56778347e-02, -1.36469285e-02,\n",
              "        6.77851669e-02,  1.09657026e-01,  1.13476659e-01, -5.99044576e-03,\n",
              "       -1.12521917e-04, -1.42002584e-02, -7.90393670e-02, -5.61473461e-03,\n",
              "       -2.32481677e-01, -5.15123675e-02, -1.55650341e-01,  1.21131783e-01,\n",
              "       -5.00931314e-02, -3.09193533e-02, -3.22027215e-03,  5.14160088e-02,\n",
              "       -5.34564617e-02, -7.86346918e-03,  2.19430477e-02,  9.14863514e-03,\n",
              "        3.97656563e-02, -1.09642448e-01, -6.85541800e-02, -1.32256348e-01,\n",
              "        1.02805313e-02, -6.47466517e-02, -1.06943198e-01,  4.36904606e-03,\n",
              "        2.92737347e-01,  4.78334196e-01,  1.34805779e-02,  4.09767519e-02,\n",
              "       -1.48167943e-02,  8.33582717e-02,  1.14055982e-01,  2.32352265e-02,\n",
              "        6.71832555e-02,  2.86019882e-01, -1.98581697e-01, -1.82849016e-01,\n",
              "        2.90521614e-01,  2.69272317e-01, -4.08223288e-01, -5.31537864e-01,\n",
              "        4.38438819e-02, -7.24630231e-02,  1.07344519e-01, -2.22647398e-02,\n",
              "       -3.22707054e-01,  4.36826332e-02,  2.36537949e-01, -9.36253968e-01,\n",
              "       -4.84787055e-01, -2.04271571e-01,  9.62290129e-02, -6.96328528e-01,\n",
              "        6.08261644e-01,  3.77872649e-01,  2.82228547e-01, -4.00817111e-02,\n",
              "       -3.29477299e-01,  3.27612714e-02, -4.18253343e-01, -6.67660077e-01,\n",
              "        1.04264507e+00, -6.56572868e-01, -5.61922152e-01,  6.80178930e-01,\n",
              "        7.68569486e-01, -6.23094490e-01,  4.76179871e-01, -4.00394512e-01,\n",
              "       -8.33569751e-01,  1.01933006e+00, -1.16542989e-01, -6.53264884e-01,\n",
              "       -8.11196598e-01,  1.16029742e-01, -6.84652706e-01,  8.19819568e-01,\n",
              "       -7.15744682e-01,  4.53948730e-01, -4.39923451e-01, -1.37419718e-01,\n",
              "       -8.25178720e-01,  8.90053150e-02,  6.15272871e-02, -1.50082477e-01,\n",
              "       -6.83992105e-01,  7.64707424e-02,  2.16537721e-01,  4.32119768e-01,\n",
              "       -5.27460140e-01,  2.21065349e-01,  1.64439085e+00, -1.81923701e-01,\n",
              "       -1.29288615e-01, -6.47399150e-01, -1.73260784e-01,  7.97991473e-01,\n",
              "        8.04430835e-01, -5.33243140e-01, -4.58771134e-01, -3.21964349e-01,\n",
              "       -1.66720067e-01, -4.94935535e-02,  9.16730295e-02,  1.24014239e-01,\n",
              "        1.56450668e-01,  1.58761918e-01,  1.61655399e-01, -5.48917389e-01,\n",
              "        2.12563636e-01,  3.52240906e-01,  8.81861087e-02,  3.57774294e-01,\n",
              "       -2.01848558e-01,  1.69396040e-01,  3.79368597e-01,  3.81679095e-01,\n",
              "        3.68028435e-01, -6.09651111e-01, -1.10591698e-01, -5.97771897e-01,\n",
              "       -3.29211862e-02, -1.27929140e-02, -7.66613408e-02, -4.15493228e-02,\n",
              "       -1.62095164e-01, -1.47758490e-01, -1.45929836e-01,  3.66906162e-01,\n",
              "        2.47112161e-01,  2.53713140e-01,  6.05942867e-01,  2.52206842e-01,\n",
              "        8.01239578e-01, -5.82815224e-01,  4.72878192e-02, -7.02863166e-03,\n",
              "       -4.32389035e-02, -1.93102919e-01, -3.02939027e-01, -8.26254393e-02,\n",
              "        2.79936393e-01,  7.76604616e-01,  9.83165836e-02,  9.99975738e-03,\n",
              "       -1.62192254e-01, -1.96968744e-02, -3.50920963e-01,  4.44771260e-02,\n",
              "        3.65340187e-02, -1.30415282e-01, -2.05270753e-01, -3.16181712e-01,\n",
              "        2.02814787e-01,  5.86622094e-01, -1.16377487e+00,  2.17346296e-01,\n",
              "       -9.80549143e-01,  5.89384021e-01,  5.31072932e-01,  9.90079674e-01,\n",
              "       -8.72430239e-01,  8.71856144e-02,  5.35388615e-01,  9.11177973e-01,\n",
              "       -2.00127255e-02,  7.09631728e-01, -1.04941423e+00,  9.17490782e-01,\n",
              "        1.26440383e+00, -6.34100341e-01,  6.27940927e-01, -1.65486673e-01,\n",
              "       -3.47515626e-01, -7.05595701e-02,  4.18914235e-01, -1.62967330e-01,\n",
              "       -1.55652402e+00, -8.61005771e-02, -5.04447776e-01,  8.25119975e-01,\n",
              "       -4.96846222e-01, -8.87745247e-01,  8.78670357e-03, -1.95487321e-01,\n",
              "        4.17605079e-02,  6.55038197e-01, -5.30518943e-01,  9.91371178e-01,\n",
              "        7.58242807e-01,  4.05163618e-01,  3.26697682e-01,  3.68879649e-01,\n",
              "        2.21899768e-01,  3.72947586e-01,  2.32724340e-01,  1.84577670e-01,\n",
              "        1.81425914e-01,  1.78580981e-01, -4.49203028e-01,  6.13101223e-01,\n",
              "        6.97914359e-01,  2.14448930e-01,  8.17462349e-01, -6.64979073e-01,\n",
              "        1.27225000e-01,  4.33612202e-01,  4.36255593e-01,  4.35326379e-01,\n",
              "        6.38717016e-01, -1.63965034e-01,  3.86354846e-01,  9.00017032e-02,\n",
              "       -2.72733387e-01,  6.83887862e-02, -6.44353921e-02, -2.77722343e-01,\n",
              "       -2.72165286e-01, -3.22552852e-01, -2.58363685e-01, -3.05999492e-01,\n",
              "        1.23374080e-02,  1.06593459e+00, -9.13646508e-02,  6.05609073e-01,\n",
              "       -7.19361028e-01, -8.35933686e-02, -4.67372426e-01, -3.43797863e-01,\n",
              "        5.08344705e-01,  5.23458057e-02, -5.38071523e-01,  5.74958650e-01,\n",
              "       -2.22324889e-01, -1.60137861e+00,  1.39766077e+00, -4.49958162e-01,\n",
              "        6.64074002e-03,  1.73264434e-01, -3.83520865e-01, -2.19876686e-03,\n",
              "        1.77805159e-01, -4.76285360e-01,  4.81746781e-01, -6.52895845e-01,\n",
              "        1.69961388e-01,  1.71989440e-01, -9.76115929e-02,  1.07476283e-01,\n",
              "        6.50912229e-02,  3.44513015e-01, -4.64994009e-01,  2.52253423e-01,\n",
              "       -3.06244183e-02, -1.55123040e-01,  1.99945273e-01, -3.59210698e-04,\n",
              "       -1.50199714e-01,  6.33641003e-02, -2.88606902e-01,  5.81178720e-01,\n",
              "        5.38014450e-01,  6.55143909e-01, -5.45969563e-01, -3.97064641e-01,\n",
              "        3.98722505e-01, -5.03508744e-01,  2.60395009e-01,  5.21586558e-01,\n",
              "       -7.45076886e-01,  1.00893147e-02, -8.31246198e-02,  1.96170483e-01,\n",
              "        6.48833046e-02, -5.53297644e-01, -4.16344582e-01,  8.74458908e-02,\n",
              "        4.98747670e-01, -5.17030057e-01,  4.70773398e-01, -2.62439717e-01,\n",
              "       -2.86515976e-01, -1.36845281e-01, -3.27536152e-01, -1.16298990e-01,\n",
              "        2.30226001e-01, -1.83315008e-01, -3.12579249e-01,  6.46660245e-02,\n",
              "       -5.30317422e-02,  3.14441929e-01,  6.17088079e-01, -4.21886781e-01,\n",
              "       -3.01739441e-01, -1.47075624e-01,  1.09571169e+00, -2.87503162e-01,\n",
              "       -9.80195854e-01, -6.01591338e-01,  5.11700771e-01, -2.28778163e-01,\n",
              "        1.26383331e-01,  1.60490118e-01, -1.25561063e+00,  6.11814132e-01,\n",
              "        2.42991682e-01,  1.95838314e-01, -7.00417973e-01,  7.60638491e-01,\n",
              "       -9.21757364e-01,  2.44931429e-01,  1.50305159e-01,  2.10352450e-01,\n",
              "       -9.42282064e-02,  4.99828088e-01, -1.40486153e-01,  4.11437626e-01,\n",
              "       -1.00826175e+00,  3.80414351e-02, -5.76977998e-02, -8.52455705e-01,\n",
              "        3.47898014e-01,  4.10126902e-02, -2.25146793e-01,  4.35690636e-01,\n",
              "        8.71372500e-02, -9.83636144e-02,  4.81832307e-01,  3.05364424e-01,\n",
              "       -2.60328047e-01,  5.58949117e-01, -2.85085899e-01,  1.65279259e-01,\n",
              "       -2.84355813e-01,  9.76500558e-02, -2.26860054e-01,  2.86015890e-01,\n",
              "       -3.98899612e-01,  3.63796831e-01,  2.56991697e-01, -8.71368683e-01,\n",
              "       -1.19046940e+00,  1.09715679e+00,  2.60543076e-01,  2.08326016e-02,\n",
              "       -2.08403994e-01,  1.76735322e-01,  6.63994837e-01,  5.74444917e-01,\n",
              "       -5.15518000e-01,  1.14417058e-01, -8.15977443e-01,  2.67161237e-02,\n",
              "       -5.19629022e-01, -5.86908436e-01, -5.84649338e-01, -3.79884194e-01,\n",
              "        4.56301193e-01,  2.34483321e-01, -9.17704196e-01,  4.48268647e-02,\n",
              "       -2.17877477e-02,  6.00941853e-01,  1.15874179e+00,  6.44273198e-02,\n",
              "       -1.77353489e-01,  1.89280896e-01,  8.99739479e-01,  4.54078290e-01,\n",
              "        1.00942676e+00,  3.61477125e-01,  3.10777033e-01, -5.43376500e-01,\n",
              "       -8.88267776e-02, -1.85695994e-01, -6.01044119e-01,  7.57163459e-01,\n",
              "        1.09553354e+00,  1.33807555e-01, -1.30958574e+00,  4.62797909e-01,\n",
              "       -1.61462787e-01,  2.58710202e-01, -5.23930838e-01, -2.57805855e-01,\n",
              "        2.48378780e-01,  2.97333761e-01,  3.14111555e-01,  4.27694469e-02,\n",
              "       -1.36331115e-01,  1.78470527e-01,  2.08901808e-01,  1.37552232e-01,\n",
              "       -2.18873096e-01, -1.69798446e-01,  1.55728601e-02, -3.14624514e-01,\n",
              "        2.78951597e-01, -2.31196758e-01,  8.24133904e-01, -5.08447391e-01,\n",
              "        1.26109800e-01, -2.73044036e-01, -9.92721111e-02, -5.84361248e-01,\n",
              "       -1.99975399e+00, -8.71988355e-01,  6.78593711e-01, -1.00994977e-01,\n",
              "        3.16478022e-02,  4.73174658e-02,  3.24667706e-02,  2.35277811e-02,\n",
              "       -5.97092588e-02, -3.03205093e-02, -2.51450386e-03, -1.29237588e-02,\n",
              "       -5.61455385e-02, -7.34393225e-02, -4.19549274e-03, -3.84004028e-02,\n",
              "        1.03487100e-02,  4.88206560e-02, -3.46873963e-02,  4.55890738e-02,\n",
              "        1.69653515e-01,  6.68811750e-02,  7.20847713e-02, -1.02207986e-01,\n",
              "        4.67880768e-02, -2.45443712e-02, -5.12533509e-03, -5.06181407e-02,\n",
              "        5.93033487e-02,  1.36710941e-02, -8.31711957e-02,  8.51824869e-03,\n",
              "        1.05121522e-01,  1.50361549e-01,  4.30781296e-02, -3.01581452e-03,\n",
              "       -4.36745386e-02, -1.20819624e-01, -1.37603116e-01,  5.89731915e-02,\n",
              "       -7.70476329e-02,  1.31312514e-02,  7.54885397e-02,  6.92204348e-03,\n",
              "       -7.93464831e-02,  8.68616803e-02, -8.00195944e-02, -2.37627765e-03,\n",
              "       -4.06307594e-03,  9.88363567e-03, -1.23328604e-02,  7.23624108e-02,\n",
              "       -6.03758431e-04, -2.37588473e-02,  5.28554907e-02,  1.05942228e-01,\n",
              "        4.85928728e-02, -2.70615930e-02,  6.95965539e-02, -3.22800590e-02,\n",
              "       -5.03353005e-02, -4.01405525e-02, -1.39017681e-03,  4.54634676e-03,\n",
              "       -2.70505899e-02, -1.15958047e-02,  2.92504058e-02, -9.05170659e-03,\n",
              "       -6.78979246e-02,  3.22103071e-02,  7.76898927e-02,  1.05283404e-01,\n",
              "        1.83574880e-01,  1.42570713e-01, -1.04339593e-01,  2.99537667e-02,\n",
              "        5.35897179e-02, -4.37468693e-02,  3.31459165e-01,  3.93625837e-01,\n",
              "       -2.30159560e-01,  4.53568546e-01, -6.14667546e-01, -2.02439268e-01,\n",
              "        3.60863118e-01,  5.67579611e-01, -4.61633735e-01,  4.38934033e-01,\n",
              "       -9.45792262e-01,  5.10327517e-01,  6.33842505e-01, -2.27033131e-01,\n",
              "        1.65788924e+00,  1.66456173e-01,  4.21526404e-01,  1.72639059e+00,\n",
              "       -1.56859147e+00,  7.13155959e-02,  9.19761489e-01,  4.36767793e-01,\n",
              "       -6.69492318e-01, -5.97601361e-02, -1.70814641e-01, -1.52201654e+00,\n",
              "        1.18441234e+00, -1.11034512e+00, -9.80116684e-01, -1.13091404e+00,\n",
              "        2.44504066e-01,  1.13788661e+00, -1.24490251e+00,  7.34082450e-01,\n",
              "       -1.20042111e-01, -3.49044220e-02,  1.14336910e-01,  2.60250125e-01,\n",
              "       -6.12993892e-01, -8.20528642e-01,  7.04291287e-02,  1.48317107e-01,\n",
              "        2.09354810e-01, -1.03452305e-01, -4.55619358e-02, -1.63975043e-01,\n",
              "        7.68289748e-01,  3.28255102e-01,  1.85005133e-01,  1.59600430e+00,\n",
              "       -3.31630540e-01,  3.55481811e-01, -3.14446659e-01,  5.69300989e-01,\n",
              "       -1.12737559e+00, -7.12813279e-02, -7.38805390e-01,  1.32544247e+00,\n",
              "        4.80063849e-02,  1.39992862e-01,  5.73212954e-02, -6.05948123e-02,\n",
              "        4.01040355e-01, -4.32017956e-01, -8.43284293e-02, -8.90892283e-01,\n",
              "       -7.60299635e-01,  3.40124567e-01,  6.74610189e-02,  3.26045062e-01,\n",
              "       -2.30518676e-01,  3.11331408e-04,  8.37633208e-02, -2.65933506e-01,\n",
              "       -5.16035878e-01, -2.29684051e-01,  2.27484622e-01,  6.11603988e-01,\n",
              "       -1.80549741e-01,  2.13997605e-01,  2.29496602e-02, -4.22308687e-01,\n",
              "        7.99587903e-01,  2.72309174e-02,  6.77666944e-02,  1.17039411e+00,\n",
              "        2.98804719e-01, -3.74574155e-01,  9.22117265e-02, -2.49704184e-01,\n",
              "       -3.56360416e-01, -5.26972083e-01,  1.89490252e-01,  5.84707864e-01,\n",
              "        1.59587353e-01, -3.72856795e-02, -4.40420677e-01,  1.06413209e-01,\n",
              "        4.67720575e-01, -2.08245225e-01, -6.27890486e-01,  3.77017931e-01,\n",
              "       -7.09254603e-01,  5.18795896e-01, -1.59586067e-01,  4.20413168e-01,\n",
              "        2.01606036e-01, -1.64408426e-01, -6.78453096e-02, -2.09246482e-03,\n",
              "       -9.92328937e-02,  7.53304640e-04,  2.97716038e-02, -1.16880641e-02,\n",
              "       -1.60414192e-01, -4.12825981e-02, -1.07387961e-02,  7.78001257e-02,\n",
              "       -1.05218731e-01,  6.11693449e-02, -1.54805802e-03, -5.04914785e-02,\n",
              "        2.04167142e-02,  4.23537653e-02, -6.71248818e-02, -4.39149834e-02,\n",
              "       -1.12887285e-02,  1.16666467e-01, -1.30829405e-02,  2.31698038e-01,\n",
              "        1.43424275e-02,  7.55559369e-02, -3.09867257e-03,  1.15316737e-01,\n",
              "        2.65917318e-02, -5.04772966e-02, -1.45664735e-01,  1.75452255e-01,\n",
              "        5.44526961e-02, -3.17595673e-01,  8.59128260e-02,  6.26491533e-02,\n",
              "        2.38438331e-01, -1.87556126e-01, -2.08531671e-01,  3.46444389e-01,\n",
              "        6.38412828e-02, -1.94468462e-01, -4.83587314e-02,  9.52527561e-02,\n",
              "        4.02263637e-01, -4.97547301e-01,  1.45378532e-01,  2.52208844e-02,\n",
              "        8.53797099e-02, -1.01469363e-01, -8.39596411e-02,  1.74448592e-01,\n",
              "       -3.53879750e-01,  3.12609727e-01, -2.27824592e-01,  5.13692875e-02,\n",
              "       -4.30208585e-02, -7.07924742e-02, -1.97933220e-01,  3.38898916e-01,\n",
              "        1.67918764e-01, -1.50994992e-01,  1.53069304e-01, -3.90758566e-02,\n",
              "       -3.48367892e-02, -1.41898852e-01,  3.47016748e-01, -4.41537037e-01,\n",
              "        2.47207238e-01, -1.04108868e-01,  1.03242628e-02,  4.70805309e-02])"
            ]
          },
          "metadata": {},
          "execution_count": 72
        }
      ]
    },
    {
      "cell_type": "code",
      "source": [
        "Model_1.intercept_"
      ],
      "metadata": {
        "colab": {
          "base_uri": "https://localhost:8080/"
        },
        "id": "ZcpLK40TVh-8",
        "outputId": "adfcbf6e-5857-4942-a174-e6dd22e9846f"
      },
      "execution_count": null,
      "outputs": [
        {
          "output_type": "execute_result",
          "data": {
            "text/plain": [
              "0.7443816391937169"
            ]
          },
          "metadata": {},
          "execution_count": 73
        }
      ]
    },
    {
      "cell_type": "code",
      "source": [
        "from sklearn.metrics import roc_curve,auc,confusion_matrix,classification_report,accuracy_score"
      ],
      "metadata": {
        "id": "_LjbJ8mzwyX6"
      },
      "execution_count": null,
      "outputs": []
    },
    {
      "cell_type": "code",
      "source": [
        "from sklearn.metrics import confusion_matrix\n",
        "import matplotlib.pyplot as plt\n"
      ],
      "metadata": {
        "id": "R-oRDxVkWOTT"
      },
      "execution_count": null,
      "outputs": []
    },
    {
      "cell_type": "code",
      "source": [
        "CM=confusion_matrix(Y_test,Y_Predict_Model_1)\n",
        "import seaborn as sn\n",
        "plt.figure(figsize=(6,4))\n",
        "fg=sn.heatmap(CM,annot=True,cmap='Blues')\n",
        "figure=fg.get_figure()\n",
        "figure.savefig('LG.jpg',dpi=350)\n",
        "plt.xlabel(\"Predicted\")\n",
        "plt.ylabel(\"Actual\")\n",
        "plt.show()"
      ],
      "metadata": {
        "colab": {
          "base_uri": "https://localhost:8080/",
          "height": 388
        },
        "id": "-EpMwc5fXV7K",
        "outputId": "c81baf98-c3c9-4e49-aec7-7937d6003254"
      },
      "execution_count": null,
      "outputs": [
        {
          "output_type": "display_data",
          "data": {
            "text/plain": [
              "<Figure size 600x400 with 2 Axes>"
            ],
            "image/png": "[encoded data removed]"
          },
          "metadata": {}
        }
      ]
    },
    {
      "cell_type": "code",
      "source": [
        "print (classification_report(Y_test,Y_Predict_Model_1))\n",
        "\n",
        "print('Confusion matrix:')\n",
        "print(CM)"
      ],
      "metadata": {
        "colab": {
          "base_uri": "https://localhost:8080/"
        },
        "outputId": "43f49b11-f51c-4d33-ba6f-32977ff8009c",
        "id": "ZeVvsafj-AAc"
      },
      "execution_count": null,
      "outputs": [
        {
          "output_type": "stream",
          "name": "stdout",
          "text": [
            "              precision    recall  f1-score   support\n",
            "\n",
            "           0       0.38      0.62      0.47        34\n",
            "           1       0.86      0.70      0.78       118\n",
            "\n",
            "    accuracy                           0.68       152\n",
            "   macro avg       0.62      0.66      0.62       152\n",
            "weighted avg       0.76      0.68      0.71       152\n",
            "\n",
            "Confusion matrix:\n",
            "[[21 13]\n",
            " [35 83]]\n"
          ]
        }
      ]
    },
    {
      "cell_type": "code",
      "source": [
        "Accuracy=0.68\n",
        "print(\"Linear Regression Model Accuracy:\",Accuracy)"
      ],
      "metadata": {
        "colab": {
          "base_uri": "https://localhost:8080/"
        },
        "outputId": "b87cc5df-d7ec-45d9-8d3f-be04f663092a",
        "id": "EN3_eFPEub22"
      },
      "execution_count": null,
      "outputs": [
        {
          "output_type": "stream",
          "name": "stdout",
          "text": [
            "Linear Regression Model Accuracy: 0.68\n"
          ]
        }
      ]
    },
    {
      "cell_type": "markdown",
      "source": [
        "Logistic Regression Model"
      ],
      "metadata": {
        "id": "7k66aH0LcxtP"
      }
    },
    {
      "cell_type": "code",
      "source": [
        "from sklearn.linear_model import LogisticRegression\n"
      ],
      "metadata": {
        "id": "HB_Qpvizc2hS"
      },
      "execution_count": null,
      "outputs": []
    },
    {
      "cell_type": "code",
      "source": [
        "Model_2=LogisticRegression()"
      ],
      "metadata": {
        "id": "B57wTp2IFhtT"
      },
      "execution_count": null,
      "outputs": []
    },
    {
      "cell_type": "code",
      "source": [
        "Model_2=LogisticRegression()\n",
        "Model_2.fit(X_train,Y_train)"
      ],
      "metadata": {
        "colab": {
          "base_uri": "https://localhost:8080/",
          "height": 214
        },
        "id": "Y9yDAklkdKIc",
        "outputId": "10e27c2a-60c7-43db-aa5c-b6eb37a6616a"
      },
      "execution_count": null,
      "outputs": [
        {
          "output_type": "stream",
          "name": "stderr",
          "text": [
            "/usr/local/lib/python3.10/dist-packages/sklearn/linear_model/_logistic.py:458: ConvergenceWarning: lbfgs failed to converge (status=1):\n",
            "STOP: TOTAL NO. of ITERATIONS REACHED LIMIT.\n",
            "\n",
            "Increase the number of iterations (max_iter) or scale the data as shown in:\n",
            "    https://scikit-learn.org/stable/modules/preprocessing.html\n",
            "Please also refer to the documentation for alternative solver options:\n",
            "    https://scikit-learn.org/stable/modules/linear_model.html#logistic-regression\n",
            "  n_iter_i = _check_optimize_result(\n"
          ]
        },
        {
          "output_type": "execute_result",
          "data": {
            "text/plain": [
              "LogisticRegression()"
            ],
            "text/html": [
              "<style>#sk-container-id-33 {color: black;background-color: white;}#sk-container-id-33 pre{padding: 0;}#sk-container-id-33 div.sk-toggleable {background-color: white;}#sk-container-id-33 label.sk-toggleable__label {cursor: pointer;display: block;width: 100%;margin-bottom: 0;padding: 0.3em;box-sizing: border-box;text-align: center;}#sk-container-id-33 label.sk-toggleable__label-arrow:before {content: \"▸\";float: left;margin-right: 0.25em;color: #696969;}#sk-container-id-33 label.sk-toggleable__label-arrow:hover:before {color: black;}#sk-container-id-33 div.sk-estimator:hover label.sk-toggleable__label-arrow:before {color: black;}#sk-container-id-33 div.sk-toggleable__content {max-height: 0;max-width: 0;overflow: hidden;text-align: left;background-color: #f0f8ff;}#sk-container-id-33 div.sk-toggleable__content pre {margin: 0.2em;color: black;border-radius: 0.25em;background-color: #f0f8ff;}#sk-container-id-33 input.sk-toggleable__control:checked~div.sk-toggleable__content {max-height: 200px;max-width: 100%;overflow: auto;}#sk-container-id-33 input.sk-toggleable__control:checked~label.sk-toggleable__label-arrow:before {content: \"▾\";}#sk-container-id-33 div.sk-estimator input.sk-toggleable__control:checked~label.sk-toggleable__label {background-color: #d4ebff;}#sk-container-id-33 div.sk-label input.sk-toggleable__control:checked~label.sk-toggleable__label {background-color: #d4ebff;}#sk-container-id-33 input.sk-hidden--visually {border: 0;clip: rect(1px 1px 1px 1px);clip: rect(1px, 1px, 1px, 1px);height: 1px;margin: -1px;overflow: hidden;padding: 0;position: absolute;width: 1px;}#sk-container-id-33 div.sk-estimator {font-family: monospace;background-color: #f0f8ff;border: 1px dotted black;border-radius: 0.25em;box-sizing: border-box;margin-bottom: 0.5em;}#sk-container-id-33 div.sk-estimator:hover {background-color: #d4ebff;}#sk-container-id-33 div.sk-parallel-item::after {content: \"\";width: 100%;border-bottom: 1px solid gray;flex-grow: 1;}#sk-container-id-33 div.sk-label:hover label.sk-toggleable__label {background-color: #d4ebff;}#sk-container-id-33 div.sk-serial::before {content: \"\";position: absolute;border-left: 1px solid gray;box-sizing: border-box;top: 0;bottom: 0;left: 50%;z-index: 0;}#sk-container-id-33 div.sk-serial {display: flex;flex-direction: column;align-items: center;background-color: white;padding-right: 0.2em;padding-left: 0.2em;position: relative;}#sk-container-id-33 div.sk-item {position: relative;z-index: 1;}#sk-container-id-33 div.sk-parallel {display: flex;align-items: stretch;justify-content: center;background-color: white;position: relative;}#sk-container-id-33 div.sk-item::before, #sk-container-id-33 div.sk-parallel-item::before {content: \"\";position: absolute;border-left: 1px solid gray;box-sizing: border-box;top: 0;bottom: 0;left: 50%;z-index: -1;}#sk-container-id-33 div.sk-parallel-item {display: flex;flex-direction: column;z-index: 1;position: relative;background-color: white;}#sk-container-id-33 div.sk-parallel-item:first-child::after {align-self: flex-end;width: 50%;}#sk-container-id-33 div.sk-parallel-item:last-child::after {align-self: flex-start;width: 50%;}#sk-container-id-33 div.sk-parallel-item:only-child::after {width: 0;}#sk-container-id-33 div.sk-dashed-wrapped {border: 1px dashed gray;margin: 0 0.4em 0.5em 0.4em;box-sizing: border-box;padding-bottom: 0.4em;background-color: white;}#sk-container-id-33 div.sk-label label {font-family: monospace;font-weight: bold;display: inline-block;line-height: 1.2em;}#sk-container-id-33 div.sk-label-container {text-align: center;}#sk-container-id-33 div.sk-container {/* jupyter's `normalize.less` sets `[hidden] { display: none; }` but bootstrap.min.css set `[hidden] { display: none !important; }` so we also need the `!important` here to be able to override the default hidden behavior on the sphinx rendered scikit-learn.org. See: https://github.com/scikit-learn/scikit-learn/issues/21755 */display: inline-block !important;position: relative;}#sk-container-id-33 div.sk-text-repr-fallback {display: none;}</style><div id=\"sk-container-id-33\" class=\"sk-top-container\"><div class=\"sk-text-repr-fallback\"><pre>LogisticRegression()</pre><b>In a Jupyter environment, please rerun this cell to show the HTML representation or trust the notebook. <br />On GitHub, the HTML representation is unable to render, please try loading this page with nbviewer.org.</b></div><div class=\"sk-container\" hidden><div class=\"sk-item\"><div class=\"sk-estimator sk-toggleable\"><input class=\"sk-toggleable__control sk-hidden--visually\" id=\"sk-estimator-id-33\" type=\"checkbox\" checked><label for=\"sk-estimator-id-33\" class=\"sk-toggleable__label sk-toggleable__label-arrow\">LogisticRegression</label><div class=\"sk-toggleable__content\"><pre>LogisticRegression()</pre></div></div></div></div></div>"
            ]
          },
          "metadata": {},
          "execution_count": 519
        }
      ]
    },
    {
      "cell_type": "code",
      "source": [
        "Y_Predict_Model_2=Model_2.predict(X_test)\n",
        "Y_Predict_Model_2"
      ],
      "metadata": {
        "colab": {
          "base_uri": "https://localhost:8080/"
        },
        "id": "QL3_x0r8eNip",
        "outputId": "7ef955eb-9455-492b-d6e2-33a5768ede72"
      },
      "execution_count": null,
      "outputs": [
        {
          "output_type": "execute_result",
          "data": {
            "text/plain": [
              "array([1, 1, 1, 1, 1, 1, 1, 1, 1, 1, 1, 1, 1, 1, 1, 1, 1, 1, 0, 1, 1, 1,\n",
              "       1, 1, 1, 1, 1, 1, 1, 1, 1, 0, 1, 1, 0, 1, 1, 1, 1, 1, 1, 1, 1, 0,\n",
              "       0, 1, 1, 1, 1, 0, 1, 0, 1, 1, 1, 1, 1, 1, 1, 0, 1, 1, 0, 0, 1, 1,\n",
              "       0, 1, 0, 1, 1, 1, 1, 1, 1, 1, 1, 1, 1, 1, 0, 1, 0, 0, 0, 0, 1, 1,\n",
              "       0, 1, 0, 1, 1, 0, 0, 1, 1, 1, 0, 0, 0, 1, 1, 1, 1, 0, 1, 1, 1, 1,\n",
              "       1, 0, 1, 0, 1, 0, 1, 0, 0, 1, 0, 0, 0, 1, 0, 1, 1, 1, 1, 1, 1, 0,\n",
              "       1, 1, 1, 0, 1, 1, 1, 0, 1, 1, 1, 1, 1, 1, 1, 1, 1, 1, 1, 1])"
            ]
          },
          "metadata": {},
          "execution_count": 520
        }
      ]
    },
    {
      "cell_type": "code",
      "source": [
        "Y_test"
      ],
      "metadata": {
        "colab": {
          "base_uri": "https://localhost:8080/"
        },
        "id": "6Ke4hYwFfYPi",
        "outputId": "93370700-5fb5-479e-b4d9-6dd8dc32e147"
      },
      "execution_count": null,
      "outputs": [
        {
          "output_type": "execute_result",
          "data": {
            "text/plain": [
              "array([1, 1, 1, 1, 1, 1, 1, 1, 1, 1, 1, 1, 1, 1, 0, 1, 1, 1, 0, 1, 1, 1,\n",
              "       1, 1, 1, 1, 1, 1, 1, 1, 1, 1, 1, 1, 0, 1, 1, 1, 0, 1, 1, 1, 1, 1,\n",
              "       0, 1, 0, 1, 1, 1, 0, 0, 0, 1, 1, 1, 1, 1, 1, 0, 0, 1, 0, 1, 1, 1,\n",
              "       0, 1, 1, 1, 0, 1, 1, 1, 1, 1, 1, 1, 1, 1, 1, 1, 0, 0, 0, 1, 1, 1,\n",
              "       0, 1, 1, 0, 0, 1, 1, 1, 1, 1, 1, 0, 0, 0, 1, 1, 1, 1, 1, 1, 1, 1,\n",
              "       1, 0, 1, 0, 1, 1, 1, 1, 0, 0, 1, 0, 0, 1, 0, 1, 1, 1, 1, 0, 1, 1,\n",
              "       1, 1, 1, 0, 1, 1, 1, 0, 1, 1, 1, 1, 1, 1, 1, 1, 1, 0, 1, 1])"
            ]
          },
          "metadata": {},
          "execution_count": 521
        }
      ]
    },
    {
      "cell_type": "code",
      "source": [
        "Accuracy_2=Model_2.score(X_test,Y_test)\n",
        "print(\"Logistic Regression Model Accuracy:\",Accuracy_2)"
      ],
      "metadata": {
        "colab": {
          "base_uri": "https://localhost:8080/"
        },
        "id": "UM7uwgh1flec",
        "outputId": "154eaa3a-61d6-4c19-be8a-9074c428cfdd"
      },
      "execution_count": null,
      "outputs": [
        {
          "output_type": "stream",
          "name": "stdout",
          "text": [
            "Logistic Regression Model Accuracy: 0.8092105263157895\n"
          ]
        }
      ]
    },
    {
      "cell_type": "code",
      "source": [
        "Model_2.predict_proba(X_test)"
      ],
      "metadata": {
        "colab": {
          "base_uri": "https://localhost:8080/"
        },
        "id": "U2dkwbuJfxip",
        "outputId": "91e835ba-8c2e-476a-bab6-daf94a9f7998"
      },
      "execution_count": null,
      "outputs": [
        {
          "output_type": "execute_result",
          "data": {
            "text/plain": [
              "array([[2.70431328e-02, 9.72956867e-01],\n",
              "       [5.91681679e-02, 9.40831832e-01],\n",
              "       [1.03112467e-03, 9.98968875e-01],\n",
              "       [5.98414533e-06, 9.99994016e-01],\n",
              "       [3.92510736e-03, 9.96074893e-01],\n",
              "       [2.53440317e-02, 9.74655968e-01],\n",
              "       [3.07267855e-03, 9.96927321e-01],\n",
              "       [2.85628271e-02, 9.71437173e-01],\n",
              "       [1.03135399e-04, 9.99896865e-01],\n",
              "       [5.74505155e-05, 9.99942549e-01],\n",
              "       [1.05293303e-03, 9.98947067e-01],\n",
              "       [1.69430598e-01, 8.30569402e-01],\n",
              "       [3.46053874e-06, 9.99996539e-01],\n",
              "       [8.27485915e-04, 9.99172514e-01],\n",
              "       [1.60278876e-01, 8.39721124e-01],\n",
              "       [1.95035909e-05, 9.99980496e-01],\n",
              "       [1.04197459e-04, 9.99895803e-01],\n",
              "       [1.92377825e-02, 9.80762218e-01],\n",
              "       [6.90131622e-01, 3.09868378e-01],\n",
              "       [9.53856726e-03, 9.90461433e-01],\n",
              "       [1.78739426e-05, 9.99982126e-01],\n",
              "       [2.25742796e-05, 9.99977426e-01],\n",
              "       [3.77289672e-01, 6.22710328e-01],\n",
              "       [8.08765860e-07, 9.99999191e-01],\n",
              "       [3.64701857e-05, 9.99963530e-01],\n",
              "       [2.54810325e-06, 9.99997452e-01],\n",
              "       [4.65334790e-03, 9.95346652e-01],\n",
              "       [3.36002607e-02, 9.66399739e-01],\n",
              "       [8.03210663e-05, 9.99919679e-01],\n",
              "       [2.36502999e-04, 9.99763497e-01],\n",
              "       [2.02941277e-08, 9.99999980e-01],\n",
              "       [5.41452276e-01, 4.58547724e-01],\n",
              "       [1.37604865e-05, 9.99986240e-01],\n",
              "       [2.42957617e-08, 9.99999976e-01],\n",
              "       [8.87646360e-01, 1.12353640e-01],\n",
              "       [5.67330114e-06, 9.99994327e-01],\n",
              "       [2.66212231e-02, 9.73378777e-01],\n",
              "       [3.42582184e-01, 6.57417816e-01],\n",
              "       [7.05869584e-02, 9.29413042e-01],\n",
              "       [3.23638705e-04, 9.99676361e-01],\n",
              "       [5.43288601e-04, 9.99456711e-01],\n",
              "       [2.46630881e-04, 9.99753369e-01],\n",
              "       [1.26094852e-05, 9.99987391e-01],\n",
              "       [9.99939999e-01, 6.00011350e-05],\n",
              "       [9.99879199e-01, 1.20801178e-04],\n",
              "       [3.52814660e-04, 9.99647185e-01],\n",
              "       [2.53314670e-03, 9.97466853e-01],\n",
              "       [8.23999946e-09, 9.99999992e-01],\n",
              "       [2.38321950e-01, 7.61678050e-01],\n",
              "       [6.64698827e-01, 3.35301173e-01],\n",
              "       [1.00985073e-01, 8.99014927e-01],\n",
              "       [9.99800686e-01, 1.99314426e-04],\n",
              "       [2.61312255e-01, 7.38687745e-01],\n",
              "       [6.01877433e-06, 9.99993981e-01],\n",
              "       [1.23711668e-05, 9.99987629e-01],\n",
              "       [5.50429015e-03, 9.94495710e-01],\n",
              "       [6.23282747e-03, 9.93767173e-01],\n",
              "       [1.87875143e-06, 9.99998121e-01],\n",
              "       [4.23910980e-02, 9.57608902e-01],\n",
              "       [9.90290437e-01, 9.70956344e-03],\n",
              "       [5.90086553e-03, 9.94099134e-01],\n",
              "       [5.41257487e-05, 9.99945874e-01],\n",
              "       [9.99999966e-01, 3.35327456e-08],\n",
              "       [7.15994052e-01, 2.84005948e-01],\n",
              "       [8.28492622e-05, 9.99917151e-01],\n",
              "       [8.53270219e-04, 9.99146730e-01],\n",
              "       [9.99812904e-01, 1.87095547e-04],\n",
              "       [2.06723426e-03, 9.97932766e-01],\n",
              "       [7.86154300e-01, 2.13845700e-01],\n",
              "       [1.45044558e-03, 9.98549554e-01],\n",
              "       [1.38740414e-05, 9.99986126e-01],\n",
              "       [3.98288008e-03, 9.96017120e-01],\n",
              "       [2.57368192e-06, 9.99997426e-01],\n",
              "       [1.12087340e-04, 9.99887913e-01],\n",
              "       [4.08695482e-06, 9.99995913e-01],\n",
              "       [8.64842159e-04, 9.99135158e-01],\n",
              "       [2.12399199e-03, 9.97876008e-01],\n",
              "       [2.11618061e-01, 7.88381939e-01],\n",
              "       [4.14768776e-03, 9.95852312e-01],\n",
              "       [2.98120270e-02, 9.70187973e-01],\n",
              "       [8.66446653e-01, 1.33553347e-01],\n",
              "       [1.15161975e-04, 9.99884838e-01],\n",
              "       [9.99815273e-01, 1.84727254e-04],\n",
              "       [9.50950385e-01, 4.90496152e-02],\n",
              "       [9.74954830e-01, 2.50451704e-02],\n",
              "       [5.10878963e-01, 4.89121037e-01],\n",
              "       [6.18581541e-06, 9.99993814e-01],\n",
              "       [7.56562683e-03, 9.92434373e-01],\n",
              "       [9.44865796e-01, 5.51342043e-02],\n",
              "       [4.06010781e-10, 1.00000000e+00],\n",
              "       [9.28656314e-01, 7.13436863e-02],\n",
              "       [1.71381124e-01, 8.28618876e-01],\n",
              "       [2.57551739e-01, 7.42448261e-01],\n",
              "       [9.97069368e-01, 2.93063163e-03],\n",
              "       [5.37826398e-01, 4.62173602e-01],\n",
              "       [2.79118541e-02, 9.72088146e-01],\n",
              "       [4.51715036e-04, 9.99548285e-01],\n",
              "       [2.75253773e-02, 9.72474623e-01],\n",
              "       [9.86705136e-01, 1.32948639e-02],\n",
              "       [1.00000000e+00, 1.67803136e-12],\n",
              "       [8.41882431e-01, 1.58117569e-01],\n",
              "       [9.23114826e-02, 9.07688517e-01],\n",
              "       [5.61388910e-05, 9.99943861e-01],\n",
              "       [3.57372665e-06, 9.99996426e-01],\n",
              "       [2.77245377e-07, 9.99999723e-01],\n",
              "       [7.61189086e-01, 2.38810914e-01],\n",
              "       [1.35775966e-05, 9.99986422e-01],\n",
              "       [4.78870350e-02, 9.52112965e-01],\n",
              "       [2.46402604e-01, 7.53597396e-01],\n",
              "       [3.36927196e-04, 9.99663073e-01],\n",
              "       [4.19403076e-07, 9.99999581e-01],\n",
              "       [7.97874976e-01, 2.02125024e-01],\n",
              "       [2.92694124e-01, 7.07305876e-01],\n",
              "       [9.99999993e-01, 7.08296131e-09],\n",
              "       [2.20444325e-02, 9.77955567e-01],\n",
              "       [9.98578885e-01, 1.42111472e-03],\n",
              "       [2.38544005e-04, 9.99761456e-01],\n",
              "       [9.52133506e-01, 4.78664937e-02],\n",
              "       [9.95488251e-01, 4.51174876e-03],\n",
              "       [2.38191450e-01, 7.61808550e-01],\n",
              "       [9.58094921e-01, 4.19050786e-02],\n",
              "       [9.94471750e-01, 5.52824953e-03],\n",
              "       [9.03789978e-01, 9.62100224e-02],\n",
              "       [2.74074764e-03, 9.97259252e-01],\n",
              "       [9.64844619e-01, 3.51553807e-02],\n",
              "       [3.83699476e-01, 6.16300524e-01],\n",
              "       [3.79261400e-05, 9.99962074e-01],\n",
              "       [5.15979544e-04, 9.99484020e-01],\n",
              "       [1.57274386e-04, 9.99842726e-01],\n",
              "       [2.10892896e-02, 9.78910710e-01],\n",
              "       [3.14877722e-02, 9.68512228e-01],\n",
              "       [9.82062222e-01, 1.79377784e-02],\n",
              "       [4.40798528e-03, 9.95592015e-01],\n",
              "       [3.82155905e-02, 9.61784410e-01],\n",
              "       [1.70875327e-05, 9.99982912e-01],\n",
              "       [6.38978470e-01, 3.61021530e-01],\n",
              "       [4.79333200e-04, 9.99520667e-01],\n",
              "       [3.02197609e-03, 9.96978024e-01],\n",
              "       [1.51999186e-02, 9.84800081e-01],\n",
              "       [7.13707202e-01, 2.86292798e-01],\n",
              "       [1.74711199e-03, 9.98252888e-01],\n",
              "       [1.33102737e-03, 9.98668973e-01],\n",
              "       [1.42214671e-08, 9.99999986e-01],\n",
              "       [2.07120382e-03, 9.97928796e-01],\n",
              "       [8.17481589e-03, 9.91825184e-01],\n",
              "       [3.02866292e-01, 6.97133708e-01],\n",
              "       [5.59922163e-04, 9.99440078e-01],\n",
              "       [2.86173943e-05, 9.99971383e-01],\n",
              "       [2.45873714e-04, 9.99754126e-01],\n",
              "       [1.59926694e-02, 9.84007331e-01],\n",
              "       [1.82724221e-05, 9.99981728e-01],\n",
              "       [5.29661798e-06, 9.99994703e-01]])"
            ]
          },
          "metadata": {},
          "execution_count": 523
        }
      ]
    },
    {
      "cell_type": "code",
      "source": [
        "CM=confusion_matrix(Y_test,Y_Predict_Model_2)\n",
        "plt.figure(figsize=(6,4))\n",
        "fg=sn.heatmap(CM,annot=True,cmap='Blues')\n",
        "figure=fg.get_figure()\n",
        "figure.savefig('LoGi.jpg',dpi=350)\n",
        "plt.xlabel(\"Predicted\")\n",
        "plt.ylabel(\"Actual\")\n",
        "plt.show()"
      ],
      "metadata": {
        "colab": {
          "base_uri": "https://localhost:8080/",
          "height": 388
        },
        "id": "l2iDJJyBf9ec",
        "outputId": "48ecb4a2-0d0e-432f-dc4e-4137af140d88"
      },
      "execution_count": null,
      "outputs": [
        {
          "output_type": "display_data",
          "data": {
            "text/plain": [
              "<Figure size 600x400 with 2 Axes>"
            ],
            "image/png": "[encoded data removed]"
          },
          "metadata": {}
        }
      ]
    },
    {
      "cell_type": "code",
      "source": [
        "print (classification_report(Y_test,Y_Predict_Model_2))\n",
        "\n",
        "print('Confusion matrix:')\n",
        "print(CM)"
      ],
      "metadata": {
        "colab": {
          "base_uri": "https://localhost:8080/"
        },
        "outputId": "37a2caef-6f14-49d9-fac1-a9460049a249",
        "id": "w2PBHM6I_BkZ"
      },
      "execution_count": null,
      "outputs": [
        {
          "output_type": "stream",
          "name": "stdout",
          "text": [
            "              precision    recall  f1-score   support\n",
            "\n",
            "           0       0.57      0.62      0.59        34\n",
            "           1       0.89      0.86      0.88       118\n",
            "\n",
            "    accuracy                           0.81       152\n",
            "   macro avg       0.73      0.74      0.73       152\n",
            "weighted avg       0.82      0.81      0.81       152\n",
            "\n",
            "Confusion matrix:\n",
            "[[ 21  13]\n",
            " [ 16 102]]\n"
          ]
        }
      ]
    },
    {
      "cell_type": "markdown",
      "source": [
        "Decision Tree Model"
      ],
      "metadata": {
        "id": "AN_9ZaHMgnLH"
      }
    },
    {
      "cell_type": "code",
      "source": [
        "from sklearn import tree"
      ],
      "metadata": {
        "id": "QhdfpL_EiDay"
      },
      "execution_count": null,
      "outputs": []
    },
    {
      "cell_type": "code",
      "source": [
        "Model_3=tree.DecisionTreeClassifier()"
      ],
      "metadata": {
        "id": "tVVf5tCdFnoZ"
      },
      "execution_count": null,
      "outputs": []
    },
    {
      "cell_type": "code",
      "source": [
        "Model_3=tree.DecisionTreeClassifier()\n",
        "Model_3.fit(X_train,Y_train)"
      ],
      "metadata": {
        "colab": {
          "base_uri": "https://localhost:8080/",
          "height": 75
        },
        "id": "C6YPffOAifUw",
        "outputId": "79acdc28-af75-45b6-981a-9b764ed290fd"
      },
      "execution_count": null,
      "outputs": [
        {
          "output_type": "execute_result",
          "data": {
            "text/plain": [
              "DecisionTreeClassifier()"
            ],
            "text/html": [
              "<style>#sk-container-id-5 {color: black;background-color: white;}#sk-container-id-5 pre{padding: 0;}#sk-container-id-5 div.sk-toggleable {background-color: white;}#sk-container-id-5 label.sk-toggleable__label {cursor: pointer;display: block;width: 100%;margin-bottom: 0;padding: 0.3em;box-sizing: border-box;text-align: center;}#sk-container-id-5 label.sk-toggleable__label-arrow:before {content: \"▸\";float: left;margin-right: 0.25em;color: #696969;}#sk-container-id-5 label.sk-toggleable__label-arrow:hover:before {color: black;}#sk-container-id-5 div.sk-estimator:hover label.sk-toggleable__label-arrow:before {color: black;}#sk-container-id-5 div.sk-toggleable__content {max-height: 0;max-width: 0;overflow: hidden;text-align: left;background-color: #f0f8ff;}#sk-container-id-5 div.sk-toggleable__content pre {margin: 0.2em;color: black;border-radius: 0.25em;background-color: #f0f8ff;}#sk-container-id-5 input.sk-toggleable__control:checked~div.sk-toggleable__content {max-height: 200px;max-width: 100%;overflow: auto;}#sk-container-id-5 input.sk-toggleable__control:checked~label.sk-toggleable__label-arrow:before {content: \"▾\";}#sk-container-id-5 div.sk-estimator input.sk-toggleable__control:checked~label.sk-toggleable__label {background-color: #d4ebff;}#sk-container-id-5 div.sk-label input.sk-toggleable__control:checked~label.sk-toggleable__label {background-color: #d4ebff;}#sk-container-id-5 input.sk-hidden--visually {border: 0;clip: rect(1px 1px 1px 1px);clip: rect(1px, 1px, 1px, 1px);height: 1px;margin: -1px;overflow: hidden;padding: 0;position: absolute;width: 1px;}#sk-container-id-5 div.sk-estimator {font-family: monospace;background-color: #f0f8ff;border: 1px dotted black;border-radius: 0.25em;box-sizing: border-box;margin-bottom: 0.5em;}#sk-container-id-5 div.sk-estimator:hover {background-color: #d4ebff;}#sk-container-id-5 div.sk-parallel-item::after {content: \"\";width: 100%;border-bottom: 1px solid gray;flex-grow: 1;}#sk-container-id-5 div.sk-label:hover label.sk-toggleable__label {background-color: #d4ebff;}#sk-container-id-5 div.sk-serial::before {content: \"\";position: absolute;border-left: 1px solid gray;box-sizing: border-box;top: 0;bottom: 0;left: 50%;z-index: 0;}#sk-container-id-5 div.sk-serial {display: flex;flex-direction: column;align-items: center;background-color: white;padding-right: 0.2em;padding-left: 0.2em;position: relative;}#sk-container-id-5 div.sk-item {position: relative;z-index: 1;}#sk-container-id-5 div.sk-parallel {display: flex;align-items: stretch;justify-content: center;background-color: white;position: relative;}#sk-container-id-5 div.sk-item::before, #sk-container-id-5 div.sk-parallel-item::before {content: \"\";position: absolute;border-left: 1px solid gray;box-sizing: border-box;top: 0;bottom: 0;left: 50%;z-index: -1;}#sk-container-id-5 div.sk-parallel-item {display: flex;flex-direction: column;z-index: 1;position: relative;background-color: white;}#sk-container-id-5 div.sk-parallel-item:first-child::after {align-self: flex-end;width: 50%;}#sk-container-id-5 div.sk-parallel-item:last-child::after {align-self: flex-start;width: 50%;}#sk-container-id-5 div.sk-parallel-item:only-child::after {width: 0;}#sk-container-id-5 div.sk-dashed-wrapped {border: 1px dashed gray;margin: 0 0.4em 0.5em 0.4em;box-sizing: border-box;padding-bottom: 0.4em;background-color: white;}#sk-container-id-5 div.sk-label label {font-family: monospace;font-weight: bold;display: inline-block;line-height: 1.2em;}#sk-container-id-5 div.sk-label-container {text-align: center;}#sk-container-id-5 div.sk-container {/* jupyter's `normalize.less` sets `[hidden] { display: none; }` but bootstrap.min.css set `[hidden] { display: none !important; }` so we also need the `!important` here to be able to override the default hidden behavior on the sphinx rendered scikit-learn.org. See: https://github.com/scikit-learn/scikit-learn/issues/21755 */display: inline-block !important;position: relative;}#sk-container-id-5 div.sk-text-repr-fallback {display: none;}</style><div id=\"sk-container-id-5\" class=\"sk-top-container\"><div class=\"sk-text-repr-fallback\"><pre>DecisionTreeClassifier()</pre><b>In a Jupyter environment, please rerun this cell to show the HTML representation or trust the notebook. <br />On GitHub, the HTML representation is unable to render, please try loading this page with nbviewer.org.</b></div><div class=\"sk-container\" hidden><div class=\"sk-item\"><div class=\"sk-estimator sk-toggleable\"><input class=\"sk-toggleable__control sk-hidden--visually\" id=\"sk-estimator-id-5\" type=\"checkbox\" checked><label for=\"sk-estimator-id-5\" class=\"sk-toggleable__label sk-toggleable__label-arrow\">DecisionTreeClassifier</label><div class=\"sk-toggleable__content\"><pre>DecisionTreeClassifier()</pre></div></div></div></div></div>"
            ]
          },
          "metadata": {},
          "execution_count": 80
        }
      ]
    },
    {
      "cell_type": "code",
      "source": [
        "Y_Predict_Model_3=Model_3.predict(X_test)\n",
        "Y_Predict_Model_3"
      ],
      "metadata": {
        "colab": {
          "base_uri": "https://localhost:8080/"
        },
        "id": "uswvR4zmjMWw",
        "outputId": "62bf2c50-7ba9-44ea-ee59-5272a59ac607"
      },
      "execution_count": null,
      "outputs": [
        {
          "output_type": "execute_result",
          "data": {
            "text/plain": [
              "array([0, 0, 1, 1, 1, 1, 1, 1, 1, 1, 1, 1, 1, 1, 1, 1, 1, 1, 1, 0, 1, 1,\n",
              "       1, 1, 1, 1, 1, 1, 1, 1, 1, 0, 1, 1, 0, 1, 1, 0, 1, 1, 1, 1, 1, 1,\n",
              "       0, 1, 1, 1, 1, 0, 0, 0, 0, 1, 1, 1, 0, 1, 1, 1, 1, 0, 0, 1, 1, 1,\n",
              "       0, 1, 1, 1, 1, 1, 1, 1, 1, 1, 1, 1, 1, 1, 1, 1, 0, 0, 0, 0, 1, 0,\n",
              "       1, 1, 1, 0, 1, 0, 0, 1, 1, 1, 1, 1, 0, 0, 1, 1, 1, 0, 0, 1, 1, 1,\n",
              "       0, 1, 0, 0, 1, 0, 1, 1, 0, 1, 1, 0, 1, 1, 0, 1, 1, 1, 1, 0, 1, 0,\n",
              "       0, 1, 1, 1, 1, 1, 1, 1, 0, 1, 1, 1, 1, 0, 1, 1, 1, 1, 1, 1])"
            ]
          },
          "metadata": {},
          "execution_count": 81
        }
      ]
    },
    {
      "cell_type": "code",
      "source": [
        "Y_test"
      ],
      "metadata": {
        "colab": {
          "base_uri": "https://localhost:8080/"
        },
        "id": "ZMTSsji4jkOR",
        "outputId": "bbf35b28-02bd-4b56-f237-b8ec0126acfe"
      },
      "execution_count": null,
      "outputs": [
        {
          "output_type": "execute_result",
          "data": {
            "text/plain": [
              "array([1, 1, 1, 1, 1, 1, 1, 1, 1, 1, 1, 1, 1, 1, 0, 1, 1, 1, 0, 1, 1, 1,\n",
              "       1, 1, 1, 1, 1, 1, 1, 1, 1, 1, 1, 1, 0, 1, 1, 1, 0, 1, 1, 1, 1, 1,\n",
              "       0, 1, 0, 1, 1, 1, 0, 0, 0, 1, 1, 1, 1, 1, 1, 0, 0, 1, 0, 1, 1, 1,\n",
              "       0, 1, 1, 1, 0, 1, 1, 1, 1, 1, 1, 1, 1, 1, 1, 1, 0, 0, 0, 1, 1, 1,\n",
              "       0, 1, 1, 0, 0, 1, 1, 1, 1, 1, 1, 0, 0, 0, 1, 1, 1, 1, 1, 1, 1, 1,\n",
              "       1, 0, 1, 0, 1, 1, 1, 1, 0, 0, 1, 0, 0, 1, 0, 1, 1, 1, 1, 0, 1, 1,\n",
              "       1, 1, 1, 0, 1, 1, 1, 0, 1, 1, 1, 1, 1, 1, 1, 1, 1, 0, 1, 1])"
            ]
          },
          "metadata": {},
          "execution_count": 82
        }
      ]
    },
    {
      "cell_type": "code",
      "source": [
        "Accuracy_3=Model_3.score(X_test,Y_test)\n",
        "print(\"Decision Tree Model Accuracy:\",Accuracy_3)"
      ],
      "metadata": {
        "colab": {
          "base_uri": "https://localhost:8080/"
        },
        "id": "vK_GHLmjjwUw",
        "outputId": "c7d5cb16-c6cb-4cee-d94f-1a917b34275a"
      },
      "execution_count": null,
      "outputs": [
        {
          "output_type": "stream",
          "name": "stdout",
          "text": [
            "Decision Tree Model Accuracy: 0.756578947368421\n"
          ]
        }
      ]
    },
    {
      "cell_type": "code",
      "source": [
        "CM=confusion_matrix(Y_test,Y_Predict_Model_3)\n",
        "plt.figure(figsize=(6,4))\n",
        "fg=sn.heatmap(CM,annot=True,cmap='Blues')\n",
        "figure=fg.get_figure()\n",
        "figure.savefig('DTM.jpg',dpi=350)\n",
        "plt.xlabel(\"Predicted\")\n",
        "plt.ylabel(\"Actual\")\n",
        "plt.show()"
      ],
      "metadata": {
        "colab": {
          "base_uri": "https://localhost:8080/",
          "height": 388
        },
        "id": "R7gsZrKZj4uh",
        "outputId": "a6c15c60-db4d-4abe-dffc-a5110382f736"
      },
      "execution_count": null,
      "outputs": [
        {
          "output_type": "display_data",
          "data": {
            "text/plain": [
              "<Figure size 600x400 with 2 Axes>"
            ],
            "image/png": "[encoded data removed]"
          },
          "metadata": {}
        }
      ]
    },
    {
      "cell_type": "code",
      "source": [
        "print (classification_report(Y_test,Y_Predict_Model_3))\n",
        "\n",
        "print('Confusion matrix:')\n",
        "print(CM)"
      ],
      "metadata": {
        "colab": {
          "base_uri": "https://localhost:8080/"
        },
        "outputId": "eb84c520-ecdd-41c8-a867-8514bdda7bba",
        "id": "sUo_bJie_h3w"
      },
      "execution_count": null,
      "outputs": [
        {
          "output_type": "stream",
          "name": "stdout",
          "text": [
            "              precision    recall  f1-score   support\n",
            "\n",
            "           0       0.46      0.53      0.49        34\n",
            "           1       0.86      0.82      0.84       118\n",
            "\n",
            "    accuracy                           0.76       152\n",
            "   macro avg       0.66      0.68      0.67       152\n",
            "weighted avg       0.77      0.76      0.76       152\n",
            "\n",
            "Confusion matrix:\n",
            "[[18 16]\n",
            " [21 97]]\n"
          ]
        }
      ]
    },
    {
      "cell_type": "markdown",
      "source": [
        "Support Vector Machines"
      ],
      "metadata": {
        "id": "eLsxi6rRkS6W"
      }
    },
    {
      "cell_type": "code",
      "source": [
        "from sklearn.svm import SVC"
      ],
      "metadata": {
        "id": "cLVfqBxukXC0"
      },
      "execution_count": null,
      "outputs": []
    },
    {
      "cell_type": "code",
      "source": [
        "Model_4=SVC(C=8)"
      ],
      "metadata": {
        "id": "2NN18onVFrjM"
      },
      "execution_count": null,
      "outputs": []
    },
    {
      "cell_type": "code",
      "source": [
        "Model_4=SVC(C=8)\n",
        "Model_4.fit(X_train,Y_train)"
      ],
      "metadata": {
        "id": "rrlmWX1Skqp4",
        "colab": {
          "base_uri": "https://localhost:8080/",
          "height": 75
        },
        "outputId": "a8f41629-5359-4ccb-d423-c2f289cf6151"
      },
      "execution_count": null,
      "outputs": [
        {
          "output_type": "execute_result",
          "data": {
            "text/plain": [
              "SVC(C=8)"
            ],
            "text/html": [
              "<style>#sk-container-id-50 {color: black;background-color: white;}#sk-container-id-50 pre{padding: 0;}#sk-container-id-50 div.sk-toggleable {background-color: white;}#sk-container-id-50 label.sk-toggleable__label {cursor: pointer;display: block;width: 100%;margin-bottom: 0;padding: 0.3em;box-sizing: border-box;text-align: center;}#sk-container-id-50 label.sk-toggleable__label-arrow:before {content: \"▸\";float: left;margin-right: 0.25em;color: #696969;}#sk-container-id-50 label.sk-toggleable__label-arrow:hover:before {color: black;}#sk-container-id-50 div.sk-estimator:hover label.sk-toggleable__label-arrow:before {color: black;}#sk-container-id-50 div.sk-toggleable__content {max-height: 0;max-width: 0;overflow: hidden;text-align: left;background-color: #f0f8ff;}#sk-container-id-50 div.sk-toggleable__content pre {margin: 0.2em;color: black;border-radius: 0.25em;background-color: #f0f8ff;}#sk-container-id-50 input.sk-toggleable__control:checked~div.sk-toggleable__content {max-height: 200px;max-width: 100%;overflow: auto;}#sk-container-id-50 input.sk-toggleable__control:checked~label.sk-toggleable__label-arrow:before {content: \"▾\";}#sk-container-id-50 div.sk-estimator input.sk-toggleable__control:checked~label.sk-toggleable__label {background-color: #d4ebff;}#sk-container-id-50 div.sk-label input.sk-toggleable__control:checked~label.sk-toggleable__label {background-color: #d4ebff;}#sk-container-id-50 input.sk-hidden--visually {border: 0;clip: rect(1px 1px 1px 1px);clip: rect(1px, 1px, 1px, 1px);height: 1px;margin: -1px;overflow: hidden;padding: 0;position: absolute;width: 1px;}#sk-container-id-50 div.sk-estimator {font-family: monospace;background-color: #f0f8ff;border: 1px dotted black;border-radius: 0.25em;box-sizing: border-box;margin-bottom: 0.5em;}#sk-container-id-50 div.sk-estimator:hover {background-color: #d4ebff;}#sk-container-id-50 div.sk-parallel-item::after {content: \"\";width: 100%;border-bottom: 1px solid gray;flex-grow: 1;}#sk-container-id-50 div.sk-label:hover label.sk-toggleable__label {background-color: #d4ebff;}#sk-container-id-50 div.sk-serial::before {content: \"\";position: absolute;border-left: 1px solid gray;box-sizing: border-box;top: 0;bottom: 0;left: 50%;z-index: 0;}#sk-container-id-50 div.sk-serial {display: flex;flex-direction: column;align-items: center;background-color: white;padding-right: 0.2em;padding-left: 0.2em;position: relative;}#sk-container-id-50 div.sk-item {position: relative;z-index: 1;}#sk-container-id-50 div.sk-parallel {display: flex;align-items: stretch;justify-content: center;background-color: white;position: relative;}#sk-container-id-50 div.sk-item::before, #sk-container-id-50 div.sk-parallel-item::before {content: \"\";position: absolute;border-left: 1px solid gray;box-sizing: border-box;top: 0;bottom: 0;left: 50%;z-index: -1;}#sk-container-id-50 div.sk-parallel-item {display: flex;flex-direction: column;z-index: 1;position: relative;background-color: white;}#sk-container-id-50 div.sk-parallel-item:first-child::after {align-self: flex-end;width: 50%;}#sk-container-id-50 div.sk-parallel-item:last-child::after {align-self: flex-start;width: 50%;}#sk-container-id-50 div.sk-parallel-item:only-child::after {width: 0;}#sk-container-id-50 div.sk-dashed-wrapped {border: 1px dashed gray;margin: 0 0.4em 0.5em 0.4em;box-sizing: border-box;padding-bottom: 0.4em;background-color: white;}#sk-container-id-50 div.sk-label label {font-family: monospace;font-weight: bold;display: inline-block;line-height: 1.2em;}#sk-container-id-50 div.sk-label-container {text-align: center;}#sk-container-id-50 div.sk-container {/* jupyter's `normalize.less` sets `[hidden] { display: none; }` but bootstrap.min.css set `[hidden] { display: none !important; }` so we also need the `!important` here to be able to override the default hidden behavior on the sphinx rendered scikit-learn.org. See: https://github.com/scikit-learn/scikit-learn/issues/21755 */display: inline-block !important;position: relative;}#sk-container-id-50 div.sk-text-repr-fallback {display: none;}</style><div id=\"sk-container-id-50\" class=\"sk-top-container\"><div class=\"sk-text-repr-fallback\"><pre>SVC(C=8)</pre><b>In a Jupyter environment, please rerun this cell to show the HTML representation or trust the notebook. <br />On GitHub, the HTML representation is unable to render, please try loading this page with nbviewer.org.</b></div><div class=\"sk-container\" hidden><div class=\"sk-item\"><div class=\"sk-estimator sk-toggleable\"><input class=\"sk-toggleable__control sk-hidden--visually\" id=\"sk-estimator-id-50\" type=\"checkbox\" checked><label for=\"sk-estimator-id-50\" class=\"sk-toggleable__label sk-toggleable__label-arrow\">SVC</label><div class=\"sk-toggleable__content\"><pre>SVC(C=8)</pre></div></div></div></div></div>"
            ]
          },
          "metadata": {},
          "execution_count": 709
        }
      ]
    },
    {
      "cell_type": "code",
      "source": [
        "Accuracy_4=Model_4.score(X_test,Y_test)\n",
        "print(\"SVM Accuracy:\",Accuracy_4)"
      ],
      "metadata": {
        "colab": {
          "base_uri": "https://localhost:8080/"
        },
        "id": "6whiBi2YlTwX",
        "outputId": "72296e8c-f1d5-48f1-b358-76b3e1ef8ffe"
      },
      "execution_count": null,
      "outputs": [
        {
          "output_type": "stream",
          "name": "stdout",
          "text": [
            "SVM Accuracy: 0.8947368421052632\n"
          ]
        }
      ]
    },
    {
      "cell_type": "code",
      "source": [
        "Y_Predict_Model_4=Model_4.predict(X_test)\n",
        "Y_Predict_Model_4"
      ],
      "metadata": {
        "colab": {
          "base_uri": "https://localhost:8080/"
        },
        "id": "W8MdzAfLlnOI",
        "outputId": "cae92743-5378-4658-d3a3-715756a5c2ee"
      },
      "execution_count": null,
      "outputs": [
        {
          "output_type": "execute_result",
          "data": {
            "text/plain": [
              "array([1, 1, 1, 1, 1, 1, 1, 1, 1, 1, 1, 1, 1, 1, 1, 1, 1, 1, 0, 1, 1, 1,\n",
              "       1, 1, 1, 1, 1, 1, 1, 1, 1, 0, 1, 1, 1, 1, 1, 1, 1, 1, 1, 1, 1, 1,\n",
              "       0, 1, 1, 1, 1, 1, 0, 0, 0, 1, 1, 1, 1, 1, 1, 0, 0, 1, 0, 1, 1, 1,\n",
              "       0, 1, 1, 1, 1, 1, 1, 1, 1, 1, 1, 1, 1, 1, 1, 1, 0, 0, 0, 1, 1, 1,\n",
              "       0, 1, 1, 1, 1, 1, 1, 1, 1, 1, 1, 0, 1, 1, 1, 1, 1, 1, 1, 1, 1, 1,\n",
              "       1, 1, 1, 1, 1, 1, 1, 1, 0, 1, 0, 0, 0, 1, 0, 1, 1, 1, 1, 0, 1, 0,\n",
              "       1, 1, 1, 1, 1, 1, 1, 0, 1, 1, 1, 1, 1, 1, 1, 1, 1, 0, 1, 1])"
            ]
          },
          "metadata": {},
          "execution_count": 716
        }
      ]
    },
    {
      "cell_type": "code",
      "source": [
        "CM=confusion_matrix(Y_test,Y_Predict_Model_4)\n",
        "plt.figure(figsize=(6,4))\n",
        "fg=sn.heatmap(CM,annot=True,cmap='Blues')\n",
        "figure=fg.get_figure()\n",
        "figure.savefig('SVM.jpg',dpi=350)\n",
        "plt.xlabel(\"Predicted\")\n",
        "plt.ylabel(\"Actual\")\n",
        "plt.show()"
      ],
      "metadata": {
        "colab": {
          "base_uri": "https://localhost:8080/",
          "height": 388
        },
        "id": "co_Cb6izlq3b",
        "outputId": "b1a3cb64-cd18-4482-fe04-e0075f554a2c"
      },
      "execution_count": null,
      "outputs": [
        {
          "output_type": "display_data",
          "data": {
            "text/plain": [
              "<Figure size 600x400 with 2 Axes>"
            ],
            "image/png": "[encoded data removed]"
          },
          "metadata": {}
        }
      ]
    },
    {
      "cell_type": "code",
      "source": [
        "print (classification_report(Y_test,Y_Predict_Model_4))\n",
        "\n",
        "print('Confusion matrix:')\n",
        "print(CM)"
      ],
      "metadata": {
        "colab": {
          "base_uri": "https://localhost:8080/"
        },
        "outputId": "45ec2278-4760-4a10-e6bd-14835d35bafd",
        "id": "Q9utNp5z_ydT"
      },
      "execution_count": null,
      "outputs": [
        {
          "output_type": "stream",
          "name": "stdout",
          "text": [
            "              precision    recall  f1-score   support\n",
            "\n",
            "           0       0.88      0.62      0.72        34\n",
            "           1       0.90      0.97      0.93       118\n",
            "\n",
            "    accuracy                           0.89       152\n",
            "   macro avg       0.89      0.80      0.83       152\n",
            "weighted avg       0.89      0.89      0.89       152\n",
            "\n",
            "Confusion matrix:\n",
            "[[ 21  13]\n",
            " [  3 115]]\n"
          ]
        }
      ]
    },
    {
      "cell_type": "markdown",
      "source": [
        "Random Forest Classifier"
      ],
      "metadata": {
        "id": "WA33NFZEl7Ql"
      }
    },
    {
      "cell_type": "code",
      "source": [
        "from sklearn.ensemble import RandomForestClassifier\n",
        "Model_5=RandomForestClassifier()"
      ],
      "metadata": {
        "id": "mV-y8fGel6-h"
      },
      "execution_count": null,
      "outputs": []
    },
    {
      "cell_type": "code",
      "source": [
        "Model_5.fit(x_train,y_train)"
      ],
      "metadata": {
        "colab": {
          "base_uri": "https://localhost:8080/",
          "height": 75
        },
        "id": "5qkFnk4Wn0to",
        "outputId": "cb91d8f0-c97b-46cb-b994-6598b5444ba3"
      },
      "execution_count": null,
      "outputs": [
        {
          "output_type": "execute_result",
          "data": {
            "text/plain": [
              "RandomForestClassifier()"
            ],
            "text/html": [
              "<style>#sk-container-id-43 {color: black;background-color: white;}#sk-container-id-43 pre{padding: 0;}#sk-container-id-43 div.sk-toggleable {background-color: white;}#sk-container-id-43 label.sk-toggleable__label {cursor: pointer;display: block;width: 100%;margin-bottom: 0;padding: 0.3em;box-sizing: border-box;text-align: center;}#sk-container-id-43 label.sk-toggleable__label-arrow:before {content: \"▸\";float: left;margin-right: 0.25em;color: #696969;}#sk-container-id-43 label.sk-toggleable__label-arrow:hover:before {color: black;}#sk-container-id-43 div.sk-estimator:hover label.sk-toggleable__label-arrow:before {color: black;}#sk-container-id-43 div.sk-toggleable__content {max-height: 0;max-width: 0;overflow: hidden;text-align: left;background-color: #f0f8ff;}#sk-container-id-43 div.sk-toggleable__content pre {margin: 0.2em;color: black;border-radius: 0.25em;background-color: #f0f8ff;}#sk-container-id-43 input.sk-toggleable__control:checked~div.sk-toggleable__content {max-height: 200px;max-width: 100%;overflow: auto;}#sk-container-id-43 input.sk-toggleable__control:checked~label.sk-toggleable__label-arrow:before {content: \"▾\";}#sk-container-id-43 div.sk-estimator input.sk-toggleable__control:checked~label.sk-toggleable__label {background-color: #d4ebff;}#sk-container-id-43 div.sk-label input.sk-toggleable__control:checked~label.sk-toggleable__label {background-color: #d4ebff;}#sk-container-id-43 input.sk-hidden--visually {border: 0;clip: rect(1px 1px 1px 1px);clip: rect(1px, 1px, 1px, 1px);height: 1px;margin: -1px;overflow: hidden;padding: 0;position: absolute;width: 1px;}#sk-container-id-43 div.sk-estimator {font-family: monospace;background-color: #f0f8ff;border: 1px dotted black;border-radius: 0.25em;box-sizing: border-box;margin-bottom: 0.5em;}#sk-container-id-43 div.sk-estimator:hover {background-color: #d4ebff;}#sk-container-id-43 div.sk-parallel-item::after {content: \"\";width: 100%;border-bottom: 1px solid gray;flex-grow: 1;}#sk-container-id-43 div.sk-label:hover label.sk-toggleable__label {background-color: #d4ebff;}#sk-container-id-43 div.sk-serial::before {content: \"\";position: absolute;border-left: 1px solid gray;box-sizing: border-box;top: 0;bottom: 0;left: 50%;z-index: 0;}#sk-container-id-43 div.sk-serial {display: flex;flex-direction: column;align-items: center;background-color: white;padding-right: 0.2em;padding-left: 0.2em;position: relative;}#sk-container-id-43 div.sk-item {position: relative;z-index: 1;}#sk-container-id-43 div.sk-parallel {display: flex;align-items: stretch;justify-content: center;background-color: white;position: relative;}#sk-container-id-43 div.sk-item::before, #sk-container-id-43 div.sk-parallel-item::before {content: \"\";position: absolute;border-left: 1px solid gray;box-sizing: border-box;top: 0;bottom: 0;left: 50%;z-index: -1;}#sk-container-id-43 div.sk-parallel-item {display: flex;flex-direction: column;z-index: 1;position: relative;background-color: white;}#sk-container-id-43 div.sk-parallel-item:first-child::after {align-self: flex-end;width: 50%;}#sk-container-id-43 div.sk-parallel-item:last-child::after {align-self: flex-start;width: 50%;}#sk-container-id-43 div.sk-parallel-item:only-child::after {width: 0;}#sk-container-id-43 div.sk-dashed-wrapped {border: 1px dashed gray;margin: 0 0.4em 0.5em 0.4em;box-sizing: border-box;padding-bottom: 0.4em;background-color: white;}#sk-container-id-43 div.sk-label label {font-family: monospace;font-weight: bold;display: inline-block;line-height: 1.2em;}#sk-container-id-43 div.sk-label-container {text-align: center;}#sk-container-id-43 div.sk-container {/* jupyter's `normalize.less` sets `[hidden] { display: none; }` but bootstrap.min.css set `[hidden] { display: none !important; }` so we also need the `!important` here to be able to override the default hidden behavior on the sphinx rendered scikit-learn.org. See: https://github.com/scikit-learn/scikit-learn/issues/21755 */display: inline-block !important;position: relative;}#sk-container-id-43 div.sk-text-repr-fallback {display: none;}</style><div id=\"sk-container-id-43\" class=\"sk-top-container\"><div class=\"sk-text-repr-fallback\"><pre>RandomForestClassifier()</pre><b>In a Jupyter environment, please rerun this cell to show the HTML representation or trust the notebook. <br />On GitHub, the HTML representation is unable to render, please try loading this page with nbviewer.org.</b></div><div class=\"sk-container\" hidden><div class=\"sk-item\"><div class=\"sk-estimator sk-toggleable\"><input class=\"sk-toggleable__control sk-hidden--visually\" id=\"sk-estimator-id-43\" type=\"checkbox\" checked><label for=\"sk-estimator-id-43\" class=\"sk-toggleable__label sk-toggleable__label-arrow\">RandomForestClassifier</label><div class=\"sk-toggleable__content\"><pre>RandomForestClassifier()</pre></div></div></div></div></div>"
            ]
          },
          "metadata": {},
          "execution_count": 647
        }
      ]
    },
    {
      "cell_type": "code",
      "source": [
        "Accuracy_5=Model_5.score(x_test,y_test)\n",
        "print(\"Random Forest Classifier Accuracy:\",Accuracy_5)"
      ],
      "metadata": {
        "colab": {
          "base_uri": "https://localhost:8080/"
        },
        "id": "zbnpelz2oFtm",
        "outputId": "f778f11f-2813-44ad-844e-e12c42a0b353"
      },
      "execution_count": null,
      "outputs": [
        {
          "output_type": "stream",
          "name": "stdout",
          "text": [
            "Random Forest Classifier Accuracy: 0.8722466960352423\n"
          ]
        }
      ]
    },
    {
      "cell_type": "code",
      "source": [
        "Y_Predict_Model_5=Model_5.predict(x_test)\n",
        "Y_Predict_Model_5"
      ],
      "metadata": {
        "colab": {
          "base_uri": "https://localhost:8080/"
        },
        "id": "LBZwCE9So4nS",
        "outputId": "1899d212-0145-40b2-b138-1c860f3d5765"
      },
      "execution_count": null,
      "outputs": [
        {
          "output_type": "execute_result",
          "data": {
            "text/plain": [
              "array([0, 1, 1, 0, 0, 1, 1, 1, 1, 1, 1, 0, 1, 1, 1, 1, 1, 1, 1, 0, 0, 1,\n",
              "       1, 1, 1, 1, 1, 1, 1, 1, 1, 1, 1, 1, 1, 1, 1, 1, 1, 0, 1, 1, 1, 1,\n",
              "       1, 1, 1, 1, 1, 1, 1, 1, 1, 1, 1, 1, 1, 1, 1, 1, 1, 1, 1, 0, 1, 0,\n",
              "       1, 1, 1, 1, 1, 0, 1, 1, 1, 1, 1, 1, 1, 1, 1, 0, 1, 1, 1, 1, 0, 1,\n",
              "       1, 1, 1, 0, 0, 1, 0, 1, 0, 1, 1, 0, 1, 1, 1, 1, 1, 1, 1, 1, 1, 1,\n",
              "       1, 1, 1, 1, 1, 1, 0, 1, 1, 0, 0, 1, 1, 1, 1, 1, 0, 1, 1, 1, 0, 1,\n",
              "       0, 1, 1, 1, 1, 1, 1, 0, 0, 1, 1, 1, 1, 1, 1, 1, 1, 1, 1, 0, 1, 1,\n",
              "       1, 1, 1, 1, 0, 1, 0, 1, 0, 1, 1, 1, 0, 1, 1, 1, 1, 1, 1, 0, 1, 1,\n",
              "       0, 1, 1, 1, 1, 1, 1, 1, 0, 1, 1, 1, 1, 0, 1, 1, 1, 1, 0, 1, 1, 1,\n",
              "       1, 1, 1, 1, 1, 1, 1, 0, 0, 1, 0, 1, 1, 1, 1, 1, 1, 0, 1, 0, 1, 1,\n",
              "       1, 1, 0, 1, 0, 1, 1])"
            ]
          },
          "metadata": {},
          "execution_count": 654
        }
      ]
    },
    {
      "cell_type": "code",
      "source": [
        "y_test"
      ],
      "metadata": {
        "colab": {
          "base_uri": "https://localhost:8080/"
        },
        "id": "oECcSP_xo_x2",
        "outputId": "c254a28e-f273-4b77-927a-a0ac8e416b64"
      },
      "execution_count": null,
      "outputs": [
        {
          "output_type": "execute_result",
          "data": {
            "text/plain": [
              "array([0, 1, 1, 0, 1, 0, 1, 1, 1, 1, 1, 0, 1, 1, 1, 0, 1, 1, 1, 0, 0, 1,\n",
              "       1, 1, 1, 1, 1, 1, 1, 1, 1, 1, 1, 1, 1, 1, 1, 1, 1, 1, 1, 1, 1, 1,\n",
              "       1, 1, 1, 1, 0, 0, 0, 1, 1, 1, 1, 1, 1, 1, 1, 1, 1, 0, 1, 0, 1, 0,\n",
              "       1, 1, 1, 1, 1, 0, 1, 0, 1, 1, 1, 1, 1, 1, 1, 0, 0, 1, 1, 1, 0, 1,\n",
              "       1, 1, 1, 0, 0, 1, 0, 1, 0, 1, 1, 0, 0, 0, 1, 0, 1, 1, 1, 1, 1, 1,\n",
              "       1, 1, 1, 0, 1, 1, 0, 1, 1, 0, 0, 1, 1, 1, 1, 0, 1, 1, 0, 1, 0, 1,\n",
              "       0, 1, 1, 1, 1, 1, 1, 1, 0, 0, 1, 1, 1, 1, 1, 1, 0, 1, 1, 0, 1, 1,\n",
              "       1, 1, 0, 1, 0, 1, 0, 0, 0, 1, 1, 0, 0, 1, 0, 0, 1, 1, 1, 0, 1, 1,\n",
              "       0, 1, 1, 1, 1, 1, 0, 1, 0, 1, 1, 1, 1, 0, 1, 1, 1, 1, 0, 1, 0, 1,\n",
              "       1, 1, 0, 1, 1, 1, 1, 1, 0, 1, 0, 1, 1, 1, 1, 1, 1, 0, 1, 0, 1, 1,\n",
              "       1, 1, 0, 1, 0, 1, 1])"
            ]
          },
          "metadata": {},
          "execution_count": 655
        }
      ]
    },
    {
      "cell_type": "code",
      "source": [
        "CM=confusion_matrix(y_test,Y_Predict_Model_5)\n",
        "plt.figure(figsize=(6,4))\n",
        "fg=sn.heatmap(CM,annot=True,cmap='Blues')\n",
        "figure=fg.get_figure()\n",
        "figure.savefig('RanFor.jpg',dpi=350)\n",
        "plt.xlabel(\"Predicted\")\n",
        "plt.ylabel(\"Actual\")\n",
        "plt.show()"
      ],
      "metadata": {
        "colab": {
          "base_uri": "https://localhost:8080/",
          "height": 391
        },
        "id": "PI6l5bVIpEUq",
        "outputId": "b5fae310-fa0e-4fe3-9d8c-7e5cb405d14d"
      },
      "execution_count": null,
      "outputs": [
        {
          "output_type": "display_data",
          "data": {
            "text/plain": [
              "<Figure size 600x400 with 2 Axes>"
            ],
            "image/png": "[encoded data removed]"
          },
          "metadata": {}
        }
      ]
    },
    {
      "cell_type": "code",
      "source": [
        "print (classification_report(y_test,Y_Predict_Model_5))\n",
        "\n",
        "print('Confusion matrix:')\n",
        "print(CM)"
      ],
      "metadata": {
        "colab": {
          "base_uri": "https://localhost:8080/"
        },
        "outputId": "936b8308-78cf-46de-894c-c229479d95ca",
        "id": "Nahe6xip9N-B"
      },
      "execution_count": null,
      "outputs": [
        {
          "output_type": "stream",
          "name": "stdout",
          "text": [
            "              precision    recall  f1-score   support\n",
            "\n",
            "           0       0.88      0.61      0.72        61\n",
            "           1       0.87      0.97      0.92       166\n",
            "\n",
            "    accuracy                           0.87       227\n",
            "   macro avg       0.88      0.79      0.82       227\n",
            "weighted avg       0.87      0.87      0.86       227\n",
            "\n",
            "Confusion matrix:\n",
            "[[ 37  24]\n",
            " [  5 161]]\n"
          ]
        }
      ]
    },
    {
      "cell_type": "markdown",
      "source": [
        "Using PCA On Different Classifier"
      ],
      "metadata": {
        "id": "dChVP_RM3YmZ"
      }
    },
    {
      "cell_type": "code",
      "source": [
        "Model_5.fit(x_train_new,y_train)\n",
        "y_pred_new =Model_5.predict(x_test_new)"
      ],
      "metadata": {
        "id": "5NCxYbDf3kVe"
      },
      "execution_count": null,
      "outputs": []
    },
    {
      "cell_type": "code",
      "source": [
        "from sklearn.metrics import accuracy_score"
      ],
      "metadata": {
        "id": "um2EL7Jl9cWj"
      },
      "execution_count": null,
      "outputs": []
    },
    {
      "cell_type": "code",
      "source": [
        "accuracy_score(y_test, y_pred_new)*100"
      ],
      "metadata": {
        "colab": {
          "base_uri": "https://localhost:8080/"
        },
        "id": "dVIwCUnP9u0Y",
        "outputId": "6863b89f-6078-41de-b994-1d9c094fe88e"
      },
      "execution_count": null,
      "outputs": [
        {
          "output_type": "execute_result",
          "data": {
            "text/plain": [
              "79.29515418502203"
            ]
          },
          "metadata": {},
          "execution_count": 646
        }
      ]
    },
    {
      "cell_type": "markdown",
      "source": [
        "PCA_XGBooster"
      ],
      "metadata": {
        "id": "uz0H8-0Up0HW"
      }
    },
    {
      "cell_type": "code",
      "source": [
        "from xgboost import XGBClassifier"
      ],
      "metadata": {
        "id": "-a9Z-IYlqoKi"
      },
      "execution_count": null,
      "outputs": []
    },
    {
      "cell_type": "code",
      "source": [
        "Model_6=XGBClassifier()"
      ],
      "metadata": {
        "id": "TjtsOLQ2qy8e"
      },
      "execution_count": null,
      "outputs": []
    },
    {
      "cell_type": "code",
      "source": [
        "Model_6.fit(x_train,y_train)"
      ],
      "metadata": {
        "colab": {
          "base_uri": "https://localhost:8080/",
          "height": 248
        },
        "id": "GQuKcXYHr1cf",
        "outputId": "3af53d7b-c220-4f4c-d51f-196777caaf41"
      },
      "execution_count": null,
      "outputs": [
        {
          "output_type": "execute_result",
          "data": {
            "text/plain": [
              "XGBClassifier(base_score=None, booster=None, callbacks=None,\n",
              "              colsample_bylevel=None, colsample_bynode=None,\n",
              "              colsample_bytree=None, early_stopping_rounds=None,\n",
              "              enable_categorical=False, eval_metric=None, feature_types=None,\n",
              "              gamma=None, gpu_id=None, grow_policy=None, importance_type=None,\n",
              "              interaction_constraints=None, learning_rate=None, max_bin=None,\n",
              "              max_cat_threshold=None, max_cat_to_onehot=None,\n",
              "              max_delta_step=None, max_depth=None, max_leaves=None,\n",
              "              min_child_weight=None, missing=nan, monotone_constraints=None,\n",
              "              n_estimators=100, n_jobs=None, num_parallel_tree=None,\n",
              "              predictor=None, random_state=None, ...)"
            ],
            "text/html": [
              "<style>#sk-container-id-8 {color: black;background-color: white;}#sk-container-id-8 pre{padding: 0;}#sk-container-id-8 div.sk-toggleable {background-color: white;}#sk-container-id-8 label.sk-toggleable__label {cursor: pointer;display: block;width: 100%;margin-bottom: 0;padding: 0.3em;box-sizing: border-box;text-align: center;}#sk-container-id-8 label.sk-toggleable__label-arrow:before {content: \"▸\";float: left;margin-right: 0.25em;color: #696969;}#sk-container-id-8 label.sk-toggleable__label-arrow:hover:before {color: black;}#sk-container-id-8 div.sk-estimator:hover label.sk-toggleable__label-arrow:before {color: black;}#sk-container-id-8 div.sk-toggleable__content {max-height: 0;max-width: 0;overflow: hidden;text-align: left;background-color: #f0f8ff;}#sk-container-id-8 div.sk-toggleable__content pre {margin: 0.2em;color: black;border-radius: 0.25em;background-color: #f0f8ff;}#sk-container-id-8 input.sk-toggleable__control:checked~div.sk-toggleable__content {max-height: 200px;max-width: 100%;overflow: auto;}#sk-container-id-8 input.sk-toggleable__control:checked~label.sk-toggleable__label-arrow:before {content: \"▾\";}#sk-container-id-8 div.sk-estimator input.sk-toggleable__control:checked~label.sk-toggleable__label {background-color: #d4ebff;}#sk-container-id-8 div.sk-label input.sk-toggleable__control:checked~label.sk-toggleable__label {background-color: #d4ebff;}#sk-container-id-8 input.sk-hidden--visually {border: 0;clip: rect(1px 1px 1px 1px);clip: rect(1px, 1px, 1px, 1px);height: 1px;margin: -1px;overflow: hidden;padding: 0;position: absolute;width: 1px;}#sk-container-id-8 div.sk-estimator {font-family: monospace;background-color: #f0f8ff;border: 1px dotted black;border-radius: 0.25em;box-sizing: border-box;margin-bottom: 0.5em;}#sk-container-id-8 div.sk-estimator:hover {background-color: #d4ebff;}#sk-container-id-8 div.sk-parallel-item::after {content: \"\";width: 100%;border-bottom: 1px solid gray;flex-grow: 1;}#sk-container-id-8 div.sk-label:hover label.sk-toggleable__label {background-color: #d4ebff;}#sk-container-id-8 div.sk-serial::before {content: \"\";position: absolute;border-left: 1px solid gray;box-sizing: border-box;top: 0;bottom: 0;left: 50%;z-index: 0;}#sk-container-id-8 div.sk-serial {display: flex;flex-direction: column;align-items: center;background-color: white;padding-right: 0.2em;padding-left: 0.2em;position: relative;}#sk-container-id-8 div.sk-item {position: relative;z-index: 1;}#sk-container-id-8 div.sk-parallel {display: flex;align-items: stretch;justify-content: center;background-color: white;position: relative;}#sk-container-id-8 div.sk-item::before, #sk-container-id-8 div.sk-parallel-item::before {content: \"\";position: absolute;border-left: 1px solid gray;box-sizing: border-box;top: 0;bottom: 0;left: 50%;z-index: -1;}#sk-container-id-8 div.sk-parallel-item {display: flex;flex-direction: column;z-index: 1;position: relative;background-color: white;}#sk-container-id-8 div.sk-parallel-item:first-child::after {align-self: flex-end;width: 50%;}#sk-container-id-8 div.sk-parallel-item:last-child::after {align-self: flex-start;width: 50%;}#sk-container-id-8 div.sk-parallel-item:only-child::after {width: 0;}#sk-container-id-8 div.sk-dashed-wrapped {border: 1px dashed gray;margin: 0 0.4em 0.5em 0.4em;box-sizing: border-box;padding-bottom: 0.4em;background-color: white;}#sk-container-id-8 div.sk-label label {font-family: monospace;font-weight: bold;display: inline-block;line-height: 1.2em;}#sk-container-id-8 div.sk-label-container {text-align: center;}#sk-container-id-8 div.sk-container {/* jupyter's `normalize.less` sets `[hidden] { display: none; }` but bootstrap.min.css set `[hidden] { display: none !important; }` so we also need the `!important` here to be able to override the default hidden behavior on the sphinx rendered scikit-learn.org. See: https://github.com/scikit-learn/scikit-learn/issues/21755 */display: inline-block !important;position: relative;}#sk-container-id-8 div.sk-text-repr-fallback {display: none;}</style><div id=\"sk-container-id-8\" class=\"sk-top-container\"><div class=\"sk-text-repr-fallback\"><pre>XGBClassifier(base_score=None, booster=None, callbacks=None,\n",
              "              colsample_bylevel=None, colsample_bynode=None,\n",
              "              colsample_bytree=None, early_stopping_rounds=None,\n",
              "              enable_categorical=False, eval_metric=None, feature_types=None,\n",
              "              gamma=None, gpu_id=None, grow_policy=None, importance_type=None,\n",
              "              interaction_constraints=None, learning_rate=None, max_bin=None,\n",
              "              max_cat_threshold=None, max_cat_to_onehot=None,\n",
              "              max_delta_step=None, max_depth=None, max_leaves=None,\n",
              "              min_child_weight=None, missing=nan, monotone_constraints=None,\n",
              "              n_estimators=100, n_jobs=None, num_parallel_tree=None,\n",
              "              predictor=None, random_state=None, ...)</pre><b>In a Jupyter environment, please rerun this cell to show the HTML representation or trust the notebook. <br />On GitHub, the HTML representation is unable to render, please try loading this page with nbviewer.org.</b></div><div class=\"sk-container\" hidden><div class=\"sk-item\"><div class=\"sk-estimator sk-toggleable\"><input class=\"sk-toggleable__control sk-hidden--visually\" id=\"sk-estimator-id-8\" type=\"checkbox\" checked><label for=\"sk-estimator-id-8\" class=\"sk-toggleable__label sk-toggleable__label-arrow\">XGBClassifier</label><div class=\"sk-toggleable__content\"><pre>XGBClassifier(base_score=None, booster=None, callbacks=None,\n",
              "              colsample_bylevel=None, colsample_bynode=None,\n",
              "              colsample_bytree=None, early_stopping_rounds=None,\n",
              "              enable_categorical=False, eval_metric=None, feature_types=None,\n",
              "              gamma=None, gpu_id=None, grow_policy=None, importance_type=None,\n",
              "              interaction_constraints=None, learning_rate=None, max_bin=None,\n",
              "              max_cat_threshold=None, max_cat_to_onehot=None,\n",
              "              max_delta_step=None, max_depth=None, max_leaves=None,\n",
              "              min_child_weight=None, missing=nan, monotone_constraints=None,\n",
              "              n_estimators=100, n_jobs=None, num_parallel_tree=None,\n",
              "              predictor=None, random_state=None, ...)</pre></div></div></div></div></div>"
            ]
          },
          "metadata": {},
          "execution_count": 102
        }
      ]
    },
    {
      "cell_type": "code",
      "source": [
        "Accuracy_6=Model_6.score(X_test,Y_test)\n",
        "print(\"xgb Accuracy:\",Accuracy_6)"
      ],
      "metadata": {
        "colab": {
          "base_uri": "https://localhost:8080/"
        },
        "id": "YBcFYUu5sMl3",
        "outputId": "551725f4-87c0-4af2-af84-4e097b7d7a08"
      },
      "execution_count": null,
      "outputs": [
        {
          "output_type": "stream",
          "name": "stdout",
          "text": [
            "xgb Accuracy: 0.9407894736842105\n"
          ]
        }
      ]
    },
    {
      "cell_type": "code",
      "source": [
        "Y_Predict_Model_6=Model_6.predict(X_test)\n",
        "Y_Predict_Model_6"
      ],
      "metadata": {
        "colab": {
          "base_uri": "https://localhost:8080/"
        },
        "id": "GI-JHmFnsVCY",
        "outputId": "1bef03a9-fe60-4ce3-d7f1-15f471a69607"
      },
      "execution_count": null,
      "outputs": [
        {
          "output_type": "execute_result",
          "data": {
            "text/plain": [
              "array([1, 1, 1, 1, 1, 1, 1, 1, 1, 1, 1, 1, 1, 1, 0, 1, 1, 1, 1, 1, 1, 1,\n",
              "       1, 1, 1, 1, 1, 1, 1, 1, 1, 1, 1, 1, 0, 1, 1, 1, 0, 1, 1, 1, 1, 1,\n",
              "       0, 1, 1, 1, 1, 1, 0, 0, 1, 1, 1, 1, 1, 1, 1, 0, 1, 1, 0, 1, 1, 1,\n",
              "       0, 1, 1, 1, 1, 1, 1, 1, 1, 1, 1, 0, 1, 1, 1, 1, 0, 0, 0, 1, 1, 1,\n",
              "       0, 1, 1, 0, 0, 1, 1, 1, 1, 1, 1, 1, 0, 0, 1, 1, 1, 1, 1, 1, 1, 1,\n",
              "       1, 0, 1, 0, 1, 1, 1, 1, 0, 0, 1, 0, 0, 1, 1, 1, 1, 1, 1, 0, 1, 1,\n",
              "       1, 1, 1, 0, 1, 1, 1, 0, 1, 1, 1, 1, 0, 1, 1, 1, 1, 0, 1, 1])"
            ]
          },
          "metadata": {},
          "execution_count": 104
        }
      ]
    },
    {
      "cell_type": "code",
      "source": [
        "Y_test"
      ],
      "metadata": {
        "colab": {
          "base_uri": "https://localhost:8080/"
        },
        "id": "1SEJArA2saZ3",
        "outputId": "587fdccb-67b8-4f27-b497-8e73bcf5d07d"
      },
      "execution_count": null,
      "outputs": [
        {
          "output_type": "execute_result",
          "data": {
            "text/plain": [
              "array([1, 1, 1, 1, 1, 1, 1, 1, 1, 1, 1, 1, 1, 1, 0, 1, 1, 1, 0, 1, 1, 1,\n",
              "       1, 1, 1, 1, 1, 1, 1, 1, 1, 1, 1, 1, 0, 1, 1, 1, 0, 1, 1, 1, 1, 1,\n",
              "       0, 1, 0, 1, 1, 1, 0, 0, 0, 1, 1, 1, 1, 1, 1, 0, 0, 1, 0, 1, 1, 1,\n",
              "       0, 1, 1, 1, 0, 1, 1, 1, 1, 1, 1, 1, 1, 1, 1, 1, 0, 0, 0, 1, 1, 1,\n",
              "       0, 1, 1, 0, 0, 1, 1, 1, 1, 1, 1, 0, 0, 0, 1, 1, 1, 1, 1, 1, 1, 1,\n",
              "       1, 0, 1, 0, 1, 1, 1, 1, 0, 0, 1, 0, 0, 1, 0, 1, 1, 1, 1, 0, 1, 1,\n",
              "       1, 1, 1, 0, 1, 1, 1, 0, 1, 1, 1, 1, 1, 1, 1, 1, 1, 0, 1, 1])"
            ]
          },
          "metadata": {},
          "execution_count": 96
        }
      ]
    },
    {
      "cell_type": "code",
      "source": [
        "CM=confusion_matrix(Y_test,Y_Predict_Model_6)\n",
        "plt.figure(figsize=(6,4))\n",
        "fg=sn.heatmap(CM,annot=True,cmap='Blues')\n",
        "figure=fg.get_figure()\n",
        "figure.savefig('XGB.jpg',dpi=350)\n",
        "plt.xlabel(\"Predicted\")\n",
        "plt.ylabel(\"Actual\")\n",
        "plt.show()"
      ],
      "metadata": {
        "colab": {
          "base_uri": "https://localhost:8080/",
          "height": 388
        },
        "id": "kdxGndzxsiMa",
        "outputId": "d7cdb64b-0ae4-436a-d376-0f71c42ac65a"
      },
      "execution_count": null,
      "outputs": [
        {
          "output_type": "display_data",
          "data": {
            "text/plain": [
              "<Figure size 600x400 with 2 Axes>"
            ],
            "image/png": "[encoded data removed]"
          },
          "metadata": {}
        }
      ]
    },
    {
      "cell_type": "code",
      "source": [
        "print (classification_report(Y_test,Y_Predict_Model_6))\n",
        "\n",
        "print('Confusion matrix:')\n",
        "print(CM)\n"
      ],
      "metadata": {
        "colab": {
          "base_uri": "https://localhost:8080/"
        },
        "outputId": "20b6b408-ea37-4ffb-fc18-cab9a4b411b4",
        "id": "buGL9iibAe2K"
      },
      "execution_count": null,
      "outputs": [
        {
          "output_type": "stream",
          "name": "stdout",
          "text": [
            "              precision    recall  f1-score   support\n",
            "\n",
            "           0       0.93      0.79      0.86        34\n",
            "           1       0.94      0.98      0.96       118\n",
            "\n",
            "    accuracy                           0.94       152\n",
            "   macro avg       0.94      0.89      0.91       152\n",
            "weighted avg       0.94      0.94      0.94       152\n",
            "\n",
            "Confusion matrix:\n",
            "[[ 27   7]\n",
            " [  2 116]]\n"
          ]
        }
      ]
    },
    {
      "cell_type": "code",
      "source": [
        "from sklearn.metrics import accuracy_score"
      ],
      "metadata": {
        "id": "uqASIYAW_vLU"
      },
      "execution_count": null,
      "outputs": []
    },
    {
      "cell_type": "markdown",
      "source": [
        "Decision Tree Classifier improved 82.23684210526315\n",
        "XGB=86.18421052631578;\n",
        "Logistic Reg=86.8421052631579;\n",
        "Random Forest=82.23684210526315\n",
        "SVM=88.81578947368422\n"
      ],
      "metadata": {
        "id": "kQEV1p4gARK2"
      }
    },
    {
      "cell_type": "markdown",
      "source": [
        "DT"
      ],
      "metadata": {
        "id": "R5tTm8ypLe8u"
      }
    },
    {
      "cell_type": "code",
      "source": [
        "Model_3=tree.DecisionTreeClassifier()"
      ],
      "metadata": {
        "id": "EeSzVN1yLhfE"
      },
      "execution_count": null,
      "outputs": []
    },
    {
      "cell_type": "markdown",
      "source": [
        "SVM"
      ],
      "metadata": {
        "id": "q3gqtMj2OFWU"
      }
    },
    {
      "cell_type": "code",
      "source": [
        "Model_4=SVC(C=8)"
      ],
      "metadata": {
        "id": "qlnqvyg-_Kpv"
      },
      "execution_count": null,
      "outputs": []
    },
    {
      "cell_type": "code",
      "source": [
        "Model_5=RandomForestClassifier()"
      ],
      "metadata": {
        "id": "aZq5aTwVV9N5"
      },
      "execution_count": null,
      "outputs": []
    },
    {
      "cell_type": "markdown",
      "source": [
        "PCA For Linear Regression"
      ],
      "metadata": {
        "id": "LBLfOPbyKA19"
      }
    },
    {
      "cell_type": "code",
      "source": [
        "Model_5.fit(x_train_new,y_train)"
      ],
      "metadata": {
        "colab": {
          "base_uri": "https://localhost:8080/",
          "height": 75
        },
        "id": "WcrA_Qo3-PpL",
        "outputId": "2275abf7-0d76-4076-bb65-c11e528eab8e"
      },
      "execution_count": null,
      "outputs": [
        {
          "output_type": "execute_result",
          "data": {
            "text/plain": [
              "RandomForestClassifier()"
            ],
            "text/html": [
              "<style>#sk-container-id-48 {color: black;background-color: white;}#sk-container-id-48 pre{padding: 0;}#sk-container-id-48 div.sk-toggleable {background-color: white;}#sk-container-id-48 label.sk-toggleable__label {cursor: pointer;display: block;width: 100%;margin-bottom: 0;padding: 0.3em;box-sizing: border-box;text-align: center;}#sk-container-id-48 label.sk-toggleable__label-arrow:before {content: \"▸\";float: left;margin-right: 0.25em;color: #696969;}#sk-container-id-48 label.sk-toggleable__label-arrow:hover:before {color: black;}#sk-container-id-48 div.sk-estimator:hover label.sk-toggleable__label-arrow:before {color: black;}#sk-container-id-48 div.sk-toggleable__content {max-height: 0;max-width: 0;overflow: hidden;text-align: left;background-color: #f0f8ff;}#sk-container-id-48 div.sk-toggleable__content pre {margin: 0.2em;color: black;border-radius: 0.25em;background-color: #f0f8ff;}#sk-container-id-48 input.sk-toggleable__control:checked~div.sk-toggleable__content {max-height: 200px;max-width: 100%;overflow: auto;}#sk-container-id-48 input.sk-toggleable__control:checked~label.sk-toggleable__label-arrow:before {content: \"▾\";}#sk-container-id-48 div.sk-estimator input.sk-toggleable__control:checked~label.sk-toggleable__label {background-color: #d4ebff;}#sk-container-id-48 div.sk-label input.sk-toggleable__control:checked~label.sk-toggleable__label {background-color: #d4ebff;}#sk-container-id-48 input.sk-hidden--visually {border: 0;clip: rect(1px 1px 1px 1px);clip: rect(1px, 1px, 1px, 1px);height: 1px;margin: -1px;overflow: hidden;padding: 0;position: absolute;width: 1px;}#sk-container-id-48 div.sk-estimator {font-family: monospace;background-color: #f0f8ff;border: 1px dotted black;border-radius: 0.25em;box-sizing: border-box;margin-bottom: 0.5em;}#sk-container-id-48 div.sk-estimator:hover {background-color: #d4ebff;}#sk-container-id-48 div.sk-parallel-item::after {content: \"\";width: 100%;border-bottom: 1px solid gray;flex-grow: 1;}#sk-container-id-48 div.sk-label:hover label.sk-toggleable__label {background-color: #d4ebff;}#sk-container-id-48 div.sk-serial::before {content: \"\";position: absolute;border-left: 1px solid gray;box-sizing: border-box;top: 0;bottom: 0;left: 50%;z-index: 0;}#sk-container-id-48 div.sk-serial {display: flex;flex-direction: column;align-items: center;background-color: white;padding-right: 0.2em;padding-left: 0.2em;position: relative;}#sk-container-id-48 div.sk-item {position: relative;z-index: 1;}#sk-container-id-48 div.sk-parallel {display: flex;align-items: stretch;justify-content: center;background-color: white;position: relative;}#sk-container-id-48 div.sk-item::before, #sk-container-id-48 div.sk-parallel-item::before {content: \"\";position: absolute;border-left: 1px solid gray;box-sizing: border-box;top: 0;bottom: 0;left: 50%;z-index: -1;}#sk-container-id-48 div.sk-parallel-item {display: flex;flex-direction: column;z-index: 1;position: relative;background-color: white;}#sk-container-id-48 div.sk-parallel-item:first-child::after {align-self: flex-end;width: 50%;}#sk-container-id-48 div.sk-parallel-item:last-child::after {align-self: flex-start;width: 50%;}#sk-container-id-48 div.sk-parallel-item:only-child::after {width: 0;}#sk-container-id-48 div.sk-dashed-wrapped {border: 1px dashed gray;margin: 0 0.4em 0.5em 0.4em;box-sizing: border-box;padding-bottom: 0.4em;background-color: white;}#sk-container-id-48 div.sk-label label {font-family: monospace;font-weight: bold;display: inline-block;line-height: 1.2em;}#sk-container-id-48 div.sk-label-container {text-align: center;}#sk-container-id-48 div.sk-container {/* jupyter's `normalize.less` sets `[hidden] { display: none; }` but bootstrap.min.css set `[hidden] { display: none !important; }` so we also need the `!important` here to be able to override the default hidden behavior on the sphinx rendered scikit-learn.org. See: https://github.com/scikit-learn/scikit-learn/issues/21755 */display: inline-block !important;position: relative;}#sk-container-id-48 div.sk-text-repr-fallback {display: none;}</style><div id=\"sk-container-id-48\" class=\"sk-top-container\"><div class=\"sk-text-repr-fallback\"><pre>RandomForestClassifier()</pre><b>In a Jupyter environment, please rerun this cell to show the HTML representation or trust the notebook. <br />On GitHub, the HTML representation is unable to render, please try loading this page with nbviewer.org.</b></div><div class=\"sk-container\" hidden><div class=\"sk-item\"><div class=\"sk-estimator sk-toggleable\"><input class=\"sk-toggleable__control sk-hidden--visually\" id=\"sk-estimator-id-48\" type=\"checkbox\" checked><label for=\"sk-estimator-id-48\" class=\"sk-toggleable__label sk-toggleable__label-arrow\">RandomForestClassifier</label><div class=\"sk-toggleable__content\"><pre>RandomForestClassifier()</pre></div></div></div></div></div>"
            ]
          },
          "metadata": {},
          "execution_count": 684
        }
      ]
    },
    {
      "cell_type": "code",
      "source": [
        "y_pred_new =Model_5.predict(x_test_new)"
      ],
      "metadata": {
        "id": "S1c8Kxd3-aOF"
      },
      "execution_count": null,
      "outputs": []
    },
    {
      "cell_type": "code",
      "source": [
        "for i,j in enumerate(y_pred_new):\n",
        "  if (j<0.5):\n",
        "    y_pred_new[i]=0\n",
        "  else:\n",
        "    y_pred_new[i]=1\n",
        "print(y_pred_new)\n",
        "y_pred_new.shape"
      ],
      "metadata": {
        "colab": {
          "base_uri": "https://localhost:8080/"
        },
        "id": "uGq1zP0DESlU",
        "outputId": "596def1e-b52f-4dec-f992-e85af81f4e5b"
      },
      "execution_count": null,
      "outputs": [
        {
          "output_type": "stream",
          "name": "stdout",
          "text": [
            "[1 1 1 0 1 1 1 1 1 1 1 0 1 1 1 1 1 1 1 0 0 1 1 1 1 1 1 1 1 1 1 1 1 1 1 1 1\n",
            " 1 1 0 1 1 1 1 1 1 1 1 1 1 1 1 1 1 1 1 1 1 1 1 1 1 1 0 1 1 1 1 1 1 1 1 1 1\n",
            " 1 1 1 1 1 1 1 1 1 1 1 1 1 1 1 1 1 1 0 1 0 1 0 1 1 1 1 1 1 1 1 1 1 1 1 1 1\n",
            " 1 1 1 1 1 0 1 1 1 1 1 1 1 1 1 0 1 1 1 1 1 0 1 1 1 1 1 1 1 1 1 1 1 1 1 1 1\n",
            " 1 1 1 1 1 1 1 1 1 1 0 1 1 1 1 1 1 1 1 1 1 1 1 1 1 1 1 1 0 1 1 1 1 1 1 1 0\n",
            " 1 1 1 1 0 1 1 1 1 1 1 1 1 1 1 1 1 1 1 1 1 1 1 0 1 1 1 1 1 1 1 1 1 1 1 1 1\n",
            " 0 1 1 1 1]\n"
          ]
        },
        {
          "output_type": "execute_result",
          "data": {
            "text/plain": [
              "(227,)"
            ]
          },
          "metadata": {},
          "execution_count": 687
        }
      ]
    },
    {
      "cell_type": "code",
      "source": [
        "y_test=np.array(y_test)\n",
        "print(y_test)\n",
        "y_test.shape"
      ],
      "metadata": {
        "colab": {
          "base_uri": "https://localhost:8080/"
        },
        "id": "SnVy7KimEh3k",
        "outputId": "cfeafd15-f6d4-43f7-d872-88286ad10c8f"
      },
      "execution_count": null,
      "outputs": [
        {
          "output_type": "stream",
          "name": "stdout",
          "text": [
            "[0 1 1 0 1 0 1 1 1 1 1 0 1 1 1 0 1 1 1 0 0 1 1 1 1 1 1 1 1 1 1 1 1 1 1 1 1\n",
            " 1 1 1 1 1 1 1 1 1 1 1 0 0 0 1 1 1 1 1 1 1 1 1 1 0 1 0 1 0 1 1 1 1 1 0 1 0\n",
            " 1 1 1 1 1 1 1 0 0 1 1 1 0 1 1 1 1 0 0 1 0 1 0 1 1 0 0 0 1 0 1 1 1 1 1 1 1\n",
            " 1 1 0 1 1 0 1 1 0 0 1 1 1 1 0 1 1 0 1 0 1 0 1 1 1 1 1 1 1 0 0 1 1 1 1 1 1\n",
            " 0 1 1 0 1 1 1 1 0 1 0 1 0 0 0 1 1 0 0 1 0 0 1 1 1 0 1 1 0 1 1 1 1 1 0 1 0\n",
            " 1 1 1 1 0 1 1 1 1 0 1 0 1 1 1 0 1 1 1 1 1 0 1 0 1 1 1 1 1 1 0 1 0 1 1 1 1\n",
            " 0 1 0 1 1]\n"
          ]
        },
        {
          "output_type": "execute_result",
          "data": {
            "text/plain": [
              "(227,)"
            ]
          },
          "metadata": {},
          "execution_count": 688
        }
      ]
    },
    {
      "cell_type": "code",
      "source": [
        "x_test=np.array(x_test)"
      ],
      "metadata": {
        "id": "1fBi_qk6FFCk"
      },
      "execution_count": null,
      "outputs": []
    },
    {
      "cell_type": "code",
      "source": [
        "print(\"x_test_array  y_test\")\n",
        "for i,j in zip(y_pred_new,y_test):\n",
        "  print(i,\"          \",j)"
      ],
      "metadata": {
        "colab": {
          "base_uri": "https://localhost:8080/"
        },
        "id": "T3vS2CZTExnM",
        "outputId": "755068b3-243d-4c73-afc8-7671995c9285"
      },
      "execution_count": null,
      "outputs": [
        {
          "output_type": "stream",
          "name": "stdout",
          "text": [
            "x_test_array  y_test\n",
            "1            0\n",
            "1            1\n",
            "1            1\n",
            "0            0\n",
            "1            1\n",
            "1            0\n",
            "1            1\n",
            "1            1\n",
            "1            1\n",
            "1            1\n",
            "1            1\n",
            "0            0\n",
            "1            1\n",
            "1            1\n",
            "1            1\n",
            "1            0\n",
            "1            1\n",
            "1            1\n",
            "1            1\n",
            "0            0\n",
            "0            0\n",
            "1            1\n",
            "1            1\n",
            "1            1\n",
            "1            1\n",
            "1            1\n",
            "1            1\n",
            "1            1\n",
            "1            1\n",
            "1            1\n",
            "1            1\n",
            "1            1\n",
            "1            1\n",
            "1            1\n",
            "1            1\n",
            "1            1\n",
            "1            1\n",
            "1            1\n",
            "1            1\n",
            "0            1\n",
            "1            1\n",
            "1            1\n",
            "1            1\n",
            "1            1\n",
            "1            1\n",
            "1            1\n",
            "1            1\n",
            "1            1\n",
            "1            0\n",
            "1            0\n",
            "1            0\n",
            "1            1\n",
            "1            1\n",
            "1            1\n",
            "1            1\n",
            "1            1\n",
            "1            1\n",
            "1            1\n",
            "1            1\n",
            "1            1\n",
            "1            1\n",
            "1            0\n",
            "1            1\n",
            "1            0\n",
            "1            1\n",
            "0            0\n",
            "1            1\n",
            "1            1\n",
            "1            1\n",
            "1            1\n",
            "1            1\n",
            "1            0\n",
            "1            1\n",
            "1            0\n",
            "1            1\n",
            "1            1\n",
            "1            1\n",
            "1            1\n",
            "1            1\n",
            "1            1\n",
            "1            1\n",
            "1            0\n",
            "1            0\n",
            "1            1\n",
            "1            1\n",
            "1            1\n",
            "1            0\n",
            "1            1\n",
            "1            1\n",
            "1            1\n",
            "1            1\n",
            "1            0\n",
            "0            0\n",
            "1            1\n",
            "0            0\n",
            "1            1\n",
            "0            0\n",
            "1            1\n",
            "1            1\n",
            "0            0\n",
            "1            0\n",
            "1            0\n",
            "1            1\n",
            "1            0\n",
            "1            1\n",
            "1            1\n",
            "0            1\n",
            "1            1\n",
            "1            1\n",
            "1            1\n",
            "1            1\n",
            "1            1\n",
            "1            1\n",
            "1            0\n",
            "1            1\n",
            "1            1\n",
            "0            0\n",
            "1            1\n",
            "1            1\n",
            "1            0\n",
            "0            0\n",
            "1            1\n",
            "1            1\n",
            "1            1\n",
            "1            1\n",
            "1            0\n",
            "0            1\n",
            "1            1\n",
            "1            0\n",
            "1            1\n",
            "0            0\n",
            "1            1\n",
            "0            0\n",
            "1            1\n",
            "1            1\n",
            "1            1\n",
            "1            1\n",
            "1            1\n",
            "1            1\n",
            "1            1\n",
            "1            0\n",
            "1            0\n",
            "1            1\n",
            "1            1\n",
            "1            1\n",
            "1            1\n",
            "1            1\n",
            "1            1\n",
            "1            0\n",
            "1            1\n",
            "1            1\n",
            "1            0\n",
            "1            1\n",
            "1            1\n",
            "1            1\n",
            "1            1\n",
            "1            0\n",
            "1            1\n",
            "0            0\n",
            "1            1\n",
            "1            0\n",
            "1            0\n",
            "1            0\n",
            "1            1\n",
            "1            1\n",
            "1            0\n",
            "1            0\n",
            "1            1\n",
            "1            0\n",
            "1            0\n",
            "1            1\n",
            "1            1\n",
            "1            1\n",
            "1            0\n",
            "1            1\n",
            "1            1\n",
            "0            0\n",
            "1            1\n",
            "1            1\n",
            "1            1\n",
            "1            1\n",
            "1            1\n",
            "1            0\n",
            "1            1\n",
            "0            0\n",
            "1            1\n",
            "1            1\n",
            "1            1\n",
            "1            1\n",
            "0            0\n",
            "1            1\n",
            "1            1\n",
            "1            1\n",
            "1            1\n",
            "1            0\n",
            "1            1\n",
            "1            0\n",
            "1            1\n",
            "1            1\n",
            "1            1\n",
            "1            0\n",
            "1            1\n",
            "1            1\n",
            "1            1\n",
            "1            1\n",
            "1            1\n",
            "1            0\n",
            "1            1\n",
            "1            0\n",
            "1            1\n",
            "1            1\n",
            "1            1\n",
            "1            1\n",
            "1            1\n",
            "1            1\n",
            "1            0\n",
            "1            1\n",
            "1            0\n",
            "1            1\n",
            "1            1\n",
            "1            1\n",
            "1            1\n",
            "0            0\n",
            "1            1\n",
            "1            0\n",
            "1            1\n",
            "1            1\n"
          ]
        }
      ]
    },
    {
      "cell_type": "code",
      "source": [
        "accuracy_score(y_test, y_pred_new)*100"
      ],
      "metadata": {
        "colab": {
          "base_uri": "https://localhost:8080/"
        },
        "id": "_kpdcfVf-g3b",
        "outputId": "c74dd40e-8534-406e-ec66-26e50498ae23"
      },
      "execution_count": null,
      "outputs": [
        {
          "output_type": "execute_result",
          "data": {
            "text/plain": [
              "79.29515418502203"
            ]
          },
          "metadata": {},
          "execution_count": 691
        }
      ]
    },
    {
      "cell_type": "markdown",
      "source": [
        "Confusion Metrics After PCA"
      ],
      "metadata": {
        "id": "KsCEY-7PKGIl"
      }
    },
    {
      "cell_type": "code",
      "source": [
        "from sklearn.metrics import confusion_matrix\n",
        "import matplotlib.pyplot as plt\n"
      ],
      "metadata": {
        "id": "YMeKHykQGOtg"
      },
      "execution_count": null,
      "outputs": []
    },
    {
      "cell_type": "code",
      "source": [
        "CM=confusion_matrix(y_test,y_pred_new)\n",
        "CM"
      ],
      "metadata": {
        "colab": {
          "base_uri": "https://localhost:8080/"
        },
        "id": "7WsOdzIgGG7W",
        "outputId": "4a54a851-6ddc-44d4-960c-f097bb021104"
      },
      "execution_count": null,
      "outputs": [
        {
          "output_type": "execute_result",
          "data": {
            "text/plain": [
              "array([[ 16,  45],\n",
              "       [  2, 164]])"
            ]
          },
          "metadata": {},
          "execution_count": 693
        }
      ]
    },
    {
      "cell_type": "code",
      "source": [
        "print (classification_report(y_test,y_pred_new))\n",
        "\n",
        "print('Confusion matrix:')\n",
        "print(CM)"
      ],
      "metadata": {
        "colab": {
          "base_uri": "https://localhost:8080/"
        },
        "outputId": "93a5951c-e3d5-4a7e-be15-56e35b0db01e",
        "id": "W54PMokBGv3M"
      },
      "execution_count": null,
      "outputs": [
        {
          "output_type": "stream",
          "name": "stdout",
          "text": [
            "              precision    recall  f1-score   support\n",
            "\n",
            "           0       0.89      0.26      0.41        61\n",
            "           1       0.78      0.99      0.87       166\n",
            "\n",
            "    accuracy                           0.79       227\n",
            "   macro avg       0.84      0.63      0.64       227\n",
            "weighted avg       0.81      0.79      0.75       227\n",
            "\n",
            "Confusion matrix:\n",
            "[[ 16  45]\n",
            " [  2 164]]\n"
          ]
        }
      ]
    },
    {
      "cell_type": "code",
      "source": [
        "import seaborn as sn"
      ],
      "metadata": {
        "id": "NmIeLN5VM1cu"
      },
      "execution_count": null,
      "outputs": []
    },
    {
      "cell_type": "code",
      "source": [
        "CM=confusion_matrix(y_test,y_pred_new)\n",
        "plt.figure(figsize=(6,4))\n",
        "fg=sn.heatmap(CM,annot=True,cmap='Blues')\n",
        "figure=fg.get_figure()\n",
        "figure.savefig('XGB.jpg',dpi=350)\n",
        "plt.xlabel(\"Predicted\")\n",
        "plt.ylabel(\"Actual\")\n",
        "plt.show()"
      ],
      "metadata": {
        "colab": {
          "base_uri": "https://localhost:8080/",
          "height": 388
        },
        "outputId": "cbf24b0f-064d-4322-9c98-9edc055c8af7",
        "id": "yd9xjRBKM2D9"
      },
      "execution_count": null,
      "outputs": [
        {
          "output_type": "display_data",
          "data": {
            "text/plain": [
              "<Figure size 600x400 with 2 Axes>"
            ],
            "image/png": "[encoded data removed]"
          },
          "metadata": {}
        }
      ]
    },
    {
      "cell_type": "code",
      "source": [
        "list1=['Linear Regression','Logistic Regression','Decision Tree','Support Vector Machine','Random Forest','XGBClassifiers']\n",
        "list2=[Accuracy,Accuracy_2,Accuracy_3,Accuracy_4,Accuracy_5,Accuracy_6]"
      ],
      "metadata": {
        "id": "f-IYE0ZO93_v"
      },
      "execution_count": null,
      "outputs": []
    },
    {
      "cell_type": "code",
      "source": [
        "df_Accuracy=pd.DataFrame({'Supervised Models':list1,'Accuracy':list2})\n",
        "df_Accuracy"
      ],
      "metadata": {
        "colab": {
          "base_uri": "https://localhost:8080/",
          "height": 238
        },
        "id": "zOmozqEJA6DE",
        "outputId": "dbe31424-34cf-415d-f3d6-29be689dd14c"
      },
      "execution_count": null,
      "outputs": [
        {
          "output_type": "execute_result",
          "data": {
            "text/plain": [
              "        Supervised Models  Accuracy\n",
              "0       Linear Regression  0.680000\n",
              "1     Logistic Regression  0.809211\n",
              "2           Decision Tree  0.769737\n",
              "3  Support Vector Machine  0.894737\n",
              "4           Random Forest  0.835526\n",
              "5          XGBClassifiers  0.888158"
            ],
            "text/html": [
              "\n",
              "  <div id=\"df-317efd53-3277-4a58-9111-546c9df51acc\">\n",
              "    <div class=\"colab-df-container\">\n",
              "      <div>\n",
              "<style scoped>\n",
              "    .dataframe tbody tr th:only-of-type {\n",
              "        vertical-align: middle;\n",
              "    }\n",
              "\n",
              "    .dataframe tbody tr th {\n",
              "        vertical-align: top;\n",
              "    }\n",
              "\n",
              "    .dataframe thead th {\n",
              "        text-align: right;\n",
              "    }\n",
              "</style>\n",
              "<table border=\"1\" class=\"dataframe\">\n",
              "  <thead>\n",
              "    <tr style=\"text-align: right;\">\n",
              "      <th></th>\n",
              "      <th>Supervised Models</th>\n",
              "      <th>Accuracy</th>\n",
              "    </tr>\n",
              "  </thead>\n",
              "  <tbody>\n",
              "    <tr>\n",
              "      <th>0</th>\n",
              "      <td>Linear Regression</td>\n",
              "      <td>0.680000</td>\n",
              "    </tr>\n",
              "    <tr>\n",
              "      <th>1</th>\n",
              "      <td>Logistic Regression</td>\n",
              "      <td>0.809211</td>\n",
              "    </tr>\n",
              "    <tr>\n",
              "      <th>2</th>\n",
              "      <td>Decision Tree</td>\n",
              "      <td>0.769737</td>\n",
              "    </tr>\n",
              "    <tr>\n",
              "      <th>3</th>\n",
              "      <td>Support Vector Machine</td>\n",
              "      <td>0.894737</td>\n",
              "    </tr>\n",
              "    <tr>\n",
              "      <th>4</th>\n",
              "      <td>Random Forest</td>\n",
              "      <td>0.835526</td>\n",
              "    </tr>\n",
              "    <tr>\n",
              "      <th>5</th>\n",
              "      <td>XGBClassifiers</td>\n",
              "      <td>0.888158</td>\n",
              "    </tr>\n",
              "  </tbody>\n",
              "</table>\n",
              "</div>\n",
              "      <button class=\"colab-df-convert\" onclick=\"convertToInteractive('df-317efd53-3277-4a58-9111-546c9df51acc')\"\n",
              "              title=\"Convert this dataframe to an interactive table.\"\n",
              "              style=\"display:none;\">\n",
              "        \n",
              "  <svg xmlns=\"http://www.w3.org/2000/svg\" height=\"24px\"viewBox=\"0 0 24 24\"\n",
              "       width=\"24px\">\n",
              "    <path d=\"M0 0h24v24H0V0z\" fill=\"none\"/>\n",
              "    <path d=\"M18.56 5.44l.94 2.06.94-2.06 2.06-.94-2.06-.94-.94-2.06-.94 2.06-2.06.94zm-11 1L8.5 8.5l.94-2.06 2.06-.94-2.06-.94L8.5 2.5l-.94 2.06-2.06.94zm10 10l.94 2.06.94-2.06 2.06-.94-2.06-.94-.94-2.06-.94 2.06-2.06.94z\"/><path d=\"M17.41 7.96l-1.37-1.37c-.4-.4-.92-.59-1.43-.59-.52 0-1.04.2-1.43.59L10.3 9.45l-7.72 7.72c-.78.78-.78 2.05 0 2.83L4 21.41c.39.39.9.59 1.41.59.51 0 1.02-.2 1.41-.59l7.78-7.78 2.81-2.81c.8-.78.8-2.07 0-2.86zM5.41 20L4 18.59l7.72-7.72 1.47 1.35L5.41 20z\"/>\n",
              "  </svg>\n",
              "      </button>\n",
              "      \n",
              "  <style>\n",
              "    .colab-df-container {\n",
              "      display:flex;\n",
              "      flex-wrap:wrap;\n",
              "      gap: 12px;\n",
              "    }\n",
              "\n",
              "    .colab-df-convert {\n",
              "      background-color: #E8F0FE;\n",
              "      border: none;\n",
              "      border-radius: 50%;\n",
              "      cursor: pointer;\n",
              "      display: none;\n",
              "      fill: #1967D2;\n",
              "      height: 32px;\n",
              "      padding: 0 0 0 0;\n",
              "      width: 32px;\n",
              "    }\n",
              "\n",
              "    .colab-df-convert:hover {\n",
              "      background-color: #E2EBFA;\n",
              "      box-shadow: 0px 1px 2px rgba(60, 64, 67, 0.3), 0px 1px 3px 1px rgba(60, 64, 67, 0.15);\n",
              "      fill: #174EA6;\n",
              "    }\n",
              "\n",
              "    [theme=dark] .colab-df-convert {\n",
              "      background-color: #3B4455;\n",
              "      fill: #D2E3FC;\n",
              "    }\n",
              "\n",
              "    [theme=dark] .colab-df-convert:hover {\n",
              "      background-color: #434B5C;\n",
              "      box-shadow: 0px 1px 3px 1px rgba(0, 0, 0, 0.15);\n",
              "      filter: drop-shadow(0px 1px 2px rgba(0, 0, 0, 0.3));\n",
              "      fill: #FFFFFF;\n",
              "    }\n",
              "  </style>\n",
              "\n",
              "      <script>\n",
              "        const buttonEl =\n",
              "          document.querySelector('#df-317efd53-3277-4a58-9111-546c9df51acc button.colab-df-convert');\n",
              "        buttonEl.style.display =\n",
              "          google.colab.kernel.accessAllowed ? 'block' : 'none';\n",
              "\n",
              "        async function convertToInteractive(key) {\n",
              "          const element = document.querySelector('#df-317efd53-3277-4a58-9111-546c9df51acc');\n",
              "          const dataTable =\n",
              "            await google.colab.kernel.invokeFunction('convertToInteractive',\n",
              "                                                     [key], {});\n",
              "          if (!dataTable) return;\n",
              "\n",
              "          const docLinkHtml = 'Like what you see? Visit the ' +\n",
              "            '<a target=\"_blank\" href=https://colab.research.google.com/notebooks/data_table.ipynb>data table notebook</a>'\n",
              "            + ' to learn more about interactive tables.';\n",
              "          element.innerHTML = '';\n",
              "          dataTable['output_type'] = 'display_data';\n",
              "          await google.colab.output.renderOutput(dataTable, element);\n",
              "          const docLink = document.createElement('div');\n",
              "          docLink.innerHTML = docLinkHtml;\n",
              "          element.appendChild(docLink);\n",
              "        }\n",
              "      </script>\n",
              "    </div>\n",
              "  </div>\n",
              "  "
            ]
          },
          "metadata": {},
          "execution_count": 369
        }
      ]
    },
    {
      "cell_type": "code",
      "source": [
        "import seaborn as sns\n",
        "chart=sns.barplot(x='Supervised Models',y='Accuracy',data=df_Accuracy)\n",
        "chart.set_xticklabels(chart.get_xticklabels(),rotation=90)\n",
        "print(chart)"
      ],
      "metadata": {
        "colab": {
          "base_uri": "https://localhost:8080/",
          "height": 619
        },
        "id": "7dr3rKxzF3of",
        "outputId": "3a62dce6-69c7-4d7f-e58c-d1a9db537cf4"
      },
      "execution_count": null,
      "outputs": [
        {
          "output_type": "stream",
          "name": "stdout",
          "text": [
            "Axes(0.125,0.11;0.775x0.77)\n"
          ]
        },
        {
          "output_type": "display_data",
          "data": {
            "text/plain": [
              "<Figure size 640x480 with 1 Axes>"
            ],
            "image/png": "[encoded data removed]"
          },
          "metadata": {}
        }
      ]
    },
    {
      "cell_type": "markdown",
      "source": [
        "Building a Predictive System"
      ],
      "metadata": {
        "id": "-D8m6weGgjHO"
      }
    },
    {
      "cell_type": "code",
      "source": [
        "#Input_data = (0.85247,0.71826,0.57227,240,239,0.00806353,8.68E-05,0.00218,1.76E-05,0.00067,0.00129,0.002,0.05883,0.517,0.03011,0.03496,0.04828,0.09034,0.970805,0.036223,18.995,69.9974958,76.08804597,72.46551224,539.3427351,1031.84904,2447.162183,3655.054806,101.0922179,83.14744022,255.21483,396.6436311,0.77778,11.7245,2.8277,1.173,0.26512,0.083127,1200445.612,1.5347,3.0152,0.00046263,0.00025997,0.83621,209.6062,455.9654,1.2825,1.3305,51.6843,5.7784,23.261,0.2685,5.8573,0.20023,9.1817,11.4283,8.4781,2.4874,0.02292,0.55527,-1.6334,-1.5144,0.39725,0.61775,0.091821,0.54775,-0.0068247,-0.67274,-0.001013,-7.50E-05,-0.0033637,-0.00019208,0.0013567,-0.00089961,-0.003002,0.0015484,0.0051873,-0.00020542,-0.0047367,0.0024652,0.0025138,-0.0011875,-0.00017942,-0.00082784,-0.00049845,0.0013855,0.00017264,-0.00028585,0.00042833,-4.41E-05,-0.00033822,0.00043047,3.83E-05,-0.00035615,-7.62E-05,2.66E-05,0.34158,1.0279,0.65735,0.78036,0.30141,0.35418,0.19127,0.22892,0.3355,0.17101,0.28111,0.21511,0.16605,0.17762,0.049933,0.17226,0.089754,0.14627,0.040231,0.060808,0.030284,0.02883,0.042253,0.028115,0.04718,0.035775,0.020827,0.023057,0.016392,0.0788,0.043847,0.06641,0.021565,0.029594,0.015351,0.014642,0.019681,0.012829,0.021703,0.017089,0.010043,0.01213,99.9996,1.53E-07,8.86E-07,7.43E-06,2.10E-05,0.00010224,1.31E-05,4.06E-05,2.69E-05,1.04E-05,0.00020186,1.7166,5.5625,0.04894,-72.2192,-866.9373,-54.5335,-319.9468,-165.257,-42.9705,-2336.3644,-779.1377,-290.208,-78.3447,-10.7944,10.5089,-46.3816,-35.9347,-46.8515,-31.2923,-18.7456,0.0024859,0.02815,0.32455,1.5948,7.7828,2.3013,5.6628,3.5683,2.0302,44.7582,0.005012,0.046228,0.68635,3.5072,26.1213,3.7358,15.283,9.2028,4.7887,89.767,-34415952.86,-41505780.29,-54991273,-79779216.69,-129684181.7,-232253303.7,-459058057.8,-902118385.7,-1886558836,-3937753319,1116.2921,672.8105,445.4876,322.8542,262.2272,234.6861,231.969,227.8718,238.269,248.6663,572.1636,2023.8169,6477.7714,18923.0837,49173.8993,115701.9285,245931.5887,524800.1114,1049747.089,2101636.245,4181.8549,11092.1222,27917.7341,67151.7571,151463.1285,326874.1892,672089.5253,1381934.183,2777808.879,5547195.189,100,6.59E-09,3.86E-08,3.25E-07,9.05E-07,4.39E-06,5.71E-07,1.73E-06,1.15E-06,4.50E-07,8.71E-06,0.00033833,0.0016911,0.011168,0.026503,0.095478,0.01607,0.039222,0.029105,0.012719,0.14851,-1820.192,-871.5514,-446.3217,-261.8311,-182.3583,-210.734,-190.3697,-192.1166,-175.6679,-163.4186,1.62E-07,1.85E-06,2.15E-05,0.00010395,0.00050042,0.00015082,0.00036353,0.00022942,0.00013184,0.0029043,3.25E-07,3.04E-06,4.55E-05,0.00022608,0.0016888,0.00024467,0.00098152,0.0005974,0.00031087,0.0058211,-19278.0371,-25711.8622,-36938.137,-57264.6625,-98433.1856,-184901.7535,-381059.351,-776445.2329,-1676725.978,-3601122.613,414.6434,276.485,198.5803,153.8978,132.2489,124.1971,127.9812,130.3804,140.7776,151.1748,0.86121,3.0487,9.7825,28.5949,74.3411,174.9214,371.7296,793.068,1586.1824,3173.0448,6.299,16.7003,42.0762,101.0889,228.8489,493.8563,1015.7707,2091.946,4188.2456,8373.9278,1.11E-05,3.98E-06,4.92E-06,3.54E-06,7.19E-06,3.87E-05,0.00016363,0.0003761,0.00039246,0.0004061,0.00041458,0.00023899,0.0019048,0.012066,0.029439,0.037555,0.089055,0.17728,0.13122,0.051588,0.019785,0.05609,0.12525,0.057908,0.01007,0.057575,0.10807,0.032743,0.00025665,1.33E-05,6.75E-06,2.75E-06,2.04E-06,1.67E-06,1.11E-06,5.35E-05,0.20497,0.076626,0.091515,0.066105,0.12716,0.59587,2.1832,4.5851,4.6877,4.8635,4.884,2.818,18.8625,89.7525,174.692,189.5,360.7126,541.6719,422.8302,225.6461,99.3648,214.7895,337.8141,201.3841,53.7314,178.7287,230.2402,111.0346,2.2372,0.15901,0.083824,0.036109,0.027414,0.023151,0.015562,0.55112,-2037542.225,-1802551.782,-1485424.634,-1245979.172,-991083.9631,-745188.5092,-560498.2903,-432705.197,-352797.2473,-281439.269,-229943.2967,-201985.0408,-127736.2777,-83962.4084,-62201.7084,-52209.7866,-34671.0477,-23650.0278,-20345.6618,-18507.9939,-19238.3429,-11545.4036,-7369.2484,-7030.0263,-8442.5303,-4459.3054,-2800.8383,-3160.3491,-6399.2202,-7011.7391,-6228.1902,-5536.5796,-4540.083,-3726.2679,-3190.1752,-2528.9188,1.61E-07,7.56E-08,1.35E-07,9.89E-08,1.67E-07,1.13E-06,6.78E-06,2.44E-05,2.95E-05,3.58E-05,5.03E-05,2.33E-05,0.00012787,0.0017165,0.0069193,0.008643,0.023558,0.074782,0.064414,0.030886,0.010913,0.032924,0.13939,0.069247,0.00481,0.07756,0.25704,0.073123,0.00040142,4.43E-05,2.98E-05,1.30E-05,1.22E-05,1.26E-05,1.01E-05,1.44E-05,9.97E-07,4.14E-07,5.22E-07,6.11E-07,8.58E-07,2.53E-06,1.50E-05,4.83E-05,5.90E-05,5.87E-05,7.36E-05,5.90E-05,0.00018979,0.0012918,0.0065317,0.013296,0.02762,0.071125,0.063262,0.020787,0.01234,0.027799,0.080709,0.032363,0.0092097,0.024016,0.050924,0.017784,0.0004321,6.20E-05,4.36E-05,2.30E-05,1.77E-05,1.23E-05,9.74E-06,0.00011957,8.19E-07,2.37E-07,5.77E-20,2.84E-07,0,9.30E-07,-1.27E-07,-1.41E-18,9.16E-06,-1.71E-06,-3.10E-05,-9.93E-19,-5.56E-18,0.00056006,1.03E-05,0,0,-6.10E-17,-0.00038921,0,3.81E-17,6.15E-17,6.74E-17,0,0,-2.22E-17,-0.013372,0.056236,0.0004446,2.85E-19,0.00014027,-8.36E-05,-0.00016867,-0.00020162,-4.27E-05,-0.01432,-2.89E-21,-3.77E-21,1.70E-22,-9.18E-22,-3.98E-22,-2.86E-21,-3.52E-22,1.06E-21,1.23E-20,-1.36E-20,-1.63E-20,-2.63E-21,1.84E-21,1.34E-19,-2.65E-20,1.82E-21,9.60E-20,-7.50E-20,-1.06E-18,7.54E-21,-6.33E-20,-1.25E-18,-1.90E-18,-2.42E-19,9.38E-20,-7.21E-19,1.84E-18,-1.85E-18,-7.29E-21,2.04E-20,0,6.53E-20,-2.02E-20,7.96E-20,1.87E-20,-0.01461,0.00034139,0.00022424,0.00027317,0.00025393,0.00039625,0.0010075,0.0022682,0.003767,0.0042153,0.0046972,0.0051989,0.0043241,0.013373,0.036869,0.063087,0.078064,0.13169,0.20354,0.1918,0.13177,0.089375,0.16487,0.26991,0.20099,0.091819,0.24065,0.36097,0.21776,0.021112,0.0052758,0.0041096,0.0028762,0.0027106,0.0026957,0.0024093,0.0029658,-0.0096443,-0.005025,-0.0064911,-0.006014,-0.0085182,-0.0092406,-0.016506,-0.026006,-0.026273,-0.02416,-0.026321,-0.024286,-0.048924,-0.10839,-0.19432,-0.29603,-0.46639,-0.61778,-0.596,-0.32867,-0.26301,-0.44541,-0.66075,-0.45846,-0.2454,-0.45883,-0.65524,-0.36007,-0.060063,-0.017824,-0.013598,-0.012346,-0.009196,-0.0069326,-0.006569,-0.035389,0.01432,0.0066623,0.0064911,0.0074746,0.0085182,0.0094429,0.01609,0.026006,0.028117,0.025222,0.022796,0.024286,0.048924,0.10575,0.20486,0.29603,0.46639,0.61778,0.59309,0.32867,0.26301,0.44541,0.66075,0.45846,0.2454,0.45883,0.64375,0.39877,0.056849,0.017824,0.014505,0.0084926,0.009728,0.0067535,0.0060726,-0.0090458,0.86453,0.43538,1.11E-15,0.36745,0,-0.0043099,-0.0053825,-1.11E-17,-0.00082879,0.0016047,-0.00036202,1.01E-15,-5.85E-17,-0.0031426,0.0074332,1.51E-17,2.21E-17,-9.37E-18,0.0007342,-4.33E-18,-4.47E-17,-1.39E-17,-3.50E-17,-4.29E-19,-9.66E-18,-1.66E-17,0.00011457,-0.1029,0.030756,7.07E-17,-0.086911,-0.28507,-0.17362,0.071728,0.010352,-2.7303,66.5007,36.9934,26.3508,51.9577,21.5451,8.2488,8.0024,6.9635,6.9189,5.0622,4.6068,7.7218,2.7224,2.4171,2.9383,4.2077,3.1541,2.8531,2.7496,2.155,2.9457,2.1993,1.983,1.8314,2.0062,1.6058,1.5466,1.562,2.6445,3.8686,4.2105,5.1221,4.4625,2.6202,3.0004,18.9405)\n",
        "Input_data=(0.82163,0.8077,0.48638,325,324,0.005940947,4.85E-05,0.00105,6.22E-06,0.00022,0.00051,0.00066,0.05181,0.49,0.0244,0.03243,0.04805,0.0732,0.991289,0.008833,22.514,51.98361269,60.25165477,56.6554716,446.7450418,1246.391096,2212.983322,3130.831238,187.4785542,113.8647028,184.299008,45.58689263,0.58347,52.2607,27.8889,1.3612,0.43542,0.11666,816844.9227,1.5832,2.9549,0.00094651,0.0016654,1.9335,213.8858,117.0721,1.2563,1.1821,5.6717,0.62171,3.3192,0.28887,33.4759,0.22764,9.8284,7.7368,10.8203,3.0492,-0.87766,0.85818,0.7007,-0.6818,-0.85959,0.15874,-0.31494,-1.1749,-0.68424,0.56442,-0.0053943,-0.011614,0.0020621,-0.00061084,-0.0011319,-0.0017928,-0.0028621,-0.0037185,-0.0019231,0.00040306,0.0013495,0.0020245,0.0016967,-0.00022486,0.00029892,0.0025418,-0.0024408,0.00040312,0.001303,-0.00022563,-0.00023852,-1.86E-05,-0.0003838,-0.00056941,9.91E-05,0.00045999,-0.00027864,-0.00043298,0.43451,2.107,1.7442,0.36924,0.86696,0.41254,0.46211,0.40645,0.40634,0.3043,0.27941,0.36941,0.26682,0.27672,0.051995,0.34783,0.30234,0.074457,0.15468,0.066584,0.081558,0.068753,0.077641,0.040072,0.042111,0.051727,0.039792,0.04526,0.015731,0.16625,0.14773,0.032001,0.07084,0.030206,0.037147,0.029341,0.030904,0.02078,0.018458,0.02423,0.018278,0.02369,99.9998,2.40E-07,1.53E-06,1.62E-05,2.11E-05,1.08E-05,7.12E-05,1.75E-05,4.06E-05,8.84E-06,1.12E-05,3.7312,9.3399,-108.7979,-189.288,-90.7545,-1397.9973,-212.1174,-679.3888,-88.2708,-116.9027,-657.3791,-212.1093,-49.8578,-7.3942,-30.3935,-16.9674,-40.4284,-12.4468,-22.852,-19.2292,0.0079633,0.10966,1.3602,4.3654,1.678,18.6103,5.6054,18.6008,2.4677,3.0202,0.015343,0.17483,2.3972,5.1132,5.0486,47.1892,9.2598,33.4129,5.9591,6.7994,-67374761.69,-80850415.31,-106574126,-153778480.1,-248776434.7,-443732784.8,-875117141.1,-1715475060,-3581511126,-7464144727,1182.6163,710.1894,468.7031,338.6741,274.3523,244.9634,241.6387,236.9279,247.3252,257.7224,1053.2773,3721.6434,11919.4827,34857.2451,90627.234,213137.282,453168.5353,967655.6041,1935198.316,3870001.956,7700.311,20407.5547,51291.0444,123046.5705,278804.0963,601115.8221,1241911.509,2553582.369,5107233.085,10213081.23,100,9.10E-09,5.77E-08,6.07E-07,7.93E-07,4.10E-07,2.66E-06,6.52E-07,1.51E-06,3.31E-07,4.24E-07,0.00050786,0.0027169,0.021345,0.026243,0.013773,0.061592,0.019681,0.039038,0.01064,0.013436,-1765.2626,-837.5022,-441.5327,-273.9388,-235.6742,-191.2267,-203.7167,-166.4106,-176.7989,-174.568,2.80E-07,3.86E-06,4.76E-05,0.00015224,5.85E-05,0.00064507,0.00019421,0.00064211,8.57E-05,0.00010629,5.42E-07,6.17E-06,8.40E-05,0.00017705,0.00017837,0.0016342,0.00032089,0.001153,0.00020668,0.00023708,-22513.1319,-29873.8084,-42748.0492,-66055.3663,-113245.9824,-212279.2443,-436842.7548,-888925.1798,-1917672.241,-4114988.254,427.9794,284.001,203.2485,157.0789,134.6872,126.2638,129.9258,132.2016,142.5988,152.996,0.97367,3.4463,11.0603,32.3339,84.0705,197.7972,420.3656,896.9414,1793.8628,3587.6533,7.1217,18.8785,47.5607,114.2093,258.723,558.262,1149.2915,2367.013,4734.0295,9467.8191,8.55E-07,3.12E-07,3.10E-07,3.43E-07,3.95E-07,6.20E-07,4.69E-06,2.83E-05,0.00010082,0.00022488,0.00023148,0.00069267,0.0033365,0.0054544,0.0020912,0.0027301,0.012004,0.031476,0.055409,0.046494,0.059304,0.054243,0.016964,0.12693,0.35543,0.21836,0.0079582,0.00023134,0.00010919,8.23E-05,5.17E-05,3.44E-05,1.34E-05,3.49E-06,2.70E-06,5.81E-06,0.00040371,0.00015664,0.00015166,0.00016255,0.00018145,0.00031755,0.0027501,0.015251,0.049831,0.10372,0.10508,0.28872,1.2083,1.8563,0.75817,0.95972,3.5534,8.1359,13.2576,10.9149,13.2737,11.9469,4.2029,23.3229,51.3422,33.7254,2.0106,0.080039,0.040594,0.031146,0.02018,0.0136,0.0056588,0.001596,0.0012075,0.0022172,-2932994.264,-2564874.461,-2146018.291,-1789165.811,-1489476.761,-1149950.779,-826243.1221,-618080.9011,-473401.4139,-372795.6416,-307351.8738,-233309.2992,-169725.8121,-133823.4508,-119984.6993,-94831.2377,-68651.6175,-51753.2106,-38487.9294,-32883.3225,-25556.935,-21167.2844,-20076.8344,-12246.3172,-8380.5278,-7295.6004,-9557.1013,-11155.8475,-9645.332,-8022.2797,-6815.6531,-5845.8121,-5088.9607,-4569.4286,-3910.9917,-4970.8243,2.71E-10,1.51E-10,1.78E-10,2.34E-10,3.23E-10,4.71E-10,3.00E-09,3.49E-08,1.62E-07,5.54E-07,6.63E-07,1.16E-06,1.20E-05,3.15E-05,1.13E-05,1.14E-05,8.54E-05,0.00028111,0.00074216,0.00062213,0.0010694,0.0013502,0.00014363,0.0025138,0.014539,0.010655,0.0001959,1.44E-05,8.24E-06,7.96E-06,5.70E-06,4.86E-06,2.18E-06,6.24E-07,6.15E-07,8.10E-07,3.50E-08,1.37E-08,1.51E-08,1.89E-08,2.46E-08,3.27E-08,4.28E-08,7.22E-08,2.18E-07,6.80E-07,8.91E-07,1.61E-06,1.04E-05,2.56E-05,1.35E-05,1.28E-05,7.79E-05,0.00028455,0.00046267,0.00062364,0.00072828,0.00099401,0.00045107,0.0014111,0.0074133,0.005414,0.00023132,3.11E-05,1.33E-05,9.19E-06,6.45E-06,5.07E-06,2.22E-06,8.60E-07,1.24E-06,4.47E-06,2.82E-08,1.26E-08,1.80E-21,-2.19E-08,0,-2.60E-08,7.31E-07,2.87E-20,-2.26E-06,-4.41E-07,-1.09E-06,-3.55E-19,-2.02E-19,4.37E-05,-3.15E-05,0,0,0,9.40E-05,0,2.51E-18,7.69E-18,4.36E-18,0,0,1.27E-17,0.00086212,4.26E-05,6.45E-05,2.85E-19,-1.98E-05,8.81E-06,-6.81E-05,-4.16E-06,-3.91E-05,-6.97E-06,-3.06E-22,9.29E-23,7.70E-23,2.36E-22,7.65E-24,2.84E-22,-3.47E-22,7.14E-22,-3.81E-22,-1.66E-21,-1.14E-21,-1.64E-22,4.27E-21,-3.79E-21,1.88E-20,3.30E-21,-1.98E-21,2.42E-20,8.32E-20,-1.23E-20,1.24E-19,-1.09E-19,4.56E-20,-7.81E-21,-2.44E-19,7.24E-19,2.03E-20,-3.24E-20,2.43E-21,2.12E-20,-2.10E-20,-1.58E-20,-7.56E-21,-2.27E-21,2.00E-20,6.61E-05,1.54E-05,1.02E-05,1.12E-05,1.28E-05,1.51E-05,2.07E-05,6.25E-05,0.00016807,0.00034739,0.00056832,0.00063163,0.0011969,0.0028777,0.0040305,0.0027339,0.0034221,0.0078609,0.013944,0.020264,0.020339,0.025158,0.026362,0.01615,0.048382,0.088694,0.0762,0.015927,0.0029761,0.002239,0.0021317,0.001849,0.0016551,0.0011316,0.00063285,0.00061038,0.00079738,-0.0026853,-0.0012025,-0.0012097,-0.0013802,-0.0015483,-0.0017097,-0.0018344,-0.0022532,-0.0020448,-0.002889,-0.0035731,-0.0049885,-0.0092828,-0.011572,-0.0096211,-0.011675,-0.026667,-0.04355,-0.051119,-0.055245,-0.063188,-0.068003,-0.079904,-0.11185,-0.2047,-0.17449,-0.037278,-0.018094,-0.0073307,-0.0077803,-0.0048696,-0.00397,-0.0029327,-0.0015027,-0.0019556,-0.0015263,0.0018839,0.00094437,0.0012097,0.001226,0.0015483,0.0016797,0.001923,0.0022532,0.0027047,0.0027836,0.0028141,0.0049885,0.0092828,0.011431,0.0098025,0.011675,0.026667,0.04355,0.051916,0.055245,0.063188,0.068003,0.079904,0.11185,0.2047,0.17449,0.051467,0.017417,0.010131,0.0077803,0.0062265,0.0047259,0.0031197,0.0023464,0.0028354,0.0071343,-58.0296,-22.0313,1.83E-15,-8.7442,-4.24E-15,1.3853,0.28662,-8.92E-16,0.054393,-0.004095,-0.023989,-4.66E-17,2.11E-18,-0.00089237,0.0068649,6.96E-18,5.86E-18,6.08E-18,-0.001418,-1.52E-17,3.01E-17,-2.32E-18,-3.78E-17,1.75E-17,2.00E-18,4.31E-17,0.020711,-0.06462,0.072316,1.96E-17,0.20291,0.0077989,0.03866,0.51972,0.59721,5.0686,19421.411,8804.5923,7944.306,7744.0906,7519.2261,3980.9329,89.0776,6.6566,3.8174,3.6837,3.8137,2.9737,2.5309,2.5113,2.9814,2.6013,2.7156,2.5716,2.0741,2.4424,2.195,2.2661,3.0493,1.9199,1.8839,1.8792,2.3436,8.1714,4.2304,3.2091,2.9387,2.7929,2.7278,3.7322,6.9761,44.1335)\n",
        "Input_data_as_numpy_array = np.asarray(Input_data)\n",
        "Input_data_reshaped = Input_data_as_numpy_array.reshape(1,-1)"
      ],
      "metadata": {
        "id": "EgfbAjMXhdKW"
      },
      "execution_count": null,
      "outputs": []
    },
    {
      "cell_type": "code",
      "source": [
        "SC1=StandardScaler()\n",
        "std_data=np.array(SC1.fit_transform(Input_data_reshaped))"
      ],
      "metadata": {
        "id": "5dfAVi0VjBKD"
      },
      "execution_count": null,
      "outputs": []
    },
    {
      "cell_type": "code",
      "source": [
        "Prediction = Model_6.predict(std_data)\n",
        "print(Prediction)\n",
        "if (Prediction[0] == 0):\n",
        "  print(\"The Person does not have Parkinsons Disease\")\n",
        "\n",
        "else:\n",
        "  print(\"The Person has Parkinsons\")"
      ],
      "metadata": {
        "colab": {
          "base_uri": "https://localhost:8080/"
        },
        "id": "YGzD5VnFkmSJ",
        "outputId": "49a76c5c-f4c7-4650-fe54-e6d6db86bc38"
      },
      "execution_count": null,
      "outputs": [
        {
          "output_type": "stream",
          "name": "stdout",
          "text": [
            "[1]\n",
            "The Person has Parkinsons\n"
          ]
        }
      ]
    }
  ]
}